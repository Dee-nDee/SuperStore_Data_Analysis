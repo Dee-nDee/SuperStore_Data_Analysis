{
 "cells": [
  {
   "cell_type": "code",
   "execution_count": 1,
   "id": "141c6054",
   "metadata": {},
   "outputs": [],
   "source": [
    "#import libraries \n",
    "import numpy as np \n",
    "import pandas as pd \n",
    "import matplotlib.pyplot as plt \n",
    "import seaborn as sb \n",
    "sb.set_style(\"darkgrid\") \n",
    "\n",
    "%matplotlib inline "
   ]
  },
  {
   "cell_type": "code",
   "execution_count": 2,
   "id": "303420b4",
   "metadata": {},
   "outputs": [],
   "source": [
    "#load dataset \n",
    "samp_superstore = pd.read_csv(\"sample_superstore.csv\") \n"
   ]
  },
  {
   "cell_type": "markdown",
   "id": "80ad4e73",
   "metadata": {},
   "source": [
    "## Data Wrangling\n",
    "\n",
    "### Assessment"
   ]
  },
  {
   "cell_type": "code",
   "execution_count": 3,
   "id": "7635b7fe",
   "metadata": {},
   "outputs": [
    {
     "data": {
      "text/html": [
       "<div>\n",
       "<style scoped>\n",
       "    .dataframe tbody tr th:only-of-type {\n",
       "        vertical-align: middle;\n",
       "    }\n",
       "\n",
       "    .dataframe tbody tr th {\n",
       "        vertical-align: top;\n",
       "    }\n",
       "\n",
       "    .dataframe thead th {\n",
       "        text-align: right;\n",
       "    }\n",
       "</style>\n",
       "<table border=\"1\" class=\"dataframe\">\n",
       "  <thead>\n",
       "    <tr style=\"text-align: right;\">\n",
       "      <th></th>\n",
       "      <th>Ship Mode</th>\n",
       "      <th>Segment</th>\n",
       "      <th>Country</th>\n",
       "      <th>City</th>\n",
       "      <th>State</th>\n",
       "      <th>Postal Code</th>\n",
       "      <th>Region</th>\n",
       "      <th>Category</th>\n",
       "      <th>Sub-Category</th>\n",
       "      <th>Sales</th>\n",
       "      <th>Quantity</th>\n",
       "      <th>Discount</th>\n",
       "      <th>Profit</th>\n",
       "    </tr>\n",
       "  </thead>\n",
       "  <tbody>\n",
       "    <tr>\n",
       "      <th>8231</th>\n",
       "      <td>Second Class</td>\n",
       "      <td>Consumer</td>\n",
       "      <td>United States</td>\n",
       "      <td>Sandy Springs</td>\n",
       "      <td>Georgia</td>\n",
       "      <td>30328</td>\n",
       "      <td>South</td>\n",
       "      <td>Furniture</td>\n",
       "      <td>Bookcases</td>\n",
       "      <td>1266.860</td>\n",
       "      <td>7</td>\n",
       "      <td>0.0</td>\n",
       "      <td>291.3778</td>\n",
       "    </tr>\n",
       "    <tr>\n",
       "      <th>9705</th>\n",
       "      <td>Standard Class</td>\n",
       "      <td>Consumer</td>\n",
       "      <td>United States</td>\n",
       "      <td>San Francisco</td>\n",
       "      <td>California</td>\n",
       "      <td>94122</td>\n",
       "      <td>West</td>\n",
       "      <td>Office Supplies</td>\n",
       "      <td>Binders</td>\n",
       "      <td>39.624</td>\n",
       "      <td>3</td>\n",
       "      <td>0.2</td>\n",
       "      <td>13.8684</td>\n",
       "    </tr>\n",
       "    <tr>\n",
       "      <th>3479</th>\n",
       "      <td>Standard Class</td>\n",
       "      <td>Corporate</td>\n",
       "      <td>United States</td>\n",
       "      <td>San Francisco</td>\n",
       "      <td>California</td>\n",
       "      <td>94110</td>\n",
       "      <td>West</td>\n",
       "      <td>Office Supplies</td>\n",
       "      <td>Paper</td>\n",
       "      <td>45.360</td>\n",
       "      <td>7</td>\n",
       "      <td>0.0</td>\n",
       "      <td>21.7728</td>\n",
       "    </tr>\n",
       "    <tr>\n",
       "      <th>1715</th>\n",
       "      <td>Standard Class</td>\n",
       "      <td>Consumer</td>\n",
       "      <td>United States</td>\n",
       "      <td>New York City</td>\n",
       "      <td>New York</td>\n",
       "      <td>10011</td>\n",
       "      <td>East</td>\n",
       "      <td>Office Supplies</td>\n",
       "      <td>Binders</td>\n",
       "      <td>7.712</td>\n",
       "      <td>2</td>\n",
       "      <td>0.2</td>\n",
       "      <td>2.7956</td>\n",
       "    </tr>\n",
       "    <tr>\n",
       "      <th>7486</th>\n",
       "      <td>Second Class</td>\n",
       "      <td>Home Office</td>\n",
       "      <td>United States</td>\n",
       "      <td>Dover</td>\n",
       "      <td>New Hampshire</td>\n",
       "      <td>3820</td>\n",
       "      <td>East</td>\n",
       "      <td>Office Supplies</td>\n",
       "      <td>Paper</td>\n",
       "      <td>29.900</td>\n",
       "      <td>5</td>\n",
       "      <td>0.0</td>\n",
       "      <td>14.6510</td>\n",
       "    </tr>\n",
       "    <tr>\n",
       "      <th>5722</th>\n",
       "      <td>First Class</td>\n",
       "      <td>Corporate</td>\n",
       "      <td>United States</td>\n",
       "      <td>Springfield</td>\n",
       "      <td>Oregon</td>\n",
       "      <td>97477</td>\n",
       "      <td>West</td>\n",
       "      <td>Technology</td>\n",
       "      <td>Accessories</td>\n",
       "      <td>159.968</td>\n",
       "      <td>4</td>\n",
       "      <td>0.2</td>\n",
       "      <td>29.9940</td>\n",
       "    </tr>\n",
       "    <tr>\n",
       "      <th>4380</th>\n",
       "      <td>Standard Class</td>\n",
       "      <td>Consumer</td>\n",
       "      <td>United States</td>\n",
       "      <td>San Francisco</td>\n",
       "      <td>California</td>\n",
       "      <td>94110</td>\n",
       "      <td>West</td>\n",
       "      <td>Office Supplies</td>\n",
       "      <td>Art</td>\n",
       "      <td>60.450</td>\n",
       "      <td>3</td>\n",
       "      <td>0.0</td>\n",
       "      <td>16.3215</td>\n",
       "    </tr>\n",
       "    <tr>\n",
       "      <th>4117</th>\n",
       "      <td>Standard Class</td>\n",
       "      <td>Consumer</td>\n",
       "      <td>United States</td>\n",
       "      <td>Los Angeles</td>\n",
       "      <td>California</td>\n",
       "      <td>90036</td>\n",
       "      <td>West</td>\n",
       "      <td>Office Supplies</td>\n",
       "      <td>Paper</td>\n",
       "      <td>19.440</td>\n",
       "      <td>3</td>\n",
       "      <td>0.0</td>\n",
       "      <td>9.3312</td>\n",
       "    </tr>\n",
       "    <tr>\n",
       "      <th>9002</th>\n",
       "      <td>Standard Class</td>\n",
       "      <td>Corporate</td>\n",
       "      <td>United States</td>\n",
       "      <td>Sandy Springs</td>\n",
       "      <td>Georgia</td>\n",
       "      <td>30328</td>\n",
       "      <td>South</td>\n",
       "      <td>Office Supplies</td>\n",
       "      <td>Paper</td>\n",
       "      <td>15.240</td>\n",
       "      <td>3</td>\n",
       "      <td>0.0</td>\n",
       "      <td>7.1628</td>\n",
       "    </tr>\n",
       "    <tr>\n",
       "      <th>9610</th>\n",
       "      <td>Second Class</td>\n",
       "      <td>Consumer</td>\n",
       "      <td>United States</td>\n",
       "      <td>Los Angeles</td>\n",
       "      <td>California</td>\n",
       "      <td>90045</td>\n",
       "      <td>West</td>\n",
       "      <td>Office Supplies</td>\n",
       "      <td>Labels</td>\n",
       "      <td>27.720</td>\n",
       "      <td>9</td>\n",
       "      <td>0.0</td>\n",
       "      <td>13.3056</td>\n",
       "    </tr>\n",
       "  </tbody>\n",
       "</table>\n",
       "</div>"
      ],
      "text/plain": [
       "           Ship Mode      Segment        Country           City  \\\n",
       "8231    Second Class     Consumer  United States  Sandy Springs   \n",
       "9705  Standard Class     Consumer  United States  San Francisco   \n",
       "3479  Standard Class    Corporate  United States  San Francisco   \n",
       "1715  Standard Class     Consumer  United States  New York City   \n",
       "7486    Second Class  Home Office  United States          Dover   \n",
       "5722     First Class    Corporate  United States    Springfield   \n",
       "4380  Standard Class     Consumer  United States  San Francisco   \n",
       "4117  Standard Class     Consumer  United States    Los Angeles   \n",
       "9002  Standard Class    Corporate  United States  Sandy Springs   \n",
       "9610    Second Class     Consumer  United States    Los Angeles   \n",
       "\n",
       "              State  Postal Code Region         Category Sub-Category  \\\n",
       "8231        Georgia        30328  South        Furniture    Bookcases   \n",
       "9705     California        94122   West  Office Supplies      Binders   \n",
       "3479     California        94110   West  Office Supplies        Paper   \n",
       "1715       New York        10011   East  Office Supplies      Binders   \n",
       "7486  New Hampshire         3820   East  Office Supplies        Paper   \n",
       "5722         Oregon        97477   West       Technology  Accessories   \n",
       "4380     California        94110   West  Office Supplies          Art   \n",
       "4117     California        90036   West  Office Supplies        Paper   \n",
       "9002        Georgia        30328  South  Office Supplies        Paper   \n",
       "9610     California        90045   West  Office Supplies       Labels   \n",
       "\n",
       "         Sales  Quantity  Discount    Profit  \n",
       "8231  1266.860         7       0.0  291.3778  \n",
       "9705    39.624         3       0.2   13.8684  \n",
       "3479    45.360         7       0.0   21.7728  \n",
       "1715     7.712         2       0.2    2.7956  \n",
       "7486    29.900         5       0.0   14.6510  \n",
       "5722   159.968         4       0.2   29.9940  \n",
       "4380    60.450         3       0.0   16.3215  \n",
       "4117    19.440         3       0.0    9.3312  \n",
       "9002    15.240         3       0.0    7.1628  \n",
       "9610    27.720         9       0.0   13.3056  "
      ]
     },
     "execution_count": 3,
     "metadata": {},
     "output_type": "execute_result"
    }
   ],
   "source": [
    "#view random rows of the dataset \n",
    "samp_superstore.sample(10)"
   ]
  },
  {
   "cell_type": "code",
   "execution_count": 4,
   "id": "9ceebb6b",
   "metadata": {},
   "outputs": [
    {
     "name": "stdout",
     "output_type": "stream",
     "text": [
      "<class 'pandas.core.frame.DataFrame'>\n",
      "RangeIndex: 9994 entries, 0 to 9993\n",
      "Data columns (total 13 columns):\n",
      " #   Column        Non-Null Count  Dtype  \n",
      "---  ------        --------------  -----  \n",
      " 0   Ship Mode     9994 non-null   object \n",
      " 1   Segment       9994 non-null   object \n",
      " 2   Country       9994 non-null   object \n",
      " 3   City          9994 non-null   object \n",
      " 4   State         9994 non-null   object \n",
      " 5   Postal Code   9994 non-null   int64  \n",
      " 6   Region        9994 non-null   object \n",
      " 7   Category      9994 non-null   object \n",
      " 8   Sub-Category  9994 non-null   object \n",
      " 9   Sales         9994 non-null   float64\n",
      " 10  Quantity      9994 non-null   int64  \n",
      " 11  Discount      9994 non-null   float64\n",
      " 12  Profit        9994 non-null   float64\n",
      "dtypes: float64(3), int64(2), object(8)\n",
      "memory usage: 1015.1+ KB\n"
     ]
    }
   ],
   "source": [
    "#obtain descriptive summary of the dataset \n",
    "samp_superstore.info() \n"
   ]
  },
  {
   "cell_type": "code",
   "execution_count": 5,
   "id": "a3bbe8dc",
   "metadata": {},
   "outputs": [
    {
     "data": {
      "text/plain": [
       "17"
      ]
     },
     "execution_count": 5,
     "metadata": {},
     "output_type": "execute_result"
    }
   ],
   "source": [
    "#check for number of duplicate rows \n",
    "samp_superstore.duplicated().sum()"
   ]
  },
  {
   "cell_type": "code",
   "execution_count": 6,
   "id": "ef7d2540",
   "metadata": {},
   "outputs": [
    {
     "data": {
      "text/plain": [
       "Ship Mode       0\n",
       "Segment         0\n",
       "Country         0\n",
       "City            0\n",
       "State           0\n",
       "Postal Code     0\n",
       "Region          0\n",
       "Category        0\n",
       "Sub-Category    0\n",
       "Sales           0\n",
       "Quantity        0\n",
       "Discount        0\n",
       "Profit          0\n",
       "dtype: int64"
      ]
     },
     "execution_count": 6,
     "metadata": {},
     "output_type": "execute_result"
    }
   ],
   "source": [
    "#check for number of null rows in each column\n",
    "samp_superstore.isnull().sum()\n"
   ]
  },
  {
   "cell_type": "code",
   "execution_count": 7,
   "id": "65526ce2",
   "metadata": {
    "scrolled": true
   },
   "outputs": [
    {
     "data": {
      "text/plain": [
       "array(['Second Class', 'Standard Class', 'First Class', 'Same Day'],\n",
       "      dtype=object)"
      ]
     },
     "execution_count": 7,
     "metadata": {},
     "output_type": "execute_result"
    }
   ],
   "source": [
    "#obtain unique values of ship mode \n",
    "samp_superstore[\"Ship Mode\"].unique()"
   ]
  },
  {
   "cell_type": "code",
   "execution_count": 8,
   "id": "1721db09",
   "metadata": {},
   "outputs": [
    {
     "data": {
      "text/plain": [
       "array(['Consumer', 'Corporate', 'Home Office'], dtype=object)"
      ]
     },
     "execution_count": 8,
     "metadata": {},
     "output_type": "execute_result"
    }
   ],
   "source": [
    "#obtain unique Segment values \n",
    "samp_superstore[\"Segment\"].unique()"
   ]
  },
  {
   "cell_type": "code",
   "execution_count": 9,
   "id": "54dcf881",
   "metadata": {},
   "outputs": [
    {
     "data": {
      "text/plain": [
       "array(['United States'], dtype=object)"
      ]
     },
     "execution_count": 9,
     "metadata": {},
     "output_type": "execute_result"
    }
   ],
   "source": [
    "#obtain the unique values in Country\n",
    "samp_superstore.Country.unique()\n"
   ]
  },
  {
   "cell_type": "code",
   "execution_count": 10,
   "id": "6948675f",
   "metadata": {},
   "outputs": [
    {
     "data": {
      "text/plain": [
       "array(['South', 'West', 'Central', 'East'], dtype=object)"
      ]
     },
     "execution_count": 10,
     "metadata": {},
     "output_type": "execute_result"
    }
   ],
   "source": [
    "# obtain the unique Regions\n",
    "samp_superstore.Region.unique()\n"
   ]
  },
  {
   "cell_type": "code",
   "execution_count": 11,
   "id": "ccaef770",
   "metadata": {
    "scrolled": false
   },
   "outputs": [
    {
     "data": {
      "text/plain": [
       "Office Supplies    6026\n",
       "Furniture          2121\n",
       "Technology         1847\n",
       "Name: Category, dtype: int64"
      ]
     },
     "execution_count": 11,
     "metadata": {},
     "output_type": "execute_result"
    }
   ],
   "source": [
    "#obtain the number of unique values in Category\n",
    "samp_superstore.Category.value_counts()\n"
   ]
  },
  {
   "cell_type": "code",
   "execution_count": 12,
   "id": "314f0396",
   "metadata": {},
   "outputs": [
    {
     "data": {
      "text/plain": [
       "17"
      ]
     },
     "execution_count": 12,
     "metadata": {},
     "output_type": "execute_result"
    }
   ],
   "source": [
    "#obtain the number of unique values in  Sub-Category column \n",
    "samp_superstore[\"Sub-Category\"].nunique()\n"
   ]
  },
  {
   "cell_type": "code",
   "execution_count": 13,
   "id": "17505c36",
   "metadata": {},
   "outputs": [
    {
     "data": {
      "text/plain": [
       "Binders        1523\n",
       "Paper          1370\n",
       "Furnishings     957\n",
       "Phones          889\n",
       "Storage         846\n",
       "Art             796\n",
       "Accessories     775\n",
       "Chairs          617\n",
       "Appliances      466\n",
       "Labels          364\n",
       "Tables          319\n",
       "Envelopes       254\n",
       "Bookcases       228\n",
       "Fasteners       217\n",
       "Supplies        190\n",
       "Machines        115\n",
       "Copiers          68\n",
       "Name: Sub-Category, dtype: int64"
      ]
     },
     "execution_count": 13,
     "metadata": {},
     "output_type": "execute_result"
    }
   ],
   "source": [
    "#obtain the count of the unique values in Sub-Category\n",
    "samp_superstore[\"Sub-Category\"].value_counts()\n"
   ]
  },
  {
   "cell_type": "code",
   "execution_count": 14,
   "id": "eded9a18",
   "metadata": {},
   "outputs": [
    {
     "data": {
      "text/plain": [
       "49"
      ]
     },
     "execution_count": 14,
     "metadata": {},
     "output_type": "execute_result"
    }
   ],
   "source": [
    "#check for number of unique States \n",
    "samp_superstore.State.nunique()\n"
   ]
  },
  {
   "cell_type": "code",
   "execution_count": 15,
   "id": "cc461997",
   "metadata": {},
   "outputs": [
    {
     "data": {
      "text/plain": [
       "531"
      ]
     },
     "execution_count": 15,
     "metadata": {},
     "output_type": "execute_result"
    }
   ],
   "source": [
    "#check number of Cities \n",
    "samp_superstore.City.nunique()\n"
   ]
  },
  {
   "cell_type": "code",
   "execution_count": 16,
   "id": "22bd6c1f",
   "metadata": {},
   "outputs": [
    {
     "data": {
      "text/plain": [
       "array([ 2,  3,  5,  7,  4,  6,  9,  1,  8, 14, 11, 13, 10, 12])"
      ]
     },
     "execution_count": 16,
     "metadata": {},
     "output_type": "execute_result"
    }
   ],
   "source": [
    "#obtain the unique Quantity values \n",
    "samp_superstore.Quantity.unique()"
   ]
  },
  {
   "cell_type": "markdown",
   "id": "0c8167d8",
   "metadata": {},
   "source": [
    "### Issues \n",
    "\n",
    "- Spaces in column names \n",
    "- Repititive value in `Country` column\n",
    "- Dtype of Postal Code as int\n",
    "- Zip codes with less than 5 numeric digits \n",
    "- \"-\" in `Sub-Category` column\n",
    "- Duplicated rows \n",
    "- Dtype of `Quantity` column\n",
    "- Unordered `Quantity` values  \n",
    "- Negative `Profit` values \n",
    "- Null rows "
   ]
  },
  {
   "cell_type": "markdown",
   "id": "4206ecdf",
   "metadata": {},
   "source": [
    "### Cleaning"
   ]
  },
  {
   "cell_type": "markdown",
   "id": "4c9d2b2c",
   "metadata": {},
   "source": [
    "One of the issues noted in the assessment phase is the presence of a space between the words of some column names.\n",
    "\n",
    "Below, the space in those column names will be replaced with an underscore (\"\\_\") as this allows more flexibility in the use of the column names."
   ]
  },
  {
   "cell_type": "code",
   "execution_count": 17,
   "id": "21b829f1",
   "metadata": {},
   "outputs": [],
   "source": [
    "#create a list containing column names \n",
    "col_names = list(samp_superstore.columns) \n"
   ]
  },
  {
   "cell_type": "code",
   "execution_count": 18,
   "id": "68bfd2b1",
   "metadata": {},
   "outputs": [],
   "source": [
    "def replace_space(df, list_col_names): \n",
    "    \"\"\"\n",
    "    This function replaces the space in the column names \n",
    "    with spaces between their words with '_'\n",
    "    \"\"\"\n",
    "    for col_name in list_col_names: \n",
    "        if \" \" in col_name: \n",
    "            new_name = col_name.replace(\" \", \"_\") \n",
    "            df.rename(columns = {col_name : new_name}, \n",
    "                      inplace = True) \n",
    "    return df \n"
   ]
  },
  {
   "cell_type": "code",
   "execution_count": 19,
   "id": "96ed3c0a",
   "metadata": {},
   "outputs": [
    {
     "data": {
      "text/html": [
       "<div>\n",
       "<style scoped>\n",
       "    .dataframe tbody tr th:only-of-type {\n",
       "        vertical-align: middle;\n",
       "    }\n",
       "\n",
       "    .dataframe tbody tr th {\n",
       "        vertical-align: top;\n",
       "    }\n",
       "\n",
       "    .dataframe thead th {\n",
       "        text-align: right;\n",
       "    }\n",
       "</style>\n",
       "<table border=\"1\" class=\"dataframe\">\n",
       "  <thead>\n",
       "    <tr style=\"text-align: right;\">\n",
       "      <th></th>\n",
       "      <th>Ship_Mode</th>\n",
       "      <th>Segment</th>\n",
       "      <th>Country</th>\n",
       "      <th>City</th>\n",
       "      <th>State</th>\n",
       "      <th>Postal_Code</th>\n",
       "      <th>Region</th>\n",
       "      <th>Category</th>\n",
       "      <th>Sub-Category</th>\n",
       "      <th>Sales</th>\n",
       "      <th>Quantity</th>\n",
       "      <th>Discount</th>\n",
       "      <th>Profit</th>\n",
       "    </tr>\n",
       "  </thead>\n",
       "  <tbody>\n",
       "    <tr>\n",
       "      <th>0</th>\n",
       "      <td>Second Class</td>\n",
       "      <td>Consumer</td>\n",
       "      <td>United States</td>\n",
       "      <td>Henderson</td>\n",
       "      <td>Kentucky</td>\n",
       "      <td>42420</td>\n",
       "      <td>South</td>\n",
       "      <td>Furniture</td>\n",
       "      <td>Bookcases</td>\n",
       "      <td>261.96</td>\n",
       "      <td>2</td>\n",
       "      <td>0.0</td>\n",
       "      <td>41.9136</td>\n",
       "    </tr>\n",
       "  </tbody>\n",
       "</table>\n",
       "</div>"
      ],
      "text/plain": [
       "      Ship_Mode   Segment        Country       City     State  Postal_Code  \\\n",
       "0  Second Class  Consumer  United States  Henderson  Kentucky        42420   \n",
       "\n",
       "  Region   Category Sub-Category   Sales  Quantity  Discount   Profit  \n",
       "0  South  Furniture    Bookcases  261.96         2       0.0  41.9136  "
      ]
     },
     "execution_count": 19,
     "metadata": {},
     "output_type": "execute_result"
    }
   ],
   "source": [
    "#apply the function \n",
    "samp_superstore = replace_space(samp_superstore, col_names) \n",
    "\n",
    "#confirm change \n",
    "samp_superstore.head(1)"
   ]
  },
  {
   "cell_type": "markdown",
   "id": "77e1d9b0",
   "metadata": {},
   "source": [
    "Since all the transactions made were to customers living in the United States, the `Country` column will be dropped as it is unnecessary, and only contains repetitive values."
   ]
  },
  {
   "cell_type": "code",
   "execution_count": 20,
   "id": "f34cf83d",
   "metadata": {},
   "outputs": [
    {
     "data": {
      "text/plain": [
       "Index(['Ship_Mode', 'Segment', 'City', 'State', 'Postal_Code', 'Region',\n",
       "       'Category', 'Sub-Category', 'Sales', 'Quantity', 'Discount', 'Profit'],\n",
       "      dtype='object')"
      ]
     },
     "execution_count": 20,
     "metadata": {},
     "output_type": "execute_result"
    }
   ],
   "source": [
    "#drop Country column \n",
    "samp_superstore.drop(\"Country\", axis = 1, inplace = True) \n",
    "\n",
    "#confirm \n",
    "samp_superstore.columns"
   ]
  },
  {
   "cell_type": "markdown",
   "id": "56e5d997",
   "metadata": {},
   "source": [
    "The postal code for customers in the dataset has datatype as integer. This will be converted to string datatype as calculations will not be performed on the postal codes."
   ]
  },
  {
   "cell_type": "code",
   "execution_count": 21,
   "id": "be39134e",
   "metadata": {},
   "outputs": [
    {
     "data": {
      "text/plain": [
       "Ship_Mode        object\n",
       "Segment          object\n",
       "City             object\n",
       "State            object\n",
       "Postal_Code      object\n",
       "Region           object\n",
       "Category         object\n",
       "Sub-Category     object\n",
       "Sales           float64\n",
       "Quantity          int64\n",
       "Discount        float64\n",
       "Profit          float64\n",
       "dtype: object"
      ]
     },
     "execution_count": 21,
     "metadata": {},
     "output_type": "execute_result"
    }
   ],
   "source": [
    "#change datatype of Postal_Code from int to string \n",
    "samp_superstore.Postal_Code = samp_superstore.Postal_Code.astype(str)\n",
    "\n",
    "#confirm \n",
    "samp_superstore.dtypes\n"
   ]
  },
  {
   "cell_type": "markdown",
   "id": "857ccfdb",
   "metadata": {},
   "source": [
    "According to this [article](https://www.usatoday.com/story/news/2022/10/03/what-is-a-postal-code-zip/7836090001/), in the United States, postal codes are usually 5-digit characters. During the data assessment though, some postal codes were noticed to have only 4 digits. This may have been a typographical error. Below, 0 will be added to the front of each incomplete postal code."
   ]
  },
  {
   "cell_type": "code",
   "execution_count": 22,
   "id": "b019a0bc",
   "metadata": {},
   "outputs": [],
   "source": [
    "def incomplete_code_checker(col_name):\n",
    "    \"\"\"This function returns the number \n",
    "    of codes in a code column with less \n",
    "    than 5 digits\"\"\"\n",
    "    count = 0\n",
    "    for x in col_name:\n",
    "        if len(x) < 5: \n",
    "            count += 1 \n",
    "        else: \n",
    "            count += 0 \n",
    "    return count \n"
   ]
  },
  {
   "cell_type": "code",
   "execution_count": 23,
   "id": "e6ff531f",
   "metadata": {},
   "outputs": [
    {
     "data": {
      "text/plain": [
       "449"
      ]
     },
     "execution_count": 23,
     "metadata": {},
     "output_type": "execute_result"
    }
   ],
   "source": [
    "#apply to Postal_Code \n",
    "incomplete_code_checker(samp_superstore.Postal_Code)\n"
   ]
  },
  {
   "cell_type": "code",
   "execution_count": 24,
   "id": "00b49fc1",
   "metadata": {},
   "outputs": [
    {
     "data": {
      "text/plain": [
       "0"
      ]
     },
     "execution_count": 24,
     "metadata": {},
     "output_type": "execute_result"
    }
   ],
   "source": [
    "#add zero to at the beginning of incomplete postal codes \n",
    "samp_superstore.Postal_Code = samp_superstore.Postal_Code.str.pad(5, fillchar = \"0\")\n",
    "\n",
    "# confirm \n",
    "incomplete_code_checker(samp_superstore.Postal_Code) \n"
   ]
  },
  {
   "cell_type": "markdown",
   "id": "adc4ba75",
   "metadata": {},
   "source": [
    "Below, the column `Sub-Category` will be renamed `Sub_Category`. This again is to increase the flexibility of use."
   ]
  },
  {
   "cell_type": "code",
   "execution_count": 25,
   "id": "261b993e",
   "metadata": {},
   "outputs": [
    {
     "data": {
      "text/html": [
       "<div>\n",
       "<style scoped>\n",
       "    .dataframe tbody tr th:only-of-type {\n",
       "        vertical-align: middle;\n",
       "    }\n",
       "\n",
       "    .dataframe tbody tr th {\n",
       "        vertical-align: top;\n",
       "    }\n",
       "\n",
       "    .dataframe thead th {\n",
       "        text-align: right;\n",
       "    }\n",
       "</style>\n",
       "<table border=\"1\" class=\"dataframe\">\n",
       "  <thead>\n",
       "    <tr style=\"text-align: right;\">\n",
       "      <th></th>\n",
       "      <th>Ship_Mode</th>\n",
       "      <th>Segment</th>\n",
       "      <th>City</th>\n",
       "      <th>State</th>\n",
       "      <th>Postal_Code</th>\n",
       "      <th>Region</th>\n",
       "      <th>Category</th>\n",
       "      <th>Sub_Category</th>\n",
       "      <th>Sales</th>\n",
       "      <th>Quantity</th>\n",
       "      <th>Discount</th>\n",
       "      <th>Profit</th>\n",
       "    </tr>\n",
       "  </thead>\n",
       "  <tbody>\n",
       "    <tr>\n",
       "      <th>0</th>\n",
       "      <td>Second Class</td>\n",
       "      <td>Consumer</td>\n",
       "      <td>Henderson</td>\n",
       "      <td>Kentucky</td>\n",
       "      <td>42420</td>\n",
       "      <td>South</td>\n",
       "      <td>Furniture</td>\n",
       "      <td>Bookcases</td>\n",
       "      <td>261.96</td>\n",
       "      <td>2</td>\n",
       "      <td>0.0</td>\n",
       "      <td>41.9136</td>\n",
       "    </tr>\n",
       "  </tbody>\n",
       "</table>\n",
       "</div>"
      ],
      "text/plain": [
       "      Ship_Mode   Segment       City     State Postal_Code Region   Category  \\\n",
       "0  Second Class  Consumer  Henderson  Kentucky       42420  South  Furniture   \n",
       "\n",
       "  Sub_Category   Sales  Quantity  Discount   Profit  \n",
       "0    Bookcases  261.96         2       0.0  41.9136  "
      ]
     },
     "execution_count": 25,
     "metadata": {},
     "output_type": "execute_result"
    }
   ],
   "source": [
    "#rename Sub-Category column \n",
    "samp_superstore.rename(columns = {\"Sub-Category\" : \"Sub_Category\"}, inplace = True)\n",
    "\n",
    "#confirm \n",
    "samp_superstore.head(1)\n"
   ]
  },
  {
   "cell_type": "markdown",
   "id": "8e4d21dc",
   "metadata": {},
   "source": [
    "A total of 17 rows were found to be duplicated in the assessment phase and will be dropped next."
   ]
  },
  {
   "cell_type": "code",
   "execution_count": 26,
   "id": "19f776ae",
   "metadata": {
    "scrolled": true
   },
   "outputs": [
    {
     "data": {
      "text/plain": [
       "0"
      ]
     },
     "execution_count": 26,
     "metadata": {},
     "output_type": "execute_result"
    }
   ],
   "source": [
    "#drop duplicate rows \n",
    "samp_superstore.drop_duplicates(inplace = True)\n",
    "\n",
    "#confirm \n",
    "samp_superstore.duplicated().sum()\n"
   ]
  },
  {
   "cell_type": "markdown",
   "id": "34b7d6b7",
   "metadata": {},
   "source": [
    "The `Quantity` variable should be ordinal, hence, next the values in the column will be ordered. First though, the datatype of the `Quantity` column will be changed to string. "
   ]
  },
  {
   "cell_type": "code",
   "execution_count": 27,
   "id": "ef4af5e7",
   "metadata": {},
   "outputs": [
    {
     "data": {
      "text/plain": [
       "Ship_Mode        object\n",
       "Segment          object\n",
       "City             object\n",
       "State            object\n",
       "Postal_Code      object\n",
       "Region           object\n",
       "Category         object\n",
       "Sub_Category     object\n",
       "Sales           float64\n",
       "Quantity         object\n",
       "Discount        float64\n",
       "Profit          float64\n",
       "dtype: object"
      ]
     },
     "execution_count": 27,
     "metadata": {},
     "output_type": "execute_result"
    }
   ],
   "source": [
    "#change Quantity datatype to string \n",
    "samp_superstore.Quantity = samp_superstore.Quantity.astype(str) \n",
    "\n",
    "#confirm \n",
    "samp_superstore.dtypes\n"
   ]
  },
  {
   "cell_type": "markdown",
   "id": "1ce6d258",
   "metadata": {},
   "source": [
    "Next, the `Quantity` column will be converted from plain string to an ordered categorical datatype."
   ]
  },
  {
   "cell_type": "code",
   "execution_count": 28,
   "id": "4a1b0f7a",
   "metadata": {},
   "outputs": [],
   "source": [
    "#create Quantity order \n",
    "quantity_order = [\"1\", \"2\", \"3\", \"4\", \"5\", \"6\", \n",
    "                  \"7\", \"8\", \"9\", \"10\", \"11\", \"12\"]\n"
   ]
  },
  {
   "cell_type": "code",
   "execution_count": 29,
   "id": "75d9d40e",
   "metadata": {},
   "outputs": [
    {
     "data": {
      "text/plain": [
       "Ship_Mode         object\n",
       "Segment           object\n",
       "City              object\n",
       "State             object\n",
       "Postal_Code       object\n",
       "Region            object\n",
       "Category          object\n",
       "Sub_Category      object\n",
       "Sales            float64\n",
       "Quantity        category\n",
       "Discount         float64\n",
       "Profit           float64\n",
       "dtype: object"
      ]
     },
     "execution_count": 29,
     "metadata": {},
     "output_type": "execute_result"
    }
   ],
   "source": [
    "#create the Quantity categorical datatype \n",
    "quantity_cat_dtype = pd.api.types.CategoricalDtype(ordered = True, categories = quantity_order) \n",
    "\n",
    "#apply created datatype on Quantity column\n",
    "samp_superstore.Quantity = samp_superstore.Quantity.astype(quantity_cat_dtype)\n",
    "\n",
    "#confirm \n",
    "samp_superstore.dtypes\n"
   ]
  },
  {
   "cell_type": "markdown",
   "id": "eefddb83",
   "metadata": {},
   "source": [
    "During visual assessment of the dataset, some negative values were noticed in the `Profit` column. This may have been an error, and would be corrected below.<br>\n",
    "\n",
    "First, the datatype of the column will be changed to string, and the negative sign (\"-\") will be sliced off the negative values. Afterwards, the values will be changed back to float."
   ]
  },
  {
   "cell_type": "code",
   "execution_count": 30,
   "id": "da2f66ee",
   "metadata": {},
   "outputs": [
    {
     "data": {
      "text/plain": [
       "Ship_Mode         object\n",
       "Segment           object\n",
       "City              object\n",
       "State             object\n",
       "Postal_Code       object\n",
       "Region            object\n",
       "Category          object\n",
       "Sub_Category      object\n",
       "Sales            float64\n",
       "Quantity        category\n",
       "Discount         float64\n",
       "Profit            object\n",
       "dtype: object"
      ]
     },
     "execution_count": 30,
     "metadata": {},
     "output_type": "execute_result"
    }
   ],
   "source": [
    "#change data type of Profit column to string\n",
    "samp_superstore.Profit = samp_superstore.Profit.astype(str)\n",
    "\n",
    "#confirm change\n",
    "samp_superstore.dtypes\n"
   ]
  },
  {
   "cell_type": "code",
   "execution_count": 31,
   "id": "5ca59dd8",
   "metadata": {},
   "outputs": [],
   "source": [
    "def neg_checker(colname): \n",
    "    \"\"\" This function returns the \n",
    "    number of negative string values \n",
    "    present in a column \n",
    "    \"\"\"\n",
    "    count = 0\n",
    "    for x in colname:\n",
    "        if \"-\" in x:\n",
    "            count += 1\n",
    "    return count\n",
    "                      "
   ]
  },
  {
   "cell_type": "code",
   "execution_count": 32,
   "id": "c30c032a",
   "metadata": {},
   "outputs": [
    {
     "data": {
      "text/plain": [
       "1869"
      ]
     },
     "execution_count": 32,
     "metadata": {},
     "output_type": "execute_result"
    }
   ],
   "source": [
    "#apply function on Profit column \n",
    "neg_checker(samp_superstore[\"Profit\"])\n"
   ]
  },
  {
   "cell_type": "markdown",
   "id": "dc6e69c2",
   "metadata": {},
   "source": [
    "Convert negative values in `Profit` column to positive values."
   ]
  },
  {
   "cell_type": "code",
   "execution_count": 33,
   "id": "0232f935",
   "metadata": {},
   "outputs": [],
   "source": [
    "def convert_to_positive(x): \n",
    "    \"\"\" This function converts negative \n",
    "    string values to positive string\n",
    "    values \"\"\"\n",
    "    if \"-\" in x:\n",
    "        return x[1:]\n",
    "    else: \n",
    "        return x \n",
    "    "
   ]
  },
  {
   "cell_type": "code",
   "execution_count": 34,
   "id": "6b6425a5",
   "metadata": {},
   "outputs": [
    {
     "data": {
      "text/plain": [
       "0"
      ]
     },
     "execution_count": 34,
     "metadata": {},
     "output_type": "execute_result"
    }
   ],
   "source": [
    "#apply to Profit column \n",
    "samp_superstore.Profit = samp_superstore.Profit.apply(convert_to_positive)\n",
    "\n",
    "#confirm \n",
    "neg_checker(samp_superstore[\"Profit\"])\n"
   ]
  },
  {
   "cell_type": "markdown",
   "id": "bee18b38",
   "metadata": {},
   "source": [
    "Convert `Profit` column back to float. "
   ]
  },
  {
   "cell_type": "code",
   "execution_count": 35,
   "id": "ce5ff044",
   "metadata": {
    "scrolled": true
   },
   "outputs": [
    {
     "data": {
      "text/plain": [
       "Ship_Mode         object\n",
       "Segment           object\n",
       "City              object\n",
       "State             object\n",
       "Postal_Code       object\n",
       "Region            object\n",
       "Category          object\n",
       "Sub_Category      object\n",
       "Sales            float64\n",
       "Quantity        category\n",
       "Discount         float64\n",
       "Profit           float64\n",
       "dtype: object"
      ]
     },
     "execution_count": 35,
     "metadata": {},
     "output_type": "execute_result"
    }
   ],
   "source": [
    "samp_superstore.Profit = samp_superstore.Profit.astype(float) \n",
    "\n",
    "#confirm change \n",
    "samp_superstore.dtypes \n"
   ]
  },
  {
   "cell_type": "markdown",
   "id": "87d0c86f",
   "metadata": {},
   "source": [
    "Below, null rows noticed during assessment will be dropped."
   ]
  },
  {
   "cell_type": "code",
   "execution_count": 36,
   "id": "25458ddb",
   "metadata": {},
   "outputs": [
    {
     "data": {
      "text/plain": [
       "Ship_Mode       0\n",
       "Segment         0\n",
       "City            0\n",
       "State           0\n",
       "Postal_Code     0\n",
       "Region          0\n",
       "Category        0\n",
       "Sub_Category    0\n",
       "Sales           0\n",
       "Quantity        0\n",
       "Discount        0\n",
       "Profit          0\n",
       "dtype: int64"
      ]
     },
     "execution_count": 36,
     "metadata": {},
     "output_type": "execute_result"
    }
   ],
   "source": [
    "#remove null rows\n",
    "samp_superstore.dropna(inplace = True) \n",
    "\n",
    "#confirm \n",
    "samp_superstore.isnull().sum()\n"
   ]
  },
  {
   "cell_type": "markdown",
   "id": "5e09ada8",
   "metadata": {},
   "source": [
    "## Exploratory Data Analysis (EDA)\n",
    "\n",
    "\n",
    "### Univariate Exploration \n",
    "\n",
    "The individual features will be explored to gain a better understanding of the data."
   ]
  },
  {
   "cell_type": "code",
   "execution_count": 37,
   "id": "b2bfb267",
   "metadata": {
    "scrolled": true
   },
   "outputs": [
    {
     "data": {
      "text/html": [
       "<div>\n",
       "<style scoped>\n",
       "    .dataframe tbody tr th:only-of-type {\n",
       "        vertical-align: middle;\n",
       "    }\n",
       "\n",
       "    .dataframe tbody tr th {\n",
       "        vertical-align: top;\n",
       "    }\n",
       "\n",
       "    .dataframe thead th {\n",
       "        text-align: right;\n",
       "    }\n",
       "</style>\n",
       "<table border=\"1\" class=\"dataframe\">\n",
       "  <thead>\n",
       "    <tr style=\"text-align: right;\">\n",
       "      <th></th>\n",
       "      <th>Ship_Mode</th>\n",
       "      <th>Segment</th>\n",
       "      <th>City</th>\n",
       "      <th>State</th>\n",
       "      <th>Postal_Code</th>\n",
       "      <th>Region</th>\n",
       "      <th>Category</th>\n",
       "      <th>Sub_Category</th>\n",
       "      <th>Sales</th>\n",
       "      <th>Quantity</th>\n",
       "      <th>Discount</th>\n",
       "      <th>Profit</th>\n",
       "    </tr>\n",
       "  </thead>\n",
       "  <tbody>\n",
       "    <tr>\n",
       "      <th>7243</th>\n",
       "      <td>Second Class</td>\n",
       "      <td>Consumer</td>\n",
       "      <td>Philadelphia</td>\n",
       "      <td>Pennsylvania</td>\n",
       "      <td>19134</td>\n",
       "      <td>East</td>\n",
       "      <td>Furniture</td>\n",
       "      <td>Chairs</td>\n",
       "      <td>4416.174</td>\n",
       "      <td>9</td>\n",
       "      <td>0.3</td>\n",
       "      <td>630.8820</td>\n",
       "    </tr>\n",
       "    <tr>\n",
       "      <th>7116</th>\n",
       "      <td>Second Class</td>\n",
       "      <td>Consumer</td>\n",
       "      <td>Seattle</td>\n",
       "      <td>Washington</td>\n",
       "      <td>98103</td>\n",
       "      <td>West</td>\n",
       "      <td>Office Supplies</td>\n",
       "      <td>Paper</td>\n",
       "      <td>61.960</td>\n",
       "      <td>2</td>\n",
       "      <td>0.0</td>\n",
       "      <td>27.8820</td>\n",
       "    </tr>\n",
       "    <tr>\n",
       "      <th>2293</th>\n",
       "      <td>Standard Class</td>\n",
       "      <td>Corporate</td>\n",
       "      <td>New York City</td>\n",
       "      <td>New York</td>\n",
       "      <td>10009</td>\n",
       "      <td>East</td>\n",
       "      <td>Technology</td>\n",
       "      <td>Phones</td>\n",
       "      <td>4.950</td>\n",
       "      <td>1</td>\n",
       "      <td>0.0</td>\n",
       "      <td>1.3365</td>\n",
       "    </tr>\n",
       "    <tr>\n",
       "      <th>5456</th>\n",
       "      <td>Standard Class</td>\n",
       "      <td>Consumer</td>\n",
       "      <td>Edmonds</td>\n",
       "      <td>Washington</td>\n",
       "      <td>98026</td>\n",
       "      <td>West</td>\n",
       "      <td>Office Supplies</td>\n",
       "      <td>Fasteners</td>\n",
       "      <td>19.600</td>\n",
       "      <td>5</td>\n",
       "      <td>0.0</td>\n",
       "      <td>9.6040</td>\n",
       "    </tr>\n",
       "    <tr>\n",
       "      <th>149</th>\n",
       "      <td>Standard Class</td>\n",
       "      <td>Corporate</td>\n",
       "      <td>Franklin</td>\n",
       "      <td>Wisconsin</td>\n",
       "      <td>53132</td>\n",
       "      <td>Central</td>\n",
       "      <td>Furniture</td>\n",
       "      <td>Chairs</td>\n",
       "      <td>1951.840</td>\n",
       "      <td>8</td>\n",
       "      <td>0.0</td>\n",
       "      <td>585.5520</td>\n",
       "    </tr>\n",
       "    <tr>\n",
       "      <th>1523</th>\n",
       "      <td>Standard Class</td>\n",
       "      <td>Consumer</td>\n",
       "      <td>Tucson</td>\n",
       "      <td>Arizona</td>\n",
       "      <td>85705</td>\n",
       "      <td>West</td>\n",
       "      <td>Office Supplies</td>\n",
       "      <td>Paper</td>\n",
       "      <td>198.272</td>\n",
       "      <td>8</td>\n",
       "      <td>0.2</td>\n",
       "      <td>61.9600</td>\n",
       "    </tr>\n",
       "    <tr>\n",
       "      <th>1789</th>\n",
       "      <td>Standard Class</td>\n",
       "      <td>Corporate</td>\n",
       "      <td>Kenosha</td>\n",
       "      <td>Wisconsin</td>\n",
       "      <td>53142</td>\n",
       "      <td>Central</td>\n",
       "      <td>Technology</td>\n",
       "      <td>Accessories</td>\n",
       "      <td>139.950</td>\n",
       "      <td>5</td>\n",
       "      <td>0.0</td>\n",
       "      <td>26.5905</td>\n",
       "    </tr>\n",
       "    <tr>\n",
       "      <th>1177</th>\n",
       "      <td>Standard Class</td>\n",
       "      <td>Consumer</td>\n",
       "      <td>Rockville</td>\n",
       "      <td>Maryland</td>\n",
       "      <td>20852</td>\n",
       "      <td>East</td>\n",
       "      <td>Furniture</td>\n",
       "      <td>Chairs</td>\n",
       "      <td>172.500</td>\n",
       "      <td>2</td>\n",
       "      <td>0.0</td>\n",
       "      <td>51.7500</td>\n",
       "    </tr>\n",
       "    <tr>\n",
       "      <th>1646</th>\n",
       "      <td>First Class</td>\n",
       "      <td>Home Office</td>\n",
       "      <td>Philadelphia</td>\n",
       "      <td>Pennsylvania</td>\n",
       "      <td>19140</td>\n",
       "      <td>East</td>\n",
       "      <td>Technology</td>\n",
       "      <td>Accessories</td>\n",
       "      <td>35.360</td>\n",
       "      <td>2</td>\n",
       "      <td>0.2</td>\n",
       "      <td>3.0940</td>\n",
       "    </tr>\n",
       "    <tr>\n",
       "      <th>5404</th>\n",
       "      <td>Standard Class</td>\n",
       "      <td>Consumer</td>\n",
       "      <td>Los Angeles</td>\n",
       "      <td>California</td>\n",
       "      <td>90045</td>\n",
       "      <td>West</td>\n",
       "      <td>Technology</td>\n",
       "      <td>Phones</td>\n",
       "      <td>445.960</td>\n",
       "      <td>5</td>\n",
       "      <td>0.2</td>\n",
       "      <td>55.7450</td>\n",
       "    </tr>\n",
       "  </tbody>\n",
       "</table>\n",
       "</div>"
      ],
      "text/plain": [
       "           Ship_Mode      Segment           City         State Postal_Code  \\\n",
       "7243    Second Class     Consumer   Philadelphia  Pennsylvania       19134   \n",
       "7116    Second Class     Consumer        Seattle    Washington       98103   \n",
       "2293  Standard Class    Corporate  New York City      New York       10009   \n",
       "5456  Standard Class     Consumer        Edmonds    Washington       98026   \n",
       "149   Standard Class    Corporate       Franklin     Wisconsin       53132   \n",
       "1523  Standard Class     Consumer         Tucson       Arizona       85705   \n",
       "1789  Standard Class    Corporate        Kenosha     Wisconsin       53142   \n",
       "1177  Standard Class     Consumer      Rockville      Maryland       20852   \n",
       "1646     First Class  Home Office   Philadelphia  Pennsylvania       19140   \n",
       "5404  Standard Class     Consumer    Los Angeles    California       90045   \n",
       "\n",
       "       Region         Category Sub_Category     Sales Quantity  Discount  \\\n",
       "7243     East        Furniture       Chairs  4416.174        9       0.3   \n",
       "7116     West  Office Supplies        Paper    61.960        2       0.0   \n",
       "2293     East       Technology       Phones     4.950        1       0.0   \n",
       "5456     West  Office Supplies    Fasteners    19.600        5       0.0   \n",
       "149   Central        Furniture       Chairs  1951.840        8       0.0   \n",
       "1523     West  Office Supplies        Paper   198.272        8       0.2   \n",
       "1789  Central       Technology  Accessories   139.950        5       0.0   \n",
       "1177     East        Furniture       Chairs   172.500        2       0.0   \n",
       "1646     East       Technology  Accessories    35.360        2       0.2   \n",
       "5404     West       Technology       Phones   445.960        5       0.2   \n",
       "\n",
       "        Profit  \n",
       "7243  630.8820  \n",
       "7116   27.8820  \n",
       "2293    1.3365  \n",
       "5456    9.6040  \n",
       "149   585.5520  \n",
       "1523   61.9600  \n",
       "1789   26.5905  \n",
       "1177   51.7500  \n",
       "1646    3.0940  \n",
       "5404   55.7450  "
      ]
     },
     "execution_count": 37,
     "metadata": {},
     "output_type": "execute_result"
    }
   ],
   "source": [
    "samp_superstore.sample(10)"
   ]
  },
  {
   "cell_type": "markdown",
   "id": "4afc484f",
   "metadata": {},
   "source": [
    "#### What is the percentage distribution of the various modes of shipping?"
   ]
  },
  {
   "cell_type": "code",
   "execution_count": 38,
   "id": "fb605005",
   "metadata": {},
   "outputs": [],
   "source": [
    "#choose color palette \n",
    "choice_color = sb.color_palette()[9]\n"
   ]
  },
  {
   "cell_type": "code",
   "execution_count": 39,
   "id": "fc09e5ff",
   "metadata": {},
   "outputs": [],
   "source": [
    "#obtain count for each unique value in Ship _Mode\n",
    "mode_count = samp_superstore.Ship_Mode.value_counts() \n",
    "\n",
    "#obtain total count of Ship_Mode in dataset \n",
    "mode_sum = mode_count.sum()\n",
    "\n",
    "#create bar order\n",
    "mode_order = mode_count.index\n"
   ]
  },
  {
   "cell_type": "code",
   "execution_count": 40,
   "id": "3f33bc83",
   "metadata": {
    "scrolled": true
   },
   "outputs": [
    {
     "data": {
      "image/png": "[encoded data removed]",
      "text/plain": [
       "<Figure size 432x288 with 1 Axes>"
      ]
     },
     "metadata": {
      "needs_background": "light"
     },
     "output_type": "display_data"
    }
   ],
   "source": [
    "#visualize percentage distribution of Ship_Mode \n",
    "sb.countplot(data = samp_superstore, y = \"Ship_Mode\", color = choice_color, \n",
    "            order = mode_order);\n",
    "\n",
    "#include percentage text on bars \n",
    "for i in range(mode_count.shape[0]): \n",
    "    count = mode_count[i]\n",
    "    prop_str = '{:0.2f}%'.format(100 * count / mode_sum) \n",
    "    plt.text(count + 1, i, prop_str, va = \"center\", color = \"black\") \n",
    "\n",
    "plt.grid(False)    \n"
   ]
  },
  {
   "cell_type": "markdown",
   "id": "e10def99",
   "metadata": {},
   "source": [
    "#### In what segment was the most sales made?"
   ]
  },
  {
   "cell_type": "code",
   "execution_count": 41,
   "id": "7c1eab6f",
   "metadata": {},
   "outputs": [],
   "source": [
    "#choose color \n",
    "color6 = sb.color_palette()[7]"
   ]
  },
  {
   "cell_type": "code",
   "execution_count": 42,
   "id": "89840de8",
   "metadata": {},
   "outputs": [],
   "source": [
    "#obtain count of each unique value in Segment\n",
    "seg_count = samp_superstore.Segment.value_counts() \n",
    "\n",
    "#obtain total count of Ship_Mode in dataset \n",
    "seg_sum = seg_count.sum()\n",
    "\n",
    "#create bar order\n",
    "seg_order = seg_count.index\n"
   ]
  },
  {
   "cell_type": "code",
   "execution_count": 43,
   "id": "56aac174",
   "metadata": {
    "scrolled": true
   },
   "outputs": [
    {
     "data": {
      "image/png": "[encoded data removed]",
      "text/plain": [
       "<Figure size 360x576 with 1 Axes>"
      ]
     },
     "metadata": {
      "needs_background": "light"
     },
     "output_type": "display_data"
    }
   ],
   "source": [
    "#set figure size\n",
    "plt.figure(figsize = (5,8))\n",
    "\n",
    "#visualize distribution of Ship_Mode \n",
    "sb.countplot(data = samp_superstore, x = \"Segment\", color = color6, \n",
    "            order = seg_order);\n",
    "\n",
    "#include text on bars \n",
    "locs, labels = plt.xticks(rotation = 90)\n",
    "for loc, label in zip(locs, labels): \n",
    "    count = seg_count[label.get_text()]\n",
    "    count_str = '{}'.format(count)\n",
    "    plt.text(loc, count + 5, count_str, ha = \"center\", color = \"black\");\n",
    "             \n",
    "\n",
    "plt.grid(False)  \n",
    "            "
   ]
  },
  {
   "cell_type": "markdown",
   "id": "7652e60b",
   "metadata": {},
   "source": [
    "#### What state has the highest sales frequency?"
   ]
  },
  {
   "cell_type": "code",
   "execution_count": 44,
   "id": "1f586d9c",
   "metadata": {},
   "outputs": [],
   "source": [
    "#choose color palette \n",
    "base_color = sb.color_palette()[0]\n"
   ]
  },
  {
   "cell_type": "code",
   "execution_count": 45,
   "id": "d93b7b1d",
   "metadata": {
    "scrolled": true
   },
   "outputs": [
    {
     "data": {
      "image/png": "[encoded data removed]",
      "text/plain": [
       "<Figure size 360x720 with 1 Axes>"
      ]
     },
     "metadata": {
      "needs_background": "light"
     },
     "output_type": "display_data"
    }
   ],
   "source": [
    "#set figure size\n",
    "plt.figure(figsize = (5,10))\n",
    "\n",
    "#set order\n",
    "state_order = samp_superstore.State.value_counts().index\n",
    "\n",
    "#visualize State distribution\n",
    "sb.countplot(data = samp_superstore, y = \"State\", color = base_color,\n",
    "            order = state_order); \n",
    "\n",
    "plt.grid(False)\n"
   ]
  },
  {
   "cell_type": "markdown",
   "id": "b26eff63",
   "metadata": {},
   "source": [
    "#### What is the regional distribution of the sales made?"
   ]
  },
  {
   "cell_type": "code",
   "execution_count": 46,
   "id": "8f7099c3",
   "metadata": {},
   "outputs": [],
   "source": [
    "#choose color \n",
    "color4 = sb.color_palette()[5]"
   ]
  },
  {
   "cell_type": "code",
   "execution_count": 47,
   "id": "cb689990",
   "metadata": {},
   "outputs": [
    {
     "data": {
      "image/png": "[encoded data removed]",
      "text/plain": [
       "<Figure size 432x288 with 1 Axes>"
      ]
     },
     "metadata": {
      "needs_background": "light"
     },
     "output_type": "display_data"
    }
   ],
   "source": [
    "#obtain order \n",
    "reg_order = samp_superstore.Region.value_counts().index\n",
    "\n",
    "#visualize\n",
    "sb.countplot(data = samp_superstore, x = \"Region\", color = color4, \n",
    "             order = reg_order);\n",
    "\n",
    "plt.grid(False)\n"
   ]
  },
  {
   "cell_type": "markdown",
   "id": "5cfad154",
   "metadata": {},
   "source": [
    "#### What is the categorical distribution of the products sold?"
   ]
  },
  {
   "cell_type": "code",
   "execution_count": 48,
   "id": "aa49fefd",
   "metadata": {},
   "outputs": [],
   "source": [
    "#set order of bars \n",
    "cat_order = samp_superstore.Category.value_counts().index"
   ]
  },
  {
   "cell_type": "code",
   "execution_count": 49,
   "id": "8bb65437",
   "metadata": {},
   "outputs": [
    {
     "data": {
      "image/png": "[encoded data removed]",
      "text/plain": [
       "<Figure size 432x288 with 1 Axes>"
      ]
     },
     "metadata": {
      "needs_background": "light"
     },
     "output_type": "display_data"
    }
   ],
   "source": [
    "#visualize Category of products sold\n",
    "sb.countplot(data = samp_superstore, x = \"Category\", color = base_color, \n",
    "            order = cat_order);\n",
    "\n",
    "plt.grid(False)\n",
    "             "
   ]
  },
  {
   "cell_type": "markdown",
   "id": "b96652ca",
   "metadata": {},
   "source": [
    "#### What is the distribution of the `Office Supplies` products sold?"
   ]
  },
  {
   "cell_type": "code",
   "execution_count": 50,
   "id": "ea049de0",
   "metadata": {},
   "outputs": [],
   "source": [
    "#filter out rows for which the products are in the office supplies category\n",
    "office_supplies = samp_superstore[samp_superstore[\"Category\"] == \"Office Supplies\"]\n",
    "\n",
    "#set order for office supplies subcategories \n",
    "office_sup_order = office_supplies.Sub_Category.value_counts().index\n",
    "\n",
    "#choose bar color \n",
    "color5 = sb.color_palette()[6]\n"
   ]
  },
  {
   "cell_type": "code",
   "execution_count": 51,
   "id": "e907a9a1",
   "metadata": {
    "scrolled": true
   },
   "outputs": [
    {
     "data": {
      "image/png": "[encoded data removed]",
      "text/plain": [
       "<Figure size 432x288 with 1 Axes>"
      ]
     },
     "metadata": {
      "needs_background": "light"
     },
     "output_type": "display_data"
    }
   ],
   "source": [
    "#visualize \n",
    "sb.countplot(data = office_supplies, y = \"Sub_Category\", color = color5,\n",
    "             order = office_sup_order); \n",
    "\n",
    "plt.grid(False)\n"
   ]
  },
  {
   "cell_type": "markdown",
   "id": "f8fcefcd",
   "metadata": {},
   "source": [
    "#### What is the `Sales` values distribution?"
   ]
  },
  {
   "cell_type": "code",
   "execution_count": 52,
   "id": "aa4ea22d",
   "metadata": {},
   "outputs": [
    {
     "data": {
      "text/plain": [
       "count     9921.000000\n",
       "mean       226.864776\n",
       "std        613.003068\n",
       "min          0.444000\n",
       "25%         17.150000\n",
       "50%         53.952000\n",
       "75%        208.160000\n",
       "max      22638.480000\n",
       "Name: Sales, dtype: float64"
      ]
     },
     "execution_count": 52,
     "metadata": {},
     "output_type": "execute_result"
    }
   ],
   "source": [
    "#obtain the summary statistics of the Sales features\n",
    "samp_superstore.Sales.describe() \n"
   ]
  },
  {
   "cell_type": "code",
   "execution_count": 53,
   "id": "0b0021ec",
   "metadata": {},
   "outputs": [],
   "source": [
    "#set bin edges \n",
    "bin_edges = np.arange(0, samp_superstore.Sales.max() + 500, 500)\n"
   ]
  },
  {
   "cell_type": "code",
   "execution_count": 54,
   "id": "77cc57a9",
   "metadata": {
    "scrolled": false
   },
   "outputs": [
    {
     "data": {
      "image/png": "[encoded data removed]",
      "text/plain": [
       "<Figure size 432x288 with 1 Axes>"
      ]
     },
     "metadata": {
      "needs_background": "light"
     },
     "output_type": "display_data"
    }
   ],
   "source": [
    "#visualize the Sales column\n",
    "plt.hist(data = samp_superstore, x = \"Sales\", bins = bin_edges); \n",
    "\n",
    "#transform the y-axis to a log scale\n",
    "plt.yscale(\"log\")\n",
    "\n",
    "#create ticks for y-axis\n",
    "y_ticks = [1, 3, 5, 10, 30, 50, 100, 300, 500, 1000, 3000, 5000,\n",
    "           10000] \n",
    "y_labels = [\"{}\".format(y_tick) for y_tick in y_ticks]\n",
    "plt.yticks(y_ticks, y_labels);\n",
    "\n",
    "#label the x-axis\n",
    "plt.xlabel(\"Sales ($)\") \n",
    "\n",
    "plt.grid(False)\n"
   ]
  },
  {
   "cell_type": "markdown",
   "id": "53b222bc",
   "metadata": {},
   "source": [
    "The `Sales` values are skewed to the right, with some outliers after values in the range of \\\\$0-5000. Next, the `Sales` values will be visualized without the outliers. "
   ]
  },
  {
   "cell_type": "code",
   "execution_count": 55,
   "id": "04646110",
   "metadata": {},
   "outputs": [
    {
     "data": {
      "image/png": "[encoded data removed]",
      "text/plain": [
       "<Figure size 432x288 with 1 Axes>"
      ]
     },
     "metadata": {
      "needs_background": "light"
     },
     "output_type": "display_data"
    }
   ],
   "source": [
    "#visualize the Sales column\n",
    "plt.hist(data = samp_superstore, x = \"Sales\", bins = bin_edges); \n",
    "\n",
    "#transform the y-axis to a log scale\n",
    "plt.yscale(\"log\")\n",
    "\n",
    "#create ticks for the y-axis\n",
    "y_ticks = [1, 3, 5, 10, 30, 50, 100, 300, 500, 1000, 3000, 5000,\n",
    "           10000] \n",
    "y_labels = [\"{}\".format(y_tick) for y_tick in y_ticks] \n",
    "plt.yticks(y_ticks, y_labels)\n",
    "\n",
    "#limit the x-axis \n",
    "plt.xlim(0, 5000);\n",
    "\n",
    "#label the x-axis \n",
    "plt.xlabel(\"Sales ($)\") \n",
    "\n",
    "plt.grid(False)\n"
   ]
  },
  {
   "cell_type": "markdown",
   "id": "50749021",
   "metadata": {},
   "source": [
    "#### What is the distribution of the quantity of products sold? "
   ]
  },
  {
   "cell_type": "code",
   "execution_count": 56,
   "id": "3a5315cc",
   "metadata": {
    "scrolled": true
   },
   "outputs": [
    {
     "data": {
      "image/png": "[encoded data removed]",
      "text/plain": [
       "<Figure size 432x288 with 1 Axes>"
      ]
     },
     "metadata": {
      "needs_background": "light"
     },
     "output_type": "display_data"
    }
   ],
   "source": [
    "#visual Quantity of products sold\n",
    "sb.countplot(data = samp_superstore, x = \"Quantity\", color = choice_color);\n",
    "\n",
    "plt.grid(False)"
   ]
  },
  {
   "cell_type": "markdown",
   "id": "3346e378",
   "metadata": {},
   "source": [
    "#### What is the highest discount given? "
   ]
  },
  {
   "cell_type": "code",
   "execution_count": 57,
   "id": "3d5260a7",
   "metadata": {
    "scrolled": true
   },
   "outputs": [
    {
     "data": {
      "text/plain": [
       "count    9921.000000\n",
       "mean        0.156289\n",
       "std         0.206497\n",
       "min         0.000000\n",
       "25%         0.000000\n",
       "50%         0.200000\n",
       "75%         0.200000\n",
       "max         0.800000\n",
       "Name: Discount, dtype: float64"
      ]
     },
     "execution_count": 57,
     "metadata": {},
     "output_type": "execute_result"
    }
   ],
   "source": [
    "#obtain descriptive statistics of Discount column \n",
    "samp_superstore.Discount.describe()\n"
   ]
  },
  {
   "cell_type": "code",
   "execution_count": 58,
   "id": "59ca5884",
   "metadata": {},
   "outputs": [],
   "source": [
    "#create bin edges \n",
    "bin_edges = np.arange(0, 0.8 + 0.2, 0.1)\n"
   ]
  },
  {
   "cell_type": "code",
   "execution_count": 59,
   "id": "01e29059",
   "metadata": {
    "scrolled": false
   },
   "outputs": [
    {
     "data": {
      "image/png": "[encoded data removed]",
      "text/plain": [
       "<Figure size 432x288 with 1 Axes>"
      ]
     },
     "metadata": {
      "needs_background": "light"
     },
     "output_type": "display_data"
    }
   ],
   "source": [
    "#visualize Discount \n",
    "plt.hist(data = samp_superstore, x = \"Discount\", bins = bin_edges); \n",
    "\n",
    "#create ticks \n",
    "ticks = [0, 0.1, 0.2, 0.3, 0.4, 0.5, 0.6, 0.7, 0.8, 0.9]\n",
    "labels = [\"{}\".format(tick) for tick in ticks]\n",
    "\n",
    "plt.xticks(ticks, labels);\n",
    "plt.grid(False)\n"
   ]
  }
 ],
 "metadata": {
  "kernelspec": {
   "display_name": "Python 3 (ipykernel)",
   "language": "python",
   "name": "python3"
  },
  "language_info": {
   "codemirror_mode": {
    "name": "ipython",
    "version": 3
   },
   "file_extension": ".py",
   "mimetype": "text/x-python",
   "name": "python",
   "nbconvert_exporter": "python",
   "pygments_lexer": "ipython3",
   "version": "3.9.7"
  }
 },
 "nbformat": 4,
 "nbformat_minor": 5
}
