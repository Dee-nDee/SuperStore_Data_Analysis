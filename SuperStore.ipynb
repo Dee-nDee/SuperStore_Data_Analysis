{
 "cells": [
  {
   "cell_type": "code",
   "execution_count": 1,
   "id": "141c6054",
   "metadata": {},
   "outputs": [],
   "source": [
    "#import libraries \n",
    "import numpy as np \n",
    "import pandas as pd \n",
    "import matplotlib.pyplot as plt \n",
    "import seaborn as sb \n",
    "sb.set_style(\"darkgrid\") \n",
    "\n",
    "%matplotlib inline "
   ]
  },
  {
   "cell_type": "code",
   "execution_count": 2,
   "id": "303420b4",
   "metadata": {},
   "outputs": [],
   "source": [
    "#load dataset \n",
    "samp_superstore = pd.read_csv(\"sample_superstore.csv\") \n"
   ]
  },
  {
   "cell_type": "markdown",
   "id": "80ad4e73",
   "metadata": {},
   "source": [
    "## Data Wrangling\n",
    "\n",
    "### Assessment"
   ]
  },
  {
   "cell_type": "code",
   "execution_count": 3,
   "id": "7635b7fe",
   "metadata": {},
   "outputs": [
    {
     "data": {
      "text/html": [
       "<div>\n",
       "<style scoped>\n",
       "    .dataframe tbody tr th:only-of-type {\n",
       "        vertical-align: middle;\n",
       "    }\n",
       "\n",
       "    .dataframe tbody tr th {\n",
       "        vertical-align: top;\n",
       "    }\n",
       "\n",
       "    .dataframe thead th {\n",
       "        text-align: right;\n",
       "    }\n",
       "</style>\n",
       "<table border=\"1\" class=\"dataframe\">\n",
       "  <thead>\n",
       "    <tr style=\"text-align: right;\">\n",
       "      <th></th>\n",
       "      <th>Ship Mode</th>\n",
       "      <th>Segment</th>\n",
       "      <th>Country</th>\n",
       "      <th>City</th>\n",
       "      <th>State</th>\n",
       "      <th>Postal Code</th>\n",
       "      <th>Region</th>\n",
       "      <th>Category</th>\n",
       "      <th>Sub-Category</th>\n",
       "      <th>Sales</th>\n",
       "      <th>Quantity</th>\n",
       "      <th>Discount</th>\n",
       "      <th>Profit</th>\n",
       "    </tr>\n",
       "  </thead>\n",
       "  <tbody>\n",
       "    <tr>\n",
       "      <th>9901</th>\n",
       "      <td>Standard Class</td>\n",
       "      <td>Consumer</td>\n",
       "      <td>United States</td>\n",
       "      <td>Louisville</td>\n",
       "      <td>Colorado</td>\n",
       "      <td>80027</td>\n",
       "      <td>West</td>\n",
       "      <td>Furniture</td>\n",
       "      <td>Furnishings</td>\n",
       "      <td>22.752</td>\n",
       "      <td>3</td>\n",
       "      <td>0.2</td>\n",
       "      <td>7.1100</td>\n",
       "    </tr>\n",
       "    <tr>\n",
       "      <th>3025</th>\n",
       "      <td>Standard Class</td>\n",
       "      <td>Consumer</td>\n",
       "      <td>United States</td>\n",
       "      <td>New York City</td>\n",
       "      <td>New York</td>\n",
       "      <td>10011</td>\n",
       "      <td>East</td>\n",
       "      <td>Office Supplies</td>\n",
       "      <td>Paper</td>\n",
       "      <td>17.940</td>\n",
       "      <td>3</td>\n",
       "      <td>0.0</td>\n",
       "      <td>8.0730</td>\n",
       "    </tr>\n",
       "    <tr>\n",
       "      <th>5893</th>\n",
       "      <td>Standard Class</td>\n",
       "      <td>Consumer</td>\n",
       "      <td>United States</td>\n",
       "      <td>Atlanta</td>\n",
       "      <td>Georgia</td>\n",
       "      <td>30318</td>\n",
       "      <td>South</td>\n",
       "      <td>Office Supplies</td>\n",
       "      <td>Binders</td>\n",
       "      <td>2.780</td>\n",
       "      <td>1</td>\n",
       "      <td>0.0</td>\n",
       "      <td>1.3622</td>\n",
       "    </tr>\n",
       "    <tr>\n",
       "      <th>8490</th>\n",
       "      <td>Second Class</td>\n",
       "      <td>Consumer</td>\n",
       "      <td>United States</td>\n",
       "      <td>Arlington</td>\n",
       "      <td>Virginia</td>\n",
       "      <td>22204</td>\n",
       "      <td>South</td>\n",
       "      <td>Furniture</td>\n",
       "      <td>Furnishings</td>\n",
       "      <td>18.690</td>\n",
       "      <td>7</td>\n",
       "      <td>0.0</td>\n",
       "      <td>7.1022</td>\n",
       "    </tr>\n",
       "    <tr>\n",
       "      <th>9701</th>\n",
       "      <td>Standard Class</td>\n",
       "      <td>Consumer</td>\n",
       "      <td>United States</td>\n",
       "      <td>San Luis Obispo</td>\n",
       "      <td>California</td>\n",
       "      <td>93405</td>\n",
       "      <td>West</td>\n",
       "      <td>Office Supplies</td>\n",
       "      <td>Fasteners</td>\n",
       "      <td>3.620</td>\n",
       "      <td>2</td>\n",
       "      <td>0.0</td>\n",
       "      <td>1.1946</td>\n",
       "    </tr>\n",
       "    <tr>\n",
       "      <th>9294</th>\n",
       "      <td>Standard Class</td>\n",
       "      <td>Corporate</td>\n",
       "      <td>United States</td>\n",
       "      <td>Cleveland</td>\n",
       "      <td>Ohio</td>\n",
       "      <td>44105</td>\n",
       "      <td>East</td>\n",
       "      <td>Office Supplies</td>\n",
       "      <td>Paper</td>\n",
       "      <td>13.872</td>\n",
       "      <td>3</td>\n",
       "      <td>0.2</td>\n",
       "      <td>5.0286</td>\n",
       "    </tr>\n",
       "    <tr>\n",
       "      <th>5135</th>\n",
       "      <td>Standard Class</td>\n",
       "      <td>Home Office</td>\n",
       "      <td>United States</td>\n",
       "      <td>Seattle</td>\n",
       "      <td>Washington</td>\n",
       "      <td>98103</td>\n",
       "      <td>West</td>\n",
       "      <td>Office Supplies</td>\n",
       "      <td>Fasteners</td>\n",
       "      <td>17.050</td>\n",
       "      <td>5</td>\n",
       "      <td>0.0</td>\n",
       "      <td>8.1840</td>\n",
       "    </tr>\n",
       "    <tr>\n",
       "      <th>6065</th>\n",
       "      <td>First Class</td>\n",
       "      <td>Consumer</td>\n",
       "      <td>United States</td>\n",
       "      <td>Philadelphia</td>\n",
       "      <td>Pennsylvania</td>\n",
       "      <td>19120</td>\n",
       "      <td>East</td>\n",
       "      <td>Office Supplies</td>\n",
       "      <td>Labels</td>\n",
       "      <td>23.904</td>\n",
       "      <td>6</td>\n",
       "      <td>0.2</td>\n",
       "      <td>7.7688</td>\n",
       "    </tr>\n",
       "    <tr>\n",
       "      <th>8427</th>\n",
       "      <td>First Class</td>\n",
       "      <td>Consumer</td>\n",
       "      <td>United States</td>\n",
       "      <td>Roseville</td>\n",
       "      <td>Michigan</td>\n",
       "      <td>48066</td>\n",
       "      <td>Central</td>\n",
       "      <td>Office Supplies</td>\n",
       "      <td>Supplies</td>\n",
       "      <td>4.360</td>\n",
       "      <td>2</td>\n",
       "      <td>0.0</td>\n",
       "      <td>0.1744</td>\n",
       "    </tr>\n",
       "    <tr>\n",
       "      <th>2260</th>\n",
       "      <td>Second Class</td>\n",
       "      <td>Home Office</td>\n",
       "      <td>United States</td>\n",
       "      <td>San Diego</td>\n",
       "      <td>California</td>\n",
       "      <td>92024</td>\n",
       "      <td>West</td>\n",
       "      <td>Technology</td>\n",
       "      <td>Accessories</td>\n",
       "      <td>371.970</td>\n",
       "      <td>3</td>\n",
       "      <td>0.0</td>\n",
       "      <td>66.9546</td>\n",
       "    </tr>\n",
       "  </tbody>\n",
       "</table>\n",
       "</div>"
      ],
      "text/plain": [
       "           Ship Mode      Segment        Country             City  \\\n",
       "9901  Standard Class     Consumer  United States       Louisville   \n",
       "3025  Standard Class     Consumer  United States    New York City   \n",
       "5893  Standard Class     Consumer  United States          Atlanta   \n",
       "8490    Second Class     Consumer  United States        Arlington   \n",
       "9701  Standard Class     Consumer  United States  San Luis Obispo   \n",
       "9294  Standard Class    Corporate  United States        Cleveland   \n",
       "5135  Standard Class  Home Office  United States          Seattle   \n",
       "6065     First Class     Consumer  United States     Philadelphia   \n",
       "8427     First Class     Consumer  United States        Roseville   \n",
       "2260    Second Class  Home Office  United States        San Diego   \n",
       "\n",
       "             State  Postal Code   Region         Category Sub-Category  \\\n",
       "9901      Colorado        80027     West        Furniture  Furnishings   \n",
       "3025      New York        10011     East  Office Supplies        Paper   \n",
       "5893       Georgia        30318    South  Office Supplies      Binders   \n",
       "8490      Virginia        22204    South        Furniture  Furnishings   \n",
       "9701    California        93405     West  Office Supplies    Fasteners   \n",
       "9294          Ohio        44105     East  Office Supplies        Paper   \n",
       "5135    Washington        98103     West  Office Supplies    Fasteners   \n",
       "6065  Pennsylvania        19120     East  Office Supplies       Labels   \n",
       "8427      Michigan        48066  Central  Office Supplies     Supplies   \n",
       "2260    California        92024     West       Technology  Accessories   \n",
       "\n",
       "        Sales  Quantity  Discount   Profit  \n",
       "9901   22.752         3       0.2   7.1100  \n",
       "3025   17.940         3       0.0   8.0730  \n",
       "5893    2.780         1       0.0   1.3622  \n",
       "8490   18.690         7       0.0   7.1022  \n",
       "9701    3.620         2       0.0   1.1946  \n",
       "9294   13.872         3       0.2   5.0286  \n",
       "5135   17.050         5       0.0   8.1840  \n",
       "6065   23.904         6       0.2   7.7688  \n",
       "8427    4.360         2       0.0   0.1744  \n",
       "2260  371.970         3       0.0  66.9546  "
      ]
     },
     "execution_count": 3,
     "metadata": {},
     "output_type": "execute_result"
    }
   ],
   "source": [
    "#view random samples of the dataset \n",
    "samp_superstore.sample(10)"
   ]
  },
  {
   "cell_type": "code",
   "execution_count": 4,
   "id": "9ceebb6b",
   "metadata": {},
   "outputs": [
    {
     "name": "stdout",
     "output_type": "stream",
     "text": [
      "<class 'pandas.core.frame.DataFrame'>\n",
      "RangeIndex: 9994 entries, 0 to 9993\n",
      "Data columns (total 13 columns):\n",
      " #   Column        Non-Null Count  Dtype  \n",
      "---  ------        --------------  -----  \n",
      " 0   Ship Mode     9994 non-null   object \n",
      " 1   Segment       9994 non-null   object \n",
      " 2   Country       9994 non-null   object \n",
      " 3   City          9994 non-null   object \n",
      " 4   State         9994 non-null   object \n",
      " 5   Postal Code   9994 non-null   int64  \n",
      " 6   Region        9994 non-null   object \n",
      " 7   Category      9994 non-null   object \n",
      " 8   Sub-Category  9994 non-null   object \n",
      " 9   Sales         9994 non-null   float64\n",
      " 10  Quantity      9994 non-null   int64  \n",
      " 11  Discount      9994 non-null   float64\n",
      " 12  Profit        9994 non-null   float64\n",
      "dtypes: float64(3), int64(2), object(8)\n",
      "memory usage: 1015.1+ KB\n"
     ]
    }
   ],
   "source": [
    "#obtain descriptive summary of the dataset \n",
    "samp_superstore.info()\n"
   ]
  },
  {
   "cell_type": "code",
   "execution_count": 5,
   "id": "a3bbe8dc",
   "metadata": {},
   "outputs": [
    {
     "data": {
      "text/plain": [
       "17"
      ]
     },
     "execution_count": 5,
     "metadata": {},
     "output_type": "execute_result"
    }
   ],
   "source": [
    "#check for number of duplicate rows \n",
    "samp_superstore.duplicated().sum()"
   ]
  },
  {
   "cell_type": "code",
   "execution_count": 6,
   "id": "65526ce2",
   "metadata": {
    "scrolled": true
   },
   "outputs": [
    {
     "data": {
      "text/plain": [
       "array(['Second Class', 'Standard Class', 'First Class', 'Same Day'],\n",
       "      dtype=object)"
      ]
     },
     "execution_count": 6,
     "metadata": {},
     "output_type": "execute_result"
    }
   ],
   "source": [
    "#obtain unique values of ship mode \n",
    "samp_superstore[\"Ship Mode\"].unique()"
   ]
  },
  {
   "cell_type": "code",
   "execution_count": 7,
   "id": "1721db09",
   "metadata": {},
   "outputs": [
    {
     "data": {
      "text/plain": [
       "array(['Consumer', 'Corporate', 'Home Office'], dtype=object)"
      ]
     },
     "execution_count": 7,
     "metadata": {},
     "output_type": "execute_result"
    }
   ],
   "source": [
    "#obtain unique Segment values \n",
    "samp_superstore[\"Segment\"].unique()"
   ]
  },
  {
   "cell_type": "code",
   "execution_count": 8,
   "id": "54dcf881",
   "metadata": {},
   "outputs": [
    {
     "data": {
      "text/plain": [
       "array(['United States'], dtype=object)"
      ]
     },
     "execution_count": 8,
     "metadata": {},
     "output_type": "execute_result"
    }
   ],
   "source": [
    "#obtain the unique values in Country\n",
    "samp_superstore.Country.unique()\n"
   ]
  },
  {
   "cell_type": "code",
   "execution_count": 9,
   "id": "6948675f",
   "metadata": {},
   "outputs": [
    {
     "data": {
      "text/plain": [
       "array(['South', 'West', 'Central', 'East'], dtype=object)"
      ]
     },
     "execution_count": 9,
     "metadata": {},
     "output_type": "execute_result"
    }
   ],
   "source": [
    "# obtain the unique Regions\n",
    "samp_superstore.Region.unique()\n"
   ]
  },
  {
   "cell_type": "code",
   "execution_count": 10,
   "id": "ccaef770",
   "metadata": {
    "scrolled": false
   },
   "outputs": [
    {
     "data": {
      "text/plain": [
       "Office Supplies    6026\n",
       "Furniture          2121\n",
       "Technology         1847\n",
       "Name: Category, dtype: int64"
      ]
     },
     "execution_count": 10,
     "metadata": {},
     "output_type": "execute_result"
    }
   ],
   "source": [
    "#obtain the number of unique values in Category\n",
    "samp_superstore.Category.value_counts()\n"
   ]
  },
  {
   "cell_type": "code",
   "execution_count": 11,
   "id": "314f0396",
   "metadata": {},
   "outputs": [
    {
     "data": {
      "text/plain": [
       "17"
      ]
     },
     "execution_count": 11,
     "metadata": {},
     "output_type": "execute_result"
    }
   ],
   "source": [
    "#obtain the number of unique values in  Sub-Category column \n",
    "samp_superstore[\"Sub-Category\"].nunique()\n"
   ]
  },
  {
   "cell_type": "code",
   "execution_count": 12,
   "id": "17505c36",
   "metadata": {},
   "outputs": [
    {
     "data": {
      "text/plain": [
       "Binders        1523\n",
       "Paper          1370\n",
       "Furnishings     957\n",
       "Phones          889\n",
       "Storage         846\n",
       "Art             796\n",
       "Accessories     775\n",
       "Chairs          617\n",
       "Appliances      466\n",
       "Labels          364\n",
       "Tables          319\n",
       "Envelopes       254\n",
       "Bookcases       228\n",
       "Fasteners       217\n",
       "Supplies        190\n",
       "Machines        115\n",
       "Copiers          68\n",
       "Name: Sub-Category, dtype: int64"
      ]
     },
     "execution_count": 12,
     "metadata": {},
     "output_type": "execute_result"
    }
   ],
   "source": [
    "#obtain the count of the unique values in Sub-Category\n",
    "samp_superstore[\"Sub-Category\"].value_counts()\n"
   ]
  },
  {
   "cell_type": "code",
   "execution_count": 13,
   "id": "eded9a18",
   "metadata": {},
   "outputs": [
    {
     "data": {
      "text/plain": [
       "49"
      ]
     },
     "execution_count": 13,
     "metadata": {},
     "output_type": "execute_result"
    }
   ],
   "source": [
    "#check for number of unique States \n",
    "samp_superstore.State.nunique()\n"
   ]
  },
  {
   "cell_type": "code",
   "execution_count": 14,
   "id": "cc461997",
   "metadata": {},
   "outputs": [
    {
     "data": {
      "text/plain": [
       "531"
      ]
     },
     "execution_count": 14,
     "metadata": {},
     "output_type": "execute_result"
    }
   ],
   "source": [
    "#check number of Cities \n",
    "samp_superstore.City.nunique()\n"
   ]
  },
  {
   "cell_type": "markdown",
   "id": "0c8167d8",
   "metadata": {},
   "source": [
    "### Issues \n",
    "\n",
    "- Put underscore in place of spaces in column names \n",
    "- All country column values are \"United States\"\n",
    "- Dtype of Postal Code as int\n",
    "- Zip codes with less than 5 numeric digits \n",
    "- \"-\" in column name (eg Sub-Category)"
   ]
  },
  {
   "cell_type": "markdown",
   "id": "4206ecdf",
   "metadata": {},
   "source": [
    "### Cleaning"
   ]
  },
  {
   "cell_type": "markdown",
   "id": "4c9d2b2c",
   "metadata": {},
   "source": [
    "One of the issues noted in the assessment phase is the presence of a space between the words of some column names.\n",
    "\n",
    "Below, the space in those column names will be replaced with an underscore (\"\\_\") as this allows more flexibility in the use of the column names."
   ]
  },
  {
   "cell_type": "code",
   "execution_count": 15,
   "id": "21b829f1",
   "metadata": {},
   "outputs": [],
   "source": [
    "#create a list containing column names \n",
    "col_names = list(samp_superstore.columns) \n"
   ]
  },
  {
   "cell_type": "code",
   "execution_count": 16,
   "id": "68bfd2b1",
   "metadata": {},
   "outputs": [],
   "source": [
    "def replace_space(df, list_col_names): \n",
    "    \"\"\"\n",
    "    This function replaces the space in the column names \n",
    "    with spaces between their words with '_'\n",
    "    \"\"\"\n",
    "    for col_name in list_col_names: \n",
    "        if \" \" in col_name: \n",
    "            new_name = col_name.replace(\" \", \"_\") \n",
    "            df.rename(columns = {col_name : new_name}, \n",
    "                      inplace = True) \n",
    "    return df \n"
   ]
  },
  {
   "cell_type": "code",
   "execution_count": 17,
   "id": "96ed3c0a",
   "metadata": {},
   "outputs": [
    {
     "data": {
      "text/html": [
       "<div>\n",
       "<style scoped>\n",
       "    .dataframe tbody tr th:only-of-type {\n",
       "        vertical-align: middle;\n",
       "    }\n",
       "\n",
       "    .dataframe tbody tr th {\n",
       "        vertical-align: top;\n",
       "    }\n",
       "\n",
       "    .dataframe thead th {\n",
       "        text-align: right;\n",
       "    }\n",
       "</style>\n",
       "<table border=\"1\" class=\"dataframe\">\n",
       "  <thead>\n",
       "    <tr style=\"text-align: right;\">\n",
       "      <th></th>\n",
       "      <th>Ship_Mode</th>\n",
       "      <th>Segment</th>\n",
       "      <th>Country</th>\n",
       "      <th>City</th>\n",
       "      <th>State</th>\n",
       "      <th>Postal_Code</th>\n",
       "      <th>Region</th>\n",
       "      <th>Category</th>\n",
       "      <th>Sub-Category</th>\n",
       "      <th>Sales</th>\n",
       "      <th>Quantity</th>\n",
       "      <th>Discount</th>\n",
       "      <th>Profit</th>\n",
       "    </tr>\n",
       "  </thead>\n",
       "  <tbody>\n",
       "    <tr>\n",
       "      <th>0</th>\n",
       "      <td>Second Class</td>\n",
       "      <td>Consumer</td>\n",
       "      <td>United States</td>\n",
       "      <td>Henderson</td>\n",
       "      <td>Kentucky</td>\n",
       "      <td>42420</td>\n",
       "      <td>South</td>\n",
       "      <td>Furniture</td>\n",
       "      <td>Bookcases</td>\n",
       "      <td>261.96</td>\n",
       "      <td>2</td>\n",
       "      <td>0.0</td>\n",
       "      <td>41.9136</td>\n",
       "    </tr>\n",
       "  </tbody>\n",
       "</table>\n",
       "</div>"
      ],
      "text/plain": [
       "      Ship_Mode   Segment        Country       City     State  Postal_Code  \\\n",
       "0  Second Class  Consumer  United States  Henderson  Kentucky        42420   \n",
       "\n",
       "  Region   Category Sub-Category   Sales  Quantity  Discount   Profit  \n",
       "0  South  Furniture    Bookcases  261.96         2       0.0  41.9136  "
      ]
     },
     "execution_count": 17,
     "metadata": {},
     "output_type": "execute_result"
    }
   ],
   "source": [
    "#apply the function \n",
    "samp_superstore = replace_space(samp_superstore, col_names) \n",
    "\n",
    "#confirm change \n",
    "samp_superstore.head(1)"
   ]
  },
  {
   "cell_type": "markdown",
   "id": "77e1d9b0",
   "metadata": {},
   "source": [
    "Since all the transactions made were to customers living in the United States, the `Country` column will be dropped as it is unnecessary, and only contains repetitive values."
   ]
  },
  {
   "cell_type": "code",
   "execution_count": 18,
   "id": "f34cf83d",
   "metadata": {},
   "outputs": [
    {
     "data": {
      "text/plain": [
       "Index(['Ship_Mode', 'Segment', 'City', 'State', 'Postal_Code', 'Region',\n",
       "       'Category', 'Sub-Category', 'Sales', 'Quantity', 'Discount', 'Profit'],\n",
       "      dtype='object')"
      ]
     },
     "execution_count": 18,
     "metadata": {},
     "output_type": "execute_result"
    }
   ],
   "source": [
    "#drop Country column \n",
    "samp_superstore.drop(\"Country\", axis = 1, inplace = True) \n",
    "\n",
    "#confirm \n",
    "samp_superstore.columns"
   ]
  }
 ],
 "metadata": {
  "kernelspec": {
   "display_name": "Python 3 (ipykernel)",
   "language": "python",
   "name": "python3"
  },
  "language_info": {
   "codemirror_mode": {
    "name": "ipython",
    "version": 3
   },
   "file_extension": ".py",
   "mimetype": "text/x-python",
   "name": "python",
   "nbconvert_exporter": "python",
   "pygments_lexer": "ipython3",
   "version": "3.9.7"
  }
 },
 "nbformat": 4,
 "nbformat_minor": 5
}
