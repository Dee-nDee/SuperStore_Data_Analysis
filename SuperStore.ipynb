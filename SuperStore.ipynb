{
 "cells": [
  {
   "cell_type": "code",
   "execution_count": 1,
   "id": "141c6054",
   "metadata": {},
   "outputs": [],
   "source": [
    "#import libraries \n",
    "import numpy as np \n",
    "import pandas as pd \n",
    "import matplotlib.pyplot as plt \n",
    "import seaborn as sb \n",
    "sb.set_style(\"darkgrid\") \n",
    "\n",
    "%matplotlib inline "
   ]
  },
  {
   "cell_type": "code",
   "execution_count": 2,
   "id": "303420b4",
   "metadata": {},
   "outputs": [],
   "source": [
    "#load dataset \n",
    "samp_superstore = pd.read_csv(\"sample_superstore.csv\") \n"
   ]
  },
  {
   "cell_type": "markdown",
   "id": "80ad4e73",
   "metadata": {},
   "source": [
    "## Data Wrangling\n",
    "\n",
    "### Assessment"
   ]
  },
  {
   "cell_type": "code",
   "execution_count": 3,
   "id": "7635b7fe",
   "metadata": {},
   "outputs": [
    {
     "data": {
      "text/html": [
       "<div>\n",
       "<style scoped>\n",
       "    .dataframe tbody tr th:only-of-type {\n",
       "        vertical-align: middle;\n",
       "    }\n",
       "\n",
       "    .dataframe tbody tr th {\n",
       "        vertical-align: top;\n",
       "    }\n",
       "\n",
       "    .dataframe thead th {\n",
       "        text-align: right;\n",
       "    }\n",
       "</style>\n",
       "<table border=\"1\" class=\"dataframe\">\n",
       "  <thead>\n",
       "    <tr style=\"text-align: right;\">\n",
       "      <th></th>\n",
       "      <th>Ship Mode</th>\n",
       "      <th>Segment</th>\n",
       "      <th>Country</th>\n",
       "      <th>City</th>\n",
       "      <th>State</th>\n",
       "      <th>Postal Code</th>\n",
       "      <th>Region</th>\n",
       "      <th>Category</th>\n",
       "      <th>Sub-Category</th>\n",
       "      <th>Sales</th>\n",
       "      <th>Quantity</th>\n",
       "      <th>Discount</th>\n",
       "      <th>Profit</th>\n",
       "    </tr>\n",
       "  </thead>\n",
       "  <tbody>\n",
       "    <tr>\n",
       "      <th>9747</th>\n",
       "      <td>Standard Class</td>\n",
       "      <td>Consumer</td>\n",
       "      <td>United States</td>\n",
       "      <td>Chicago</td>\n",
       "      <td>Illinois</td>\n",
       "      <td>60653</td>\n",
       "      <td>Central</td>\n",
       "      <td>Furniture</td>\n",
       "      <td>Furnishings</td>\n",
       "      <td>10.984</td>\n",
       "      <td>2</td>\n",
       "      <td>0.6</td>\n",
       "      <td>-7.9634</td>\n",
       "    </tr>\n",
       "    <tr>\n",
       "      <th>200</th>\n",
       "      <td>Standard Class</td>\n",
       "      <td>Consumer</td>\n",
       "      <td>United States</td>\n",
       "      <td>Akron</td>\n",
       "      <td>Ohio</td>\n",
       "      <td>44312</td>\n",
       "      <td>East</td>\n",
       "      <td>Office Supplies</td>\n",
       "      <td>Paper</td>\n",
       "      <td>21.744</td>\n",
       "      <td>3</td>\n",
       "      <td>0.2</td>\n",
       "      <td>6.7950</td>\n",
       "    </tr>\n",
       "    <tr>\n",
       "      <th>8337</th>\n",
       "      <td>Standard Class</td>\n",
       "      <td>Corporate</td>\n",
       "      <td>United States</td>\n",
       "      <td>Decatur</td>\n",
       "      <td>Alabama</td>\n",
       "      <td>35601</td>\n",
       "      <td>South</td>\n",
       "      <td>Office Supplies</td>\n",
       "      <td>Paper</td>\n",
       "      <td>23.920</td>\n",
       "      <td>4</td>\n",
       "      <td>0.0</td>\n",
       "      <td>11.7208</td>\n",
       "    </tr>\n",
       "    <tr>\n",
       "      <th>1253</th>\n",
       "      <td>Standard Class</td>\n",
       "      <td>Home Office</td>\n",
       "      <td>United States</td>\n",
       "      <td>Chester</td>\n",
       "      <td>Pennsylvania</td>\n",
       "      <td>19013</td>\n",
       "      <td>East</td>\n",
       "      <td>Office Supplies</td>\n",
       "      <td>Art</td>\n",
       "      <td>5.248</td>\n",
       "      <td>2</td>\n",
       "      <td>0.2</td>\n",
       "      <td>0.5904</td>\n",
       "    </tr>\n",
       "    <tr>\n",
       "      <th>4717</th>\n",
       "      <td>Standard Class</td>\n",
       "      <td>Consumer</td>\n",
       "      <td>United States</td>\n",
       "      <td>Baltimore</td>\n",
       "      <td>Maryland</td>\n",
       "      <td>21215</td>\n",
       "      <td>East</td>\n",
       "      <td>Office Supplies</td>\n",
       "      <td>Art</td>\n",
       "      <td>8.220</td>\n",
       "      <td>3</td>\n",
       "      <td>0.0</td>\n",
       "      <td>2.2194</td>\n",
       "    </tr>\n",
       "    <tr>\n",
       "      <th>7591</th>\n",
       "      <td>Standard Class</td>\n",
       "      <td>Consumer</td>\n",
       "      <td>United States</td>\n",
       "      <td>Philadelphia</td>\n",
       "      <td>Pennsylvania</td>\n",
       "      <td>19134</td>\n",
       "      <td>East</td>\n",
       "      <td>Furniture</td>\n",
       "      <td>Chairs</td>\n",
       "      <td>71.246</td>\n",
       "      <td>2</td>\n",
       "      <td>0.3</td>\n",
       "      <td>-19.3382</td>\n",
       "    </tr>\n",
       "    <tr>\n",
       "      <th>979</th>\n",
       "      <td>First Class</td>\n",
       "      <td>Corporate</td>\n",
       "      <td>United States</td>\n",
       "      <td>Columbus</td>\n",
       "      <td>Indiana</td>\n",
       "      <td>47201</td>\n",
       "      <td>Central</td>\n",
       "      <td>Office Supplies</td>\n",
       "      <td>Paper</td>\n",
       "      <td>34.020</td>\n",
       "      <td>3</td>\n",
       "      <td>0.0</td>\n",
       "      <td>16.6698</td>\n",
       "    </tr>\n",
       "    <tr>\n",
       "      <th>8270</th>\n",
       "      <td>Standard Class</td>\n",
       "      <td>Consumer</td>\n",
       "      <td>United States</td>\n",
       "      <td>Aurora</td>\n",
       "      <td>Illinois</td>\n",
       "      <td>60505</td>\n",
       "      <td>Central</td>\n",
       "      <td>Office Supplies</td>\n",
       "      <td>Art</td>\n",
       "      <td>9.344</td>\n",
       "      <td>2</td>\n",
       "      <td>0.2</td>\n",
       "      <td>3.1536</td>\n",
       "    </tr>\n",
       "    <tr>\n",
       "      <th>9908</th>\n",
       "      <td>First Class</td>\n",
       "      <td>Corporate</td>\n",
       "      <td>United States</td>\n",
       "      <td>Anaheim</td>\n",
       "      <td>California</td>\n",
       "      <td>92804</td>\n",
       "      <td>West</td>\n",
       "      <td>Furniture</td>\n",
       "      <td>Furnishings</td>\n",
       "      <td>207.350</td>\n",
       "      <td>5</td>\n",
       "      <td>0.0</td>\n",
       "      <td>24.8820</td>\n",
       "    </tr>\n",
       "    <tr>\n",
       "      <th>836</th>\n",
       "      <td>Second Class</td>\n",
       "      <td>Consumer</td>\n",
       "      <td>United States</td>\n",
       "      <td>Tyler</td>\n",
       "      <td>Texas</td>\n",
       "      <td>75701</td>\n",
       "      <td>Central</td>\n",
       "      <td>Office Supplies</td>\n",
       "      <td>Binders</td>\n",
       "      <td>51.184</td>\n",
       "      <td>4</td>\n",
       "      <td>0.8</td>\n",
       "      <td>-79.3352</td>\n",
       "    </tr>\n",
       "  </tbody>\n",
       "</table>\n",
       "</div>"
      ],
      "text/plain": [
       "           Ship Mode      Segment        Country          City         State  \\\n",
       "9747  Standard Class     Consumer  United States       Chicago      Illinois   \n",
       "200   Standard Class     Consumer  United States         Akron          Ohio   \n",
       "8337  Standard Class    Corporate  United States       Decatur       Alabama   \n",
       "1253  Standard Class  Home Office  United States       Chester  Pennsylvania   \n",
       "4717  Standard Class     Consumer  United States     Baltimore      Maryland   \n",
       "7591  Standard Class     Consumer  United States  Philadelphia  Pennsylvania   \n",
       "979      First Class    Corporate  United States      Columbus       Indiana   \n",
       "8270  Standard Class     Consumer  United States        Aurora      Illinois   \n",
       "9908     First Class    Corporate  United States       Anaheim    California   \n",
       "836     Second Class     Consumer  United States         Tyler         Texas   \n",
       "\n",
       "      Postal Code   Region         Category Sub-Category    Sales  Quantity  \\\n",
       "9747        60653  Central        Furniture  Furnishings   10.984         2   \n",
       "200         44312     East  Office Supplies        Paper   21.744         3   \n",
       "8337        35601    South  Office Supplies        Paper   23.920         4   \n",
       "1253        19013     East  Office Supplies          Art    5.248         2   \n",
       "4717        21215     East  Office Supplies          Art    8.220         3   \n",
       "7591        19134     East        Furniture       Chairs   71.246         2   \n",
       "979         47201  Central  Office Supplies        Paper   34.020         3   \n",
       "8270        60505  Central  Office Supplies          Art    9.344         2   \n",
       "9908        92804     West        Furniture  Furnishings  207.350         5   \n",
       "836         75701  Central  Office Supplies      Binders   51.184         4   \n",
       "\n",
       "      Discount   Profit  \n",
       "9747       0.6  -7.9634  \n",
       "200        0.2   6.7950  \n",
       "8337       0.0  11.7208  \n",
       "1253       0.2   0.5904  \n",
       "4717       0.0   2.2194  \n",
       "7591       0.3 -19.3382  \n",
       "979        0.0  16.6698  \n",
       "8270       0.2   3.1536  \n",
       "9908       0.0  24.8820  \n",
       "836        0.8 -79.3352  "
      ]
     },
     "execution_count": 3,
     "metadata": {},
     "output_type": "execute_result"
    }
   ],
   "source": [
    "#view random rows of the dataset \n",
    "samp_superstore.sample(10)"
   ]
  },
  {
   "cell_type": "code",
   "execution_count": 4,
   "id": "9ceebb6b",
   "metadata": {},
   "outputs": [
    {
     "name": "stdout",
     "output_type": "stream",
     "text": [
      "<class 'pandas.core.frame.DataFrame'>\n",
      "RangeIndex: 9994 entries, 0 to 9993\n",
      "Data columns (total 13 columns):\n",
      " #   Column        Non-Null Count  Dtype  \n",
      "---  ------        --------------  -----  \n",
      " 0   Ship Mode     9994 non-null   object \n",
      " 1   Segment       9994 non-null   object \n",
      " 2   Country       9994 non-null   object \n",
      " 3   City          9994 non-null   object \n",
      " 4   State         9994 non-null   object \n",
      " 5   Postal Code   9994 non-null   int64  \n",
      " 6   Region        9994 non-null   object \n",
      " 7   Category      9994 non-null   object \n",
      " 8   Sub-Category  9994 non-null   object \n",
      " 9   Sales         9994 non-null   float64\n",
      " 10  Quantity      9994 non-null   int64  \n",
      " 11  Discount      9994 non-null   float64\n",
      " 12  Profit        9994 non-null   float64\n",
      "dtypes: float64(3), int64(2), object(8)\n",
      "memory usage: 1015.1+ KB\n"
     ]
    }
   ],
   "source": [
    "#obtain descriptive summary of the dataset \n",
    "samp_superstore.info() \n"
   ]
  },
  {
   "cell_type": "code",
   "execution_count": 5,
   "id": "a3bbe8dc",
   "metadata": {},
   "outputs": [
    {
     "data": {
      "text/plain": [
       "17"
      ]
     },
     "execution_count": 5,
     "metadata": {},
     "output_type": "execute_result"
    }
   ],
   "source": [
    "#check for number of duplicate rows \n",
    "samp_superstore.duplicated().sum()"
   ]
  },
  {
   "cell_type": "code",
   "execution_count": 6,
   "id": "ef7d2540",
   "metadata": {},
   "outputs": [
    {
     "data": {
      "text/plain": [
       "Ship Mode       0\n",
       "Segment         0\n",
       "Country         0\n",
       "City            0\n",
       "State           0\n",
       "Postal Code     0\n",
       "Region          0\n",
       "Category        0\n",
       "Sub-Category    0\n",
       "Sales           0\n",
       "Quantity        0\n",
       "Discount        0\n",
       "Profit          0\n",
       "dtype: int64"
      ]
     },
     "execution_count": 6,
     "metadata": {},
     "output_type": "execute_result"
    }
   ],
   "source": [
    "#check for number of null rows in each column\n",
    "samp_superstore.isnull().sum()\n"
   ]
  },
  {
   "cell_type": "code",
   "execution_count": 7,
   "id": "65526ce2",
   "metadata": {
    "scrolled": true
   },
   "outputs": [
    {
     "data": {
      "text/plain": [
       "array(['Second Class', 'Standard Class', 'First Class', 'Same Day'],\n",
       "      dtype=object)"
      ]
     },
     "execution_count": 7,
     "metadata": {},
     "output_type": "execute_result"
    }
   ],
   "source": [
    "#obtain unique values of ship mode \n",
    "samp_superstore[\"Ship Mode\"].unique()"
   ]
  },
  {
   "cell_type": "code",
   "execution_count": 8,
   "id": "1721db09",
   "metadata": {},
   "outputs": [
    {
     "data": {
      "text/plain": [
       "array(['Consumer', 'Corporate', 'Home Office'], dtype=object)"
      ]
     },
     "execution_count": 8,
     "metadata": {},
     "output_type": "execute_result"
    }
   ],
   "source": [
    "#obtain unique Segment values \n",
    "samp_superstore[\"Segment\"].unique()"
   ]
  },
  {
   "cell_type": "code",
   "execution_count": 9,
   "id": "54dcf881",
   "metadata": {},
   "outputs": [
    {
     "data": {
      "text/plain": [
       "array(['United States'], dtype=object)"
      ]
     },
     "execution_count": 9,
     "metadata": {},
     "output_type": "execute_result"
    }
   ],
   "source": [
    "#obtain the unique values in Country\n",
    "samp_superstore.Country.unique()\n"
   ]
  },
  {
   "cell_type": "code",
   "execution_count": 10,
   "id": "6948675f",
   "metadata": {},
   "outputs": [
    {
     "data": {
      "text/plain": [
       "array(['South', 'West', 'Central', 'East'], dtype=object)"
      ]
     },
     "execution_count": 10,
     "metadata": {},
     "output_type": "execute_result"
    }
   ],
   "source": [
    "# obtain the unique Regions\n",
    "samp_superstore.Region.unique()\n"
   ]
  },
  {
   "cell_type": "code",
   "execution_count": 11,
   "id": "ccaef770",
   "metadata": {
    "scrolled": false
   },
   "outputs": [
    {
     "data": {
      "text/plain": [
       "Office Supplies    6026\n",
       "Furniture          2121\n",
       "Technology         1847\n",
       "Name: Category, dtype: int64"
      ]
     },
     "execution_count": 11,
     "metadata": {},
     "output_type": "execute_result"
    }
   ],
   "source": [
    "#obtain the number of unique values in Category\n",
    "samp_superstore.Category.value_counts()\n"
   ]
  },
  {
   "cell_type": "code",
   "execution_count": 12,
   "id": "314f0396",
   "metadata": {},
   "outputs": [
    {
     "data": {
      "text/plain": [
       "17"
      ]
     },
     "execution_count": 12,
     "metadata": {},
     "output_type": "execute_result"
    }
   ],
   "source": [
    "#obtain the number of unique values in  Sub-Category column \n",
    "samp_superstore[\"Sub-Category\"].nunique()\n"
   ]
  },
  {
   "cell_type": "code",
   "execution_count": 13,
   "id": "17505c36",
   "metadata": {},
   "outputs": [
    {
     "data": {
      "text/plain": [
       "Binders        1523\n",
       "Paper          1370\n",
       "Furnishings     957\n",
       "Phones          889\n",
       "Storage         846\n",
       "Art             796\n",
       "Accessories     775\n",
       "Chairs          617\n",
       "Appliances      466\n",
       "Labels          364\n",
       "Tables          319\n",
       "Envelopes       254\n",
       "Bookcases       228\n",
       "Fasteners       217\n",
       "Supplies        190\n",
       "Machines        115\n",
       "Copiers          68\n",
       "Name: Sub-Category, dtype: int64"
      ]
     },
     "execution_count": 13,
     "metadata": {},
     "output_type": "execute_result"
    }
   ],
   "source": [
    "#obtain the count of the unique values in Sub-Category\n",
    "samp_superstore[\"Sub-Category\"].value_counts()\n"
   ]
  },
  {
   "cell_type": "code",
   "execution_count": 14,
   "id": "eded9a18",
   "metadata": {},
   "outputs": [
    {
     "data": {
      "text/plain": [
       "49"
      ]
     },
     "execution_count": 14,
     "metadata": {},
     "output_type": "execute_result"
    }
   ],
   "source": [
    "#check for number of unique States \n",
    "samp_superstore.State.nunique()\n"
   ]
  },
  {
   "cell_type": "code",
   "execution_count": 15,
   "id": "cc461997",
   "metadata": {},
   "outputs": [
    {
     "data": {
      "text/plain": [
       "531"
      ]
     },
     "execution_count": 15,
     "metadata": {},
     "output_type": "execute_result"
    }
   ],
   "source": [
    "#check number of Cities \n",
    "samp_superstore.City.nunique()\n"
   ]
  },
  {
   "cell_type": "code",
   "execution_count": 16,
   "id": "22bd6c1f",
   "metadata": {},
   "outputs": [
    {
     "data": {
      "text/plain": [
       "array([ 2,  3,  5,  7,  4,  6,  9,  1,  8, 14, 11, 13, 10, 12])"
      ]
     },
     "execution_count": 16,
     "metadata": {},
     "output_type": "execute_result"
    }
   ],
   "source": [
    "#obtain the unique Quantity values \n",
    "samp_superstore.Quantity.unique()"
   ]
  },
  {
   "cell_type": "markdown",
   "id": "0c8167d8",
   "metadata": {},
   "source": [
    "### Issues \n",
    "\n",
    "- Spaces in column names \n",
    "- Repititive value in `Country` column\n",
    "- Dtype of Postal Code as int\n",
    "- Zip codes with less than 5 numeric digits \n",
    "- \"-\" in `Sub-Category` column\n",
    "- Duplicated rows \n",
    "- Dtype of `Quantity` column\n",
    "- Unordered `Quantity` values\n",
    "- Unordered `Ship_Mode` values  \n",
    "- Negative `Profit` values \n",
    "- Null rows "
   ]
  },
  {
   "cell_type": "markdown",
   "id": "4206ecdf",
   "metadata": {},
   "source": [
    "### Cleaning"
   ]
  },
  {
   "cell_type": "markdown",
   "id": "4c9d2b2c",
   "metadata": {},
   "source": [
    "One of the issues noted in the assessment phase is the presence of a space between the words of some column names.\n",
    "\n",
    "Below, the space in those column names will be replaced with an underscore (\"\\_\") as this allows more flexibility in the use of the column names."
   ]
  },
  {
   "cell_type": "code",
   "execution_count": 17,
   "id": "21b829f1",
   "metadata": {},
   "outputs": [],
   "source": [
    "#create a list containing column names \n",
    "col_names = list(samp_superstore.columns) \n"
   ]
  },
  {
   "cell_type": "code",
   "execution_count": 18,
   "id": "68bfd2b1",
   "metadata": {},
   "outputs": [],
   "source": [
    "def replace_space(df, list_col_names): \n",
    "    \"\"\"\n",
    "    This function replaces the space in the column names \n",
    "    with spaces between their words with '_'\n",
    "    \"\"\"\n",
    "    for col_name in list_col_names: \n",
    "        if \" \" in col_name: \n",
    "            new_name = col_name.replace(\" \", \"_\") \n",
    "            df.rename(columns = {col_name : new_name}, \n",
    "                      inplace = True) \n",
    "    return df \n"
   ]
  },
  {
   "cell_type": "code",
   "execution_count": 19,
   "id": "96ed3c0a",
   "metadata": {},
   "outputs": [
    {
     "data": {
      "text/html": [
       "<div>\n",
       "<style scoped>\n",
       "    .dataframe tbody tr th:only-of-type {\n",
       "        vertical-align: middle;\n",
       "    }\n",
       "\n",
       "    .dataframe tbody tr th {\n",
       "        vertical-align: top;\n",
       "    }\n",
       "\n",
       "    .dataframe thead th {\n",
       "        text-align: right;\n",
       "    }\n",
       "</style>\n",
       "<table border=\"1\" class=\"dataframe\">\n",
       "  <thead>\n",
       "    <tr style=\"text-align: right;\">\n",
       "      <th></th>\n",
       "      <th>Ship_Mode</th>\n",
       "      <th>Segment</th>\n",
       "      <th>Country</th>\n",
       "      <th>City</th>\n",
       "      <th>State</th>\n",
       "      <th>Postal_Code</th>\n",
       "      <th>Region</th>\n",
       "      <th>Category</th>\n",
       "      <th>Sub-Category</th>\n",
       "      <th>Sales</th>\n",
       "      <th>Quantity</th>\n",
       "      <th>Discount</th>\n",
       "      <th>Profit</th>\n",
       "    </tr>\n",
       "  </thead>\n",
       "  <tbody>\n",
       "    <tr>\n",
       "      <th>0</th>\n",
       "      <td>Second Class</td>\n",
       "      <td>Consumer</td>\n",
       "      <td>United States</td>\n",
       "      <td>Henderson</td>\n",
       "      <td>Kentucky</td>\n",
       "      <td>42420</td>\n",
       "      <td>South</td>\n",
       "      <td>Furniture</td>\n",
       "      <td>Bookcases</td>\n",
       "      <td>261.96</td>\n",
       "      <td>2</td>\n",
       "      <td>0.0</td>\n",
       "      <td>41.9136</td>\n",
       "    </tr>\n",
       "  </tbody>\n",
       "</table>\n",
       "</div>"
      ],
      "text/plain": [
       "      Ship_Mode   Segment        Country       City     State  Postal_Code  \\\n",
       "0  Second Class  Consumer  United States  Henderson  Kentucky        42420   \n",
       "\n",
       "  Region   Category Sub-Category   Sales  Quantity  Discount   Profit  \n",
       "0  South  Furniture    Bookcases  261.96         2       0.0  41.9136  "
      ]
     },
     "execution_count": 19,
     "metadata": {},
     "output_type": "execute_result"
    }
   ],
   "source": [
    "#apply the function \n",
    "samp_superstore = replace_space(samp_superstore, col_names) \n",
    "\n",
    "#confirm change \n",
    "samp_superstore.head(1)"
   ]
  },
  {
   "cell_type": "markdown",
   "id": "77e1d9b0",
   "metadata": {},
   "source": [
    "Since all the transactions made were to customers living in the United States, the `Country` column will be dropped as it is unnecessary, and only contains repetitive values."
   ]
  },
  {
   "cell_type": "code",
   "execution_count": 20,
   "id": "f34cf83d",
   "metadata": {},
   "outputs": [
    {
     "data": {
      "text/plain": [
       "Index(['Ship_Mode', 'Segment', 'City', 'State', 'Postal_Code', 'Region',\n",
       "       'Category', 'Sub-Category', 'Sales', 'Quantity', 'Discount', 'Profit'],\n",
       "      dtype='object')"
      ]
     },
     "execution_count": 20,
     "metadata": {},
     "output_type": "execute_result"
    }
   ],
   "source": [
    "#drop Country column \n",
    "samp_superstore.drop(\"Country\", axis = 1, inplace = True) \n",
    "\n",
    "#confirm \n",
    "samp_superstore.columns"
   ]
  },
  {
   "cell_type": "markdown",
   "id": "56e5d997",
   "metadata": {},
   "source": [
    "The postal code for customers in the dataset has datatype as integer. This will be converted to string datatype as calculations will not be performed on the postal codes."
   ]
  },
  {
   "cell_type": "code",
   "execution_count": 21,
   "id": "be39134e",
   "metadata": {},
   "outputs": [
    {
     "data": {
      "text/plain": [
       "Ship_Mode        object\n",
       "Segment          object\n",
       "City             object\n",
       "State            object\n",
       "Postal_Code      object\n",
       "Region           object\n",
       "Category         object\n",
       "Sub-Category     object\n",
       "Sales           float64\n",
       "Quantity          int64\n",
       "Discount        float64\n",
       "Profit          float64\n",
       "dtype: object"
      ]
     },
     "execution_count": 21,
     "metadata": {},
     "output_type": "execute_result"
    }
   ],
   "source": [
    "#change datatype of Postal_Code from int to string \n",
    "samp_superstore.Postal_Code = samp_superstore.Postal_Code.astype(str)\n",
    "\n",
    "#confirm \n",
    "samp_superstore.dtypes\n"
   ]
  },
  {
   "cell_type": "markdown",
   "id": "857ccfdb",
   "metadata": {},
   "source": [
    "According to this [article](https://www.usatoday.com/story/news/2022/10/03/what-is-a-postal-code-zip/7836090001/), in the United States, postal codes are usually 5-digit characters. During the data assessment though, some postal codes were noticed to have only 4 digits. This may have been a typographical error. Below, 0 will be added to the front of each incomplete postal code."
   ]
  },
  {
   "cell_type": "code",
   "execution_count": 22,
   "id": "b019a0bc",
   "metadata": {},
   "outputs": [],
   "source": [
    "def incomplete_code_checker(col_name):\n",
    "    \"\"\"This function returns the number \n",
    "    of codes in a code column with less \n",
    "    than 5 digits\"\"\"\n",
    "    count = 0\n",
    "    for x in col_name:\n",
    "        if len(x) < 5: \n",
    "            count += 1 \n",
    "        else: \n",
    "            count += 0 \n",
    "    return count \n"
   ]
  },
  {
   "cell_type": "code",
   "execution_count": 23,
   "id": "e6ff531f",
   "metadata": {},
   "outputs": [
    {
     "data": {
      "text/plain": [
       "449"
      ]
     },
     "execution_count": 23,
     "metadata": {},
     "output_type": "execute_result"
    }
   ],
   "source": [
    "#apply to Postal_Code \n",
    "incomplete_code_checker(samp_superstore.Postal_Code)\n"
   ]
  },
  {
   "cell_type": "code",
   "execution_count": 24,
   "id": "00b49fc1",
   "metadata": {},
   "outputs": [
    {
     "data": {
      "text/plain": [
       "0"
      ]
     },
     "execution_count": 24,
     "metadata": {},
     "output_type": "execute_result"
    }
   ],
   "source": [
    "#add zero to at the beginning of incomplete postal codes \n",
    "samp_superstore.Postal_Code = samp_superstore.Postal_Code.str.pad(5, fillchar = \"0\")\n",
    "\n",
    "# confirm \n",
    "incomplete_code_checker(samp_superstore.Postal_Code) \n"
   ]
  },
  {
   "cell_type": "markdown",
   "id": "adc4ba75",
   "metadata": {},
   "source": [
    "Below, the column `Sub-Category` will be renamed `Sub_Category`. This again is to increase the flexibility of use."
   ]
  },
  {
   "cell_type": "code",
   "execution_count": 25,
   "id": "261b993e",
   "metadata": {},
   "outputs": [
    {
     "data": {
      "text/html": [
       "<div>\n",
       "<style scoped>\n",
       "    .dataframe tbody tr th:only-of-type {\n",
       "        vertical-align: middle;\n",
       "    }\n",
       "\n",
       "    .dataframe tbody tr th {\n",
       "        vertical-align: top;\n",
       "    }\n",
       "\n",
       "    .dataframe thead th {\n",
       "        text-align: right;\n",
       "    }\n",
       "</style>\n",
       "<table border=\"1\" class=\"dataframe\">\n",
       "  <thead>\n",
       "    <tr style=\"text-align: right;\">\n",
       "      <th></th>\n",
       "      <th>Ship_Mode</th>\n",
       "      <th>Segment</th>\n",
       "      <th>City</th>\n",
       "      <th>State</th>\n",
       "      <th>Postal_Code</th>\n",
       "      <th>Region</th>\n",
       "      <th>Category</th>\n",
       "      <th>Sub_Category</th>\n",
       "      <th>Sales</th>\n",
       "      <th>Quantity</th>\n",
       "      <th>Discount</th>\n",
       "      <th>Profit</th>\n",
       "    </tr>\n",
       "  </thead>\n",
       "  <tbody>\n",
       "    <tr>\n",
       "      <th>0</th>\n",
       "      <td>Second Class</td>\n",
       "      <td>Consumer</td>\n",
       "      <td>Henderson</td>\n",
       "      <td>Kentucky</td>\n",
       "      <td>42420</td>\n",
       "      <td>South</td>\n",
       "      <td>Furniture</td>\n",
       "      <td>Bookcases</td>\n",
       "      <td>261.96</td>\n",
       "      <td>2</td>\n",
       "      <td>0.0</td>\n",
       "      <td>41.9136</td>\n",
       "    </tr>\n",
       "  </tbody>\n",
       "</table>\n",
       "</div>"
      ],
      "text/plain": [
       "      Ship_Mode   Segment       City     State Postal_Code Region   Category  \\\n",
       "0  Second Class  Consumer  Henderson  Kentucky       42420  South  Furniture   \n",
       "\n",
       "  Sub_Category   Sales  Quantity  Discount   Profit  \n",
       "0    Bookcases  261.96         2       0.0  41.9136  "
      ]
     },
     "execution_count": 25,
     "metadata": {},
     "output_type": "execute_result"
    }
   ],
   "source": [
    "#rename Sub-Category column \n",
    "samp_superstore.rename(columns = {\"Sub-Category\" : \"Sub_Category\"}, inplace = True)\n",
    "\n",
    "#confirm \n",
    "samp_superstore.head(1)\n"
   ]
  },
  {
   "cell_type": "markdown",
   "id": "8e4d21dc",
   "metadata": {},
   "source": [
    "A total of 17 rows were found to be duplicated in the assessment phase and will be dropped next."
   ]
  },
  {
   "cell_type": "code",
   "execution_count": 26,
   "id": "19f776ae",
   "metadata": {
    "scrolled": true
   },
   "outputs": [
    {
     "data": {
      "text/plain": [
       "0"
      ]
     },
     "execution_count": 26,
     "metadata": {},
     "output_type": "execute_result"
    }
   ],
   "source": [
    "#drop duplicate rows \n",
    "samp_superstore.drop_duplicates(inplace = True)\n",
    "\n",
    "#confirm \n",
    "samp_superstore.duplicated().sum()\n"
   ]
  },
  {
   "cell_type": "markdown",
   "id": "34b7d6b7",
   "metadata": {},
   "source": [
    "The `Quantity` variable should be ordinal, hence, next the values in the column will be ordered. First though, the datatype of the `Quantity` column will be changed to string. "
   ]
  },
  {
   "cell_type": "code",
   "execution_count": 27,
   "id": "ef4af5e7",
   "metadata": {},
   "outputs": [
    {
     "data": {
      "text/plain": [
       "Ship_Mode        object\n",
       "Segment          object\n",
       "City             object\n",
       "State            object\n",
       "Postal_Code      object\n",
       "Region           object\n",
       "Category         object\n",
       "Sub_Category     object\n",
       "Sales           float64\n",
       "Quantity         object\n",
       "Discount        float64\n",
       "Profit          float64\n",
       "dtype: object"
      ]
     },
     "execution_count": 27,
     "metadata": {},
     "output_type": "execute_result"
    }
   ],
   "source": [
    "#change Quantity datatype to string \n",
    "samp_superstore.Quantity = samp_superstore.Quantity.astype(str) \n",
    "\n",
    "#confirm \n",
    "samp_superstore.dtypes\n"
   ]
  },
  {
   "cell_type": "markdown",
   "id": "1ce6d258",
   "metadata": {},
   "source": [
    "Next, the `Quantity` and `Ship_Mode` columns will be converted from plain string to an ordered categorical datatype."
   ]
  },
  {
   "cell_type": "code",
   "execution_count": 28,
   "id": "4a1b0f7a",
   "metadata": {},
   "outputs": [],
   "source": [
    "#create Quantity order \n",
    "quantity_order = [\"1\", \"2\", \"3\", \"4\", \"5\", \"6\", \n",
    "                  \"7\", \"8\", \"9\", \"10\", \"11\", \"12\"]\n"
   ]
  },
  {
   "cell_type": "code",
   "execution_count": 29,
   "id": "75d9d40e",
   "metadata": {
    "scrolled": true
   },
   "outputs": [],
   "source": [
    "#create the Quantity categorical datatype \n",
    "quantity_cat_dtype = pd.api.types.CategoricalDtype(ordered = True, categories = quantity_order) \n",
    "\n",
    "#apply created datatype on Quantity column\n",
    "samp_superstore.Quantity = samp_superstore.Quantity.astype(quantity_cat_dtype)\n",
    "\n"
   ]
  },
  {
   "cell_type": "markdown",
   "id": "fd6c62d0",
   "metadata": {},
   "source": [
    "**Note:**<br>\n",
    "Below are the various shipping modes and their meanings.\n",
    "- Standard Class - Shipping within 6 days.\n",
    "- Second Class - Shipping within 3 days.\n",
    "- First Class - Shipping within 1 day.\n",
    "- Same Day - Shipping on the same day. "
   ]
  },
  {
   "cell_type": "code",
   "execution_count": 30,
   "id": "fa0074db",
   "metadata": {},
   "outputs": [],
   "source": [
    "#create Ship Mode order\n",
    "ship_mode_order = [\"Standard Class\", \"Second Class\", \"First Class\", \n",
    "                   \"Same Day\"] \n"
   ]
  },
  {
   "cell_type": "code",
   "execution_count": 31,
   "id": "67d6f669",
   "metadata": {},
   "outputs": [
    {
     "data": {
      "text/plain": [
       "Ship_Mode       category\n",
       "Segment           object\n",
       "City              object\n",
       "State             object\n",
       "Postal_Code       object\n",
       "Region            object\n",
       "Category          object\n",
       "Sub_Category      object\n",
       "Sales            float64\n",
       "Quantity        category\n",
       "Discount         float64\n",
       "Profit           float64\n",
       "dtype: object"
      ]
     },
     "execution_count": 31,
     "metadata": {},
     "output_type": "execute_result"
    }
   ],
   "source": [
    "#create the Ship Mode categorical datatype \n",
    "ship_mode_dtype = pd.api.types.CategoricalDtype(ordered = True, categories = ship_mode_order) \n",
    "\n",
    "#apply created datatype on Ship Mode column\n",
    "samp_superstore.Ship_Mode = samp_superstore.Ship_Mode.astype(ship_mode_dtype)\n",
    "\n",
    "#confirm Quantity and Ship Mode datatypes\n",
    "samp_superstore.dtypes\n"
   ]
  },
  {
   "cell_type": "markdown",
   "id": "eefddb83",
   "metadata": {},
   "source": [
    "During visual assessment of the dataset, some negative values were noticed in the `Profit` column. This may have been an error, and would be corrected below.<br>\n",
    "\n",
    "First, the datatype of the column will be changed to string, and the negative sign (\"-\") will be sliced off the negative values. Afterwards, the values will be changed back to float."
   ]
  },
  {
   "cell_type": "code",
   "execution_count": 32,
   "id": "da2f66ee",
   "metadata": {},
   "outputs": [
    {
     "data": {
      "text/plain": [
       "Ship_Mode       category\n",
       "Segment           object\n",
       "City              object\n",
       "State             object\n",
       "Postal_Code       object\n",
       "Region            object\n",
       "Category          object\n",
       "Sub_Category      object\n",
       "Sales            float64\n",
       "Quantity        category\n",
       "Discount         float64\n",
       "Profit            object\n",
       "dtype: object"
      ]
     },
     "execution_count": 32,
     "metadata": {},
     "output_type": "execute_result"
    }
   ],
   "source": [
    "#change data type of Profit column to string\n",
    "samp_superstore.Profit = samp_superstore.Profit.astype(str)\n",
    "\n",
    "#confirm change\n",
    "samp_superstore.dtypes\n"
   ]
  },
  {
   "cell_type": "code",
   "execution_count": 33,
   "id": "5ca59dd8",
   "metadata": {},
   "outputs": [],
   "source": [
    "def neg_checker(colname): \n",
    "    \"\"\" This function returns the \n",
    "    number of negative string values \n",
    "    present in a column \n",
    "    \"\"\"\n",
    "    count = 0\n",
    "    for x in colname:\n",
    "        if \"-\" in x:\n",
    "            count += 1\n",
    "    return count\n",
    "                      "
   ]
  },
  {
   "cell_type": "code",
   "execution_count": 34,
   "id": "c30c032a",
   "metadata": {},
   "outputs": [
    {
     "data": {
      "text/plain": [
       "1869"
      ]
     },
     "execution_count": 34,
     "metadata": {},
     "output_type": "execute_result"
    }
   ],
   "source": [
    "#apply function on Profit column \n",
    "neg_checker(samp_superstore[\"Profit\"])\n"
   ]
  },
  {
   "cell_type": "markdown",
   "id": "dc6e69c2",
   "metadata": {},
   "source": [
    "Convert negative values in `Profit` column to positive values."
   ]
  },
  {
   "cell_type": "code",
   "execution_count": 35,
   "id": "0232f935",
   "metadata": {},
   "outputs": [],
   "source": [
    "def convert_to_positive(x): \n",
    "    \"\"\" This function converts negative \n",
    "    string values to positive string\n",
    "    values \"\"\"\n",
    "    if \"-\" in x:\n",
    "        return x[1:]\n",
    "    else: \n",
    "        return x \n",
    "    "
   ]
  },
  {
   "cell_type": "code",
   "execution_count": 36,
   "id": "6b6425a5",
   "metadata": {},
   "outputs": [
    {
     "data": {
      "text/plain": [
       "0"
      ]
     },
     "execution_count": 36,
     "metadata": {},
     "output_type": "execute_result"
    }
   ],
   "source": [
    "#apply to Profit column \n",
    "samp_superstore.Profit = samp_superstore.Profit.apply(convert_to_positive)\n",
    "\n",
    "#confirm \n",
    "neg_checker(samp_superstore[\"Profit\"])\n"
   ]
  },
  {
   "cell_type": "markdown",
   "id": "bee18b38",
   "metadata": {},
   "source": [
    "Convert `Profit` column back to float. "
   ]
  },
  {
   "cell_type": "code",
   "execution_count": 37,
   "id": "ce5ff044",
   "metadata": {
    "scrolled": true
   },
   "outputs": [
    {
     "data": {
      "text/plain": [
       "Ship_Mode       category\n",
       "Segment           object\n",
       "City              object\n",
       "State             object\n",
       "Postal_Code       object\n",
       "Region            object\n",
       "Category          object\n",
       "Sub_Category      object\n",
       "Sales            float64\n",
       "Quantity        category\n",
       "Discount         float64\n",
       "Profit           float64\n",
       "dtype: object"
      ]
     },
     "execution_count": 37,
     "metadata": {},
     "output_type": "execute_result"
    }
   ],
   "source": [
    "samp_superstore.Profit = samp_superstore.Profit.astype(float) \n",
    "\n",
    "#confirm change \n",
    "samp_superstore.dtypes \n"
   ]
  },
  {
   "cell_type": "markdown",
   "id": "87d0c86f",
   "metadata": {},
   "source": [
    "Below, null rows noticed during assessment will be dropped."
   ]
  },
  {
   "cell_type": "code",
   "execution_count": 38,
   "id": "25458ddb",
   "metadata": {},
   "outputs": [
    {
     "data": {
      "text/plain": [
       "Ship_Mode       0\n",
       "Segment         0\n",
       "City            0\n",
       "State           0\n",
       "Postal_Code     0\n",
       "Region          0\n",
       "Category        0\n",
       "Sub_Category    0\n",
       "Sales           0\n",
       "Quantity        0\n",
       "Discount        0\n",
       "Profit          0\n",
       "dtype: int64"
      ]
     },
     "execution_count": 38,
     "metadata": {},
     "output_type": "execute_result"
    }
   ],
   "source": [
    "#remove null rows\n",
    "samp_superstore.dropna(inplace = True) \n",
    "\n",
    "#confirm \n",
    "samp_superstore.isnull().sum()\n"
   ]
  },
  {
   "cell_type": "markdown",
   "id": "5e09ada8",
   "metadata": {},
   "source": [
    "## Exploratory Data Analysis (EDA)\n",
    "\n",
    "\n",
    "### Univariate Exploration \n",
    "\n",
    "The individual features will be explored to gain a better understanding of the data."
   ]
  },
  {
   "cell_type": "code",
   "execution_count": 39,
   "id": "b2bfb267",
   "metadata": {
    "scrolled": true
   },
   "outputs": [
    {
     "data": {
      "text/html": [
       "<div>\n",
       "<style scoped>\n",
       "    .dataframe tbody tr th:only-of-type {\n",
       "        vertical-align: middle;\n",
       "    }\n",
       "\n",
       "    .dataframe tbody tr th {\n",
       "        vertical-align: top;\n",
       "    }\n",
       "\n",
       "    .dataframe thead th {\n",
       "        text-align: right;\n",
       "    }\n",
       "</style>\n",
       "<table border=\"1\" class=\"dataframe\">\n",
       "  <thead>\n",
       "    <tr style=\"text-align: right;\">\n",
       "      <th></th>\n",
       "      <th>Ship_Mode</th>\n",
       "      <th>Segment</th>\n",
       "      <th>City</th>\n",
       "      <th>State</th>\n",
       "      <th>Postal_Code</th>\n",
       "      <th>Region</th>\n",
       "      <th>Category</th>\n",
       "      <th>Sub_Category</th>\n",
       "      <th>Sales</th>\n",
       "      <th>Quantity</th>\n",
       "      <th>Discount</th>\n",
       "      <th>Profit</th>\n",
       "    </tr>\n",
       "  </thead>\n",
       "  <tbody>\n",
       "    <tr>\n",
       "      <th>8291</th>\n",
       "      <td>Standard Class</td>\n",
       "      <td>Home Office</td>\n",
       "      <td>Miami</td>\n",
       "      <td>Florida</td>\n",
       "      <td>33180</td>\n",
       "      <td>South</td>\n",
       "      <td>Office Supplies</td>\n",
       "      <td>Labels</td>\n",
       "      <td>2.952</td>\n",
       "      <td>1</td>\n",
       "      <td>0.2</td>\n",
       "      <td>0.9963</td>\n",
       "    </tr>\n",
       "    <tr>\n",
       "      <th>235</th>\n",
       "      <td>Standard Class</td>\n",
       "      <td>Home Office</td>\n",
       "      <td>Tampa</td>\n",
       "      <td>Florida</td>\n",
       "      <td>33614</td>\n",
       "      <td>South</td>\n",
       "      <td>Technology</td>\n",
       "      <td>Accessories</td>\n",
       "      <td>617.976</td>\n",
       "      <td>3</td>\n",
       "      <td>0.2</td>\n",
       "      <td>7.7247</td>\n",
       "    </tr>\n",
       "    <tr>\n",
       "      <th>4609</th>\n",
       "      <td>Standard Class</td>\n",
       "      <td>Consumer</td>\n",
       "      <td>Rochester</td>\n",
       "      <td>New York</td>\n",
       "      <td>14609</td>\n",
       "      <td>East</td>\n",
       "      <td>Office Supplies</td>\n",
       "      <td>Paper</td>\n",
       "      <td>45.360</td>\n",
       "      <td>7</td>\n",
       "      <td>0.0</td>\n",
       "      <td>21.7728</td>\n",
       "    </tr>\n",
       "    <tr>\n",
       "      <th>4510</th>\n",
       "      <td>Standard Class</td>\n",
       "      <td>Corporate</td>\n",
       "      <td>Springfield</td>\n",
       "      <td>Missouri</td>\n",
       "      <td>65807</td>\n",
       "      <td>Central</td>\n",
       "      <td>Furniture</td>\n",
       "      <td>Furnishings</td>\n",
       "      <td>37.300</td>\n",
       "      <td>2</td>\n",
       "      <td>0.0</td>\n",
       "      <td>17.1580</td>\n",
       "    </tr>\n",
       "    <tr>\n",
       "      <th>9865</th>\n",
       "      <td>Standard Class</td>\n",
       "      <td>Home Office</td>\n",
       "      <td>Richmond</td>\n",
       "      <td>Indiana</td>\n",
       "      <td>47374</td>\n",
       "      <td>Central</td>\n",
       "      <td>Furniture</td>\n",
       "      <td>Furnishings</td>\n",
       "      <td>18.960</td>\n",
       "      <td>2</td>\n",
       "      <td>0.0</td>\n",
       "      <td>8.5320</td>\n",
       "    </tr>\n",
       "    <tr>\n",
       "      <th>1158</th>\n",
       "      <td>Second Class</td>\n",
       "      <td>Corporate</td>\n",
       "      <td>Los Angeles</td>\n",
       "      <td>California</td>\n",
       "      <td>90004</td>\n",
       "      <td>West</td>\n",
       "      <td>Furniture</td>\n",
       "      <td>Chairs</td>\n",
       "      <td>195.184</td>\n",
       "      <td>1</td>\n",
       "      <td>0.2</td>\n",
       "      <td>19.5184</td>\n",
       "    </tr>\n",
       "    <tr>\n",
       "      <th>8022</th>\n",
       "      <td>Standard Class</td>\n",
       "      <td>Corporate</td>\n",
       "      <td>Dallas</td>\n",
       "      <td>Texas</td>\n",
       "      <td>75217</td>\n",
       "      <td>Central</td>\n",
       "      <td>Office Supplies</td>\n",
       "      <td>Envelopes</td>\n",
       "      <td>87.920</td>\n",
       "      <td>5</td>\n",
       "      <td>0.2</td>\n",
       "      <td>29.6730</td>\n",
       "    </tr>\n",
       "    <tr>\n",
       "      <th>2000</th>\n",
       "      <td>Standard Class</td>\n",
       "      <td>Consumer</td>\n",
       "      <td>Pasadena</td>\n",
       "      <td>California</td>\n",
       "      <td>91104</td>\n",
       "      <td>West</td>\n",
       "      <td>Technology</td>\n",
       "      <td>Accessories</td>\n",
       "      <td>199.950</td>\n",
       "      <td>5</td>\n",
       "      <td>0.0</td>\n",
       "      <td>21.9945</td>\n",
       "    </tr>\n",
       "    <tr>\n",
       "      <th>9632</th>\n",
       "      <td>Standard Class</td>\n",
       "      <td>Consumer</td>\n",
       "      <td>Minneapolis</td>\n",
       "      <td>Minnesota</td>\n",
       "      <td>55407</td>\n",
       "      <td>Central</td>\n",
       "      <td>Office Supplies</td>\n",
       "      <td>Appliances</td>\n",
       "      <td>90.640</td>\n",
       "      <td>8</td>\n",
       "      <td>0.0</td>\n",
       "      <td>38.9752</td>\n",
       "    </tr>\n",
       "    <tr>\n",
       "      <th>3136</th>\n",
       "      <td>Standard Class</td>\n",
       "      <td>Home Office</td>\n",
       "      <td>Dallas</td>\n",
       "      <td>Texas</td>\n",
       "      <td>75081</td>\n",
       "      <td>Central</td>\n",
       "      <td>Technology</td>\n",
       "      <td>Phones</td>\n",
       "      <td>67.992</td>\n",
       "      <td>1</td>\n",
       "      <td>0.2</td>\n",
       "      <td>8.4990</td>\n",
       "    </tr>\n",
       "  </tbody>\n",
       "</table>\n",
       "</div>"
      ],
      "text/plain": [
       "           Ship_Mode      Segment         City       State Postal_Code  \\\n",
       "8291  Standard Class  Home Office        Miami     Florida       33180   \n",
       "235   Standard Class  Home Office        Tampa     Florida       33614   \n",
       "4609  Standard Class     Consumer    Rochester    New York       14609   \n",
       "4510  Standard Class    Corporate  Springfield    Missouri       65807   \n",
       "9865  Standard Class  Home Office     Richmond     Indiana       47374   \n",
       "1158    Second Class    Corporate  Los Angeles  California       90004   \n",
       "8022  Standard Class    Corporate       Dallas       Texas       75217   \n",
       "2000  Standard Class     Consumer     Pasadena  California       91104   \n",
       "9632  Standard Class     Consumer  Minneapolis   Minnesota       55407   \n",
       "3136  Standard Class  Home Office       Dallas       Texas       75081   \n",
       "\n",
       "       Region         Category Sub_Category    Sales Quantity  Discount  \\\n",
       "8291    South  Office Supplies       Labels    2.952        1       0.2   \n",
       "235     South       Technology  Accessories  617.976        3       0.2   \n",
       "4609     East  Office Supplies        Paper   45.360        7       0.0   \n",
       "4510  Central        Furniture  Furnishings   37.300        2       0.0   \n",
       "9865  Central        Furniture  Furnishings   18.960        2       0.0   \n",
       "1158     West        Furniture       Chairs  195.184        1       0.2   \n",
       "8022  Central  Office Supplies    Envelopes   87.920        5       0.2   \n",
       "2000     West       Technology  Accessories  199.950        5       0.0   \n",
       "9632  Central  Office Supplies   Appliances   90.640        8       0.0   \n",
       "3136  Central       Technology       Phones   67.992        1       0.2   \n",
       "\n",
       "       Profit  \n",
       "8291   0.9963  \n",
       "235    7.7247  \n",
       "4609  21.7728  \n",
       "4510  17.1580  \n",
       "9865   8.5320  \n",
       "1158  19.5184  \n",
       "8022  29.6730  \n",
       "2000  21.9945  \n",
       "9632  38.9752  \n",
       "3136   8.4990  "
      ]
     },
     "execution_count": 39,
     "metadata": {},
     "output_type": "execute_result"
    }
   ],
   "source": [
    "samp_superstore.sample(10)"
   ]
  },
  {
   "cell_type": "markdown",
   "id": "4afc484f",
   "metadata": {},
   "source": [
    "#### What is the percentage distribution of the various modes of shipping? \n",
    "\n",
    "Note:<br>\n",
    "Below are the various shipping modes and their meanings.\n",
    "\n",
    "- Standard Class - Shipping within 6 days.\n",
    "- Second Class - Shipping within 3 days.\n",
    "- First Class - Shipping within 1 day.\n",
    "- Same Day - Shipping on the same day. "
   ]
  },
  {
   "cell_type": "code",
   "execution_count": 40,
   "id": "fb605005",
   "metadata": {},
   "outputs": [],
   "source": [
    "#choose color palette \n",
    "choice_color = sb.color_palette()[9]\n"
   ]
  },
  {
   "cell_type": "code",
   "execution_count": 41,
   "id": "fc09e5ff",
   "metadata": {},
   "outputs": [],
   "source": [
    "#obtain count for each unique value in Ship _Mode\n",
    "mode_count = samp_superstore.Ship_Mode.value_counts() \n",
    "\n",
    "#obtain total count of Ship_Mode in dataset \n",
    "mode_sum = mode_count.sum()\n"
   ]
  },
  {
   "cell_type": "code",
   "execution_count": 42,
   "id": "3f33bc83",
   "metadata": {
    "scrolled": false
   },
   "outputs": [
    {
     "data": {
      "image/png": "[encoded data removed]",
      "text/plain": [
       "<Figure size 432x288 with 1 Axes>"
      ]
     },
     "metadata": {
      "needs_background": "light"
     },
     "output_type": "display_data"
    }
   ],
   "source": [
    "#visualize percentage distribution of Ship_Mode \n",
    "sb.countplot(data = samp_superstore, y = \"Ship_Mode\", color = choice_color);\n",
    "\n",
    "#include percentage text on bars \n",
    "for i in range(mode_count.shape[0]): \n",
    "    count = mode_count[i]\n",
    "    prop_str = '{:0.2f}%'.format(100 * count / mode_sum) \n",
    "    plt.text(count + 1, i, prop_str, va = \"center\", color = \"black\") \n",
    "\n",
    "plt.ylabel(\"Shipping Mode\")\n",
    "plt.grid(False)    \n"
   ]
  },
  {
   "cell_type": "markdown",
   "id": "71ea322d",
   "metadata": {},
   "source": [
    "#### Observations \n",
    "\n",
    "- `Standard Class` has the highest percentage.\n",
    "- There is a decrease in percentage of use from `Standard Class` -> `Second Class` -> `First Class` -> `Same Day`.\n",
    "- By far more customers use the `Standard Class` mode of shipping, and only a very few use `Same Day`. "
   ]
  },
  {
   "cell_type": "markdown",
   "id": "e10def99",
   "metadata": {},
   "source": [
    "#### In what segment was the most sales made?"
   ]
  },
  {
   "cell_type": "code",
   "execution_count": 43,
   "id": "7c1eab6f",
   "metadata": {},
   "outputs": [],
   "source": [
    "#choose color \n",
    "color6 = sb.color_palette()[7]"
   ]
  },
  {
   "cell_type": "code",
   "execution_count": 44,
   "id": "89840de8",
   "metadata": {},
   "outputs": [],
   "source": [
    "#obtain count of each unique value in Segment\n",
    "seg_count = samp_superstore.Segment.value_counts() \n",
    "\n",
    "#obtain total count of Ship_Mode in dataset \n",
    "seg_sum = seg_count.sum()\n",
    "\n",
    "#create bar order\n",
    "seg_order = seg_count.index\n"
   ]
  },
  {
   "cell_type": "code",
   "execution_count": 45,
   "id": "56aac174",
   "metadata": {
    "scrolled": true
   },
   "outputs": [
    {
     "data": {
      "image/png": "[encoded data removed]",
      "text/plain": [
       "<Figure size 360x576 with 1 Axes>"
      ]
     },
     "metadata": {
      "needs_background": "light"
     },
     "output_type": "display_data"
    }
   ],
   "source": [
    "#set figure size\n",
    "plt.figure(figsize = (5,8))\n",
    "\n",
    "#visualize distribution of Ship_Mode \n",
    "sb.countplot(data = samp_superstore, x = \"Segment\", color = color6, \n",
    "            order = seg_order);\n",
    "\n",
    "#include text on bars \n",
    "locs, labels = plt.xticks(rotation = 90)\n",
    "for loc, label in zip(locs, labels): \n",
    "    count = seg_count[label.get_text()]\n",
    "    count_str = '{}'.format(count)\n",
    "    plt.text(loc, count + 5, count_str, ha = \"center\", color = \"black\");\n",
    "             \n",
    "\n",
    "plt.grid(False)  \n",
    "            "
   ]
  },
  {
   "cell_type": "markdown",
   "id": "564a43ed",
   "metadata": {},
   "source": [
    "#### Observations \n",
    "\n",
    "- More products are purchased for consumer use than for corporate and home office.\n",
    "- Products are least purchased for home office."
   ]
  },
  {
   "cell_type": "markdown",
   "id": "7652e60b",
   "metadata": {},
   "source": [
    "#### What state has the highest sales frequency?"
   ]
  },
  {
   "cell_type": "code",
   "execution_count": 46,
   "id": "1f586d9c",
   "metadata": {},
   "outputs": [],
   "source": [
    "#choose color palette \n",
    "base_color = sb.color_palette()[0]\n"
   ]
  },
  {
   "cell_type": "code",
   "execution_count": 47,
   "id": "d93b7b1d",
   "metadata": {
    "scrolled": true
   },
   "outputs": [
    {
     "data": {
      "image/png": "[encoded data removed]",
      "text/plain": [
       "<Figure size 360x720 with 1 Axes>"
      ]
     },
     "metadata": {
      "needs_background": "light"
     },
     "output_type": "display_data"
    }
   ],
   "source": [
    "#set figure size\n",
    "plt.figure(figsize = (5,10))\n",
    "\n",
    "#set order\n",
    "state_order = samp_superstore.State.value_counts().index\n",
    "\n",
    "#visualize State distribution\n",
    "sb.countplot(data = samp_superstore, y = \"State\", color = base_color,\n",
    "            order = state_order); \n",
    "\n",
    "plt.grid(False)\n"
   ]
  },
  {
   "cell_type": "markdown",
   "id": "acf45263",
   "metadata": {},
   "source": [
    "#### Observations \n",
    "\n",
    "- Most customers reside in the state of California.\n",
    "- A significant number of customers also reside in New York and Texas.\n",
    "- Purchases are barely made by people residing in Maine, North Dakota, West Virginia, and Wyoming."
   ]
  },
  {
   "cell_type": "markdown",
   "id": "b26eff63",
   "metadata": {},
   "source": [
    "#### What is the regional distribution of the sales made?"
   ]
  },
  {
   "cell_type": "code",
   "execution_count": 48,
   "id": "8f7099c3",
   "metadata": {},
   "outputs": [],
   "source": [
    "#choose color \n",
    "color4 = sb.color_palette()[5]"
   ]
  },
  {
   "cell_type": "code",
   "execution_count": 49,
   "id": "cb689990",
   "metadata": {},
   "outputs": [
    {
     "data": {
      "image/png": "[encoded data removed]",
      "text/plain": [
       "<Figure size 432x288 with 1 Axes>"
      ]
     },
     "metadata": {
      "needs_background": "light"
     },
     "output_type": "display_data"
    }
   ],
   "source": [
    "#obtain order \n",
    "reg_order = samp_superstore.Region.value_counts().index\n",
    "\n",
    "#visualize\n",
    "sb.countplot(data = samp_superstore, x = \"Region\", color = color4, \n",
    "             order = reg_order);\n",
    "\n",
    "plt.grid(False)\n"
   ]
  },
  {
   "cell_type": "markdown",
   "id": "bd256dec",
   "metadata": {},
   "source": [
    "#### Observations\n",
    "\n",
    "- There is a significant number of customers in each region.\n",
    "- There are more customers in the West than in other regions.\n",
    "- There is a decrease in customers from the West -> East -> Central -> South."
   ]
  },
  {
   "cell_type": "markdown",
   "id": "5cfad154",
   "metadata": {},
   "source": [
    "#### What is the categorical distribution of the products sold?"
   ]
  },
  {
   "cell_type": "code",
   "execution_count": 50,
   "id": "aa49fefd",
   "metadata": {},
   "outputs": [],
   "source": [
    "#set order of bars \n",
    "cat_order = samp_superstore.Category.value_counts().index"
   ]
  },
  {
   "cell_type": "code",
   "execution_count": 51,
   "id": "8bb65437",
   "metadata": {},
   "outputs": [
    {
     "data": {
      "image/png": "[encoded data removed]",
      "text/plain": [
       "<Figure size 432x288 with 1 Axes>"
      ]
     },
     "metadata": {
      "needs_background": "light"
     },
     "output_type": "display_data"
    }
   ],
   "source": [
    "#visualize Category of products sold\n",
    "sb.countplot(data = samp_superstore, x = \"Category\", color = base_color, \n",
    "            order = cat_order);\n",
    "\n",
    "plt.grid(False)\n",
    "             "
   ]
  },
  {
   "cell_type": "markdown",
   "id": "e1c9ad6d",
   "metadata": {},
   "source": [
    "#### Observations\n",
    "\n",
    "- The majority of products purchased are office supplies. \n",
    "- Furniture pieces purchased are less than half of the number of office supplies purchased.\n",
    "- Technology products are the least purchased."
   ]
  },
  {
   "cell_type": "markdown",
   "id": "b96652ca",
   "metadata": {},
   "source": [
    "#### What is the distribution of the `Office Supplies` products sold?"
   ]
  },
  {
   "cell_type": "code",
   "execution_count": 52,
   "id": "ea049de0",
   "metadata": {},
   "outputs": [],
   "source": [
    "#filter out rows for which the products are in the office supplies category\n",
    "office_supplies = samp_superstore[samp_superstore[\"Category\"] == \"Office Supplies\"]\n",
    "\n",
    "#set order for office supplies subcategories \n",
    "office_sup_order = office_supplies.Sub_Category.value_counts().index\n",
    "\n",
    "#choose bar color \n",
    "color5 = sb.color_palette()[6]\n"
   ]
  },
  {
   "cell_type": "code",
   "execution_count": 53,
   "id": "e907a9a1",
   "metadata": {
    "scrolled": true
   },
   "outputs": [
    {
     "data": {
      "image/png": "[encoded data removed]",
      "text/plain": [
       "<Figure size 432x288 with 1 Axes>"
      ]
     },
     "metadata": {
      "needs_background": "light"
     },
     "output_type": "display_data"
    }
   ],
   "source": [
    "#visualize \n",
    "sb.countplot(data = office_supplies, y = \"Sub_Category\", color = color5,\n",
    "             order = office_sup_order); \n",
    "\n",
    "plt.grid(False)\n"
   ]
  },
  {
   "cell_type": "markdown",
   "id": "9e79c855",
   "metadata": {},
   "source": [
    "#### Observations \n",
    "\n",
    "- Binders are on the most demand, this is followed by paper.\n",
    "- Art is also on significant demand, and is in more demand than appliances.\n",
    "- Less fasteners are sold than envelopes.\n",
    "- Supplies are the least on demand."
   ]
  },
  {
   "cell_type": "markdown",
   "id": "f8fcefcd",
   "metadata": {},
   "source": [
    "#### What is the `Sales` values distribution?"
   ]
  },
  {
   "cell_type": "code",
   "execution_count": 54,
   "id": "aa4ea22d",
   "metadata": {},
   "outputs": [
    {
     "data": {
      "text/plain": [
       "count     9921.000000\n",
       "mean       226.864776\n",
       "std        613.003068\n",
       "min          0.444000\n",
       "25%         17.150000\n",
       "50%         53.952000\n",
       "75%        208.160000\n",
       "max      22638.480000\n",
       "Name: Sales, dtype: float64"
      ]
     },
     "execution_count": 54,
     "metadata": {},
     "output_type": "execute_result"
    }
   ],
   "source": [
    "#obtain the summary statistics of the Sales features\n",
    "samp_superstore.Sales.describe() \n"
   ]
  },
  {
   "cell_type": "code",
   "execution_count": 55,
   "id": "0b0021ec",
   "metadata": {},
   "outputs": [],
   "source": [
    "#set bin edges \n",
    "bin_edges = np.arange(0, samp_superstore.Sales.max() + 500, 500)\n"
   ]
  },
  {
   "cell_type": "code",
   "execution_count": 56,
   "id": "77cc57a9",
   "metadata": {
    "scrolled": false
   },
   "outputs": [
    {
     "data": {
      "image/png": "[encoded data removed]",
      "text/plain": [
       "<Figure size 432x288 with 1 Axes>"
      ]
     },
     "metadata": {
      "needs_background": "light"
     },
     "output_type": "display_data"
    }
   ],
   "source": [
    "#visualize the Sales column\n",
    "plt.hist(data = samp_superstore, x = \"Sales\", bins = bin_edges); \n",
    "\n",
    "#transform the y-axis to a log scale\n",
    "plt.yscale(\"log\")\n",
    "\n",
    "#create ticks for y-axis\n",
    "y_ticks = [1, 3, 5, 10, 30, 50, 100, 300, 500, 1000, 3000, 5000,\n",
    "           10000] \n",
    "y_labels = [\"{}\".format(y_tick) for y_tick in y_ticks]\n",
    "plt.yticks(y_ticks, y_labels);\n",
    "\n",
    "#label the x-axis\n",
    "plt.xlabel(\"Sales ($)\") \n",
    "\n",
    "plt.grid(False)\n"
   ]
  },
  {
   "cell_type": "markdown",
   "id": "53b222bc",
   "metadata": {},
   "source": [
    "The `Sales` values are skewed to the right, with some outliers after values in the range of \\\\$0-5000. Next, the `Sales` values will be visualized without the outliers. "
   ]
  },
  {
   "cell_type": "code",
   "execution_count": 57,
   "id": "04646110",
   "metadata": {},
   "outputs": [
    {
     "data": {
      "image/png": "[encoded data removed]",
      "text/plain": [
       "<Figure size 432x288 with 1 Axes>"
      ]
     },
     "metadata": {
      "needs_background": "light"
     },
     "output_type": "display_data"
    }
   ],
   "source": [
    "#visualize the Sales column\n",
    "plt.hist(data = samp_superstore, x = \"Sales\", bins = bin_edges); \n",
    "\n",
    "#transform the y-axis to a log scale\n",
    "plt.yscale(\"log\")\n",
    "\n",
    "#create ticks for the y-axis\n",
    "y_ticks = [1, 3, 5, 10, 30, 50, 100, 300, 500, 1000, 3000, 5000,\n",
    "           10000] \n",
    "y_labels = [\"{}\".format(y_tick) for y_tick in y_ticks] \n",
    "plt.yticks(y_ticks, y_labels)\n",
    "\n",
    "#limit the x-axis \n",
    "plt.xlim(0, 5000);\n",
    "\n",
    "#label the x-axis \n",
    "plt.xlabel(\"Sales ($)\") \n",
    "\n",
    "plt.grid(False)\n"
   ]
  },
  {
   "cell_type": "markdown",
   "id": "c49bad59",
   "metadata": {},
   "source": [
    "#### Observations \n",
    "\n",
    "- The `Sales` values are skewed to the right.\n",
    "- More products are sold at lower prices than at higher prices. "
   ]
  },
  {
   "cell_type": "markdown",
   "id": "50749021",
   "metadata": {},
   "source": [
    "#### What is the distribution of the quantity of products sold? "
   ]
  },
  {
   "cell_type": "code",
   "execution_count": 58,
   "id": "3a5315cc",
   "metadata": {
    "scrolled": true
   },
   "outputs": [
    {
     "data": {
      "image/png": "[encoded data removed]",
      "text/plain": [
       "<Figure size 432x288 with 1 Axes>"
      ]
     },
     "metadata": {
      "needs_background": "light"
     },
     "output_type": "display_data"
    }
   ],
   "source": [
    "#visual Quantity of products sold\n",
    "sb.countplot(data = samp_superstore, x = \"Quantity\", color = choice_color);\n",
    "\n",
    "plt.grid(False)"
   ]
  },
  {
   "cell_type": "markdown",
   "id": "2f2d8402",
   "metadata": {},
   "source": [
    "#### Observations \n",
    "\n",
    "- Products are mostly purchased in 2 or 3 quantities.\n",
    "- Only a very few products are purchased in quantities of 10 or more.\n",
    "- A significant amount of products are also purchased in 4 or 5 quantities.\n"
   ]
  },
  {
   "cell_type": "markdown",
   "id": "3346e378",
   "metadata": {},
   "source": [
    "#### What is the highest discount given? "
   ]
  },
  {
   "cell_type": "code",
   "execution_count": 59,
   "id": "3d5260a7",
   "metadata": {
    "scrolled": true
   },
   "outputs": [
    {
     "data": {
      "text/plain": [
       "count    9921.000000\n",
       "mean        0.156289\n",
       "std         0.206497\n",
       "min         0.000000\n",
       "25%         0.000000\n",
       "50%         0.200000\n",
       "75%         0.200000\n",
       "max         0.800000\n",
       "Name: Discount, dtype: float64"
      ]
     },
     "execution_count": 59,
     "metadata": {},
     "output_type": "execute_result"
    }
   ],
   "source": [
    "#obtain descriptive statistics of Discount column \n",
    "samp_superstore.Discount.describe()\n"
   ]
  },
  {
   "cell_type": "code",
   "execution_count": 60,
   "id": "59ca5884",
   "metadata": {},
   "outputs": [],
   "source": [
    "#create bin edges \n",
    "bin_edges = np.arange(0, 0.8 + 0.2, 0.1)\n"
   ]
  },
  {
   "cell_type": "code",
   "execution_count": 61,
   "id": "01e29059",
   "metadata": {
    "scrolled": true
   },
   "outputs": [
    {
     "data": {
      "image/png": "[encoded data removed]",
      "text/plain": [
       "<Figure size 432x288 with 1 Axes>"
      ]
     },
     "metadata": {
      "needs_background": "light"
     },
     "output_type": "display_data"
    }
   ],
   "source": [
    "#visualize Discount \n",
    "plt.hist(data = samp_superstore, x = \"Discount\", bins = bin_edges); \n",
    "\n",
    "#create ticks \n",
    "ticks = [0, 0.1, 0.2, 0.3, 0.4, 0.5, 0.6, 0.7, 0.8, 0.9]\n",
    "labels = [\"{}\".format(tick) for tick in ticks]\n",
    "\n",
    "plt.xticks(ticks, labels)\n",
    "plt.xlabel(\"Discount ($)\");\n",
    "\n",
    "plt.grid(False)\n"
   ]
  },
  {
   "cell_type": "markdown",
   "id": "4d6e4310",
   "metadata": {},
   "source": [
    "#### Observations \n",
    "\n",
    "- Most discounts given fall in the range of \\\\$0-0.1 and \\\\$0.2-0.3. \n",
    "- A very few discounts of \\\\$0.4-0.9 are given. "
   ]
  },
  {
   "cell_type": "markdown",
   "id": "ba4aa9a7",
   "metadata": {},
   "source": [
    "#### What is the distribution of the profit made from sales? "
   ]
  },
  {
   "cell_type": "code",
   "execution_count": 62,
   "id": "ac8c9551",
   "metadata": {
    "scrolled": false
   },
   "outputs": [
    {
     "data": {
      "text/plain": [
       "count    9921.000000\n",
       "mean       58.964413\n",
       "std       222.765965\n",
       "min         0.000000\n",
       "25%         5.301000\n",
       "50%        13.882800\n",
       "75%        42.495000\n",
       "max      8399.976000\n",
       "Name: Profit, dtype: float64"
      ]
     },
     "execution_count": 62,
     "metadata": {},
     "output_type": "execute_result"
    }
   ],
   "source": [
    "#obtain descriptive statistics for the Profit column\n",
    "samp_superstore.Profit.describe()"
   ]
  },
  {
   "cell_type": "code",
   "execution_count": 63,
   "id": "599eb9e8",
   "metadata": {},
   "outputs": [],
   "source": [
    "#create bin edges\n",
    "bin_edges = np.arange(0, samp_superstore.Profit.max() + 500, 500) \n"
   ]
  },
  {
   "cell_type": "code",
   "execution_count": 64,
   "id": "c1966ceb",
   "metadata": {
    "scrolled": true
   },
   "outputs": [
    {
     "data": {
      "image/png": "[encoded data removed]",
      "text/plain": [
       "<Figure size 432x288 with 1 Axes>"
      ]
     },
     "metadata": {
      "needs_background": "light"
     },
     "output_type": "display_data"
    }
   ],
   "source": [
    "#visualize\n",
    "plt.hist(data = samp_superstore, x = \"Profit\", bins = bin_edges); \n",
    "\n",
    "plt.xlabel(\"Profit ($)\")\n",
    "plt.grid(False);\n"
   ]
  },
  {
   "cell_type": "markdown",
   "id": "92e22da0",
   "metadata": {},
   "source": [
    "From the plot above, the profit yielded from most products fall within the range of \\\\$0-2000. To get a better understanding of the profit distribution, visualizations will be created for profit yields above and below \\\\$1000. "
   ]
  },
  {
   "cell_type": "code",
   "execution_count": 65,
   "id": "7c350bb2",
   "metadata": {},
   "outputs": [
    {
     "data": {
      "text/html": [
       "<div>\n",
       "<style scoped>\n",
       "    .dataframe tbody tr th:only-of-type {\n",
       "        vertical-align: middle;\n",
       "    }\n",
       "\n",
       "    .dataframe tbody tr th {\n",
       "        vertical-align: top;\n",
       "    }\n",
       "\n",
       "    .dataframe thead th {\n",
       "        text-align: right;\n",
       "    }\n",
       "</style>\n",
       "<table border=\"1\" class=\"dataframe\">\n",
       "  <thead>\n",
       "    <tr style=\"text-align: right;\">\n",
       "      <th></th>\n",
       "      <th>Ship_Mode</th>\n",
       "      <th>Segment</th>\n",
       "      <th>City</th>\n",
       "      <th>State</th>\n",
       "      <th>Postal_Code</th>\n",
       "      <th>Region</th>\n",
       "      <th>Category</th>\n",
       "      <th>Sub_Category</th>\n",
       "      <th>Sales</th>\n",
       "      <th>Quantity</th>\n",
       "      <th>Discount</th>\n",
       "      <th>Profit</th>\n",
       "    </tr>\n",
       "  </thead>\n",
       "  <tbody>\n",
       "    <tr>\n",
       "      <th>27</th>\n",
       "      <td>Standard Class</td>\n",
       "      <td>Consumer</td>\n",
       "      <td>Philadelphia</td>\n",
       "      <td>Pennsylvania</td>\n",
       "      <td>19140</td>\n",
       "      <td>East</td>\n",
       "      <td>Furniture</td>\n",
       "      <td>Bookcases</td>\n",
       "      <td>3083.430</td>\n",
       "      <td>7</td>\n",
       "      <td>0.5</td>\n",
       "      <td>1665.0522</td>\n",
       "    </tr>\n",
       "    <tr>\n",
       "      <th>165</th>\n",
       "      <td>Standard Class</td>\n",
       "      <td>Consumer</td>\n",
       "      <td>San Antonio</td>\n",
       "      <td>Texas</td>\n",
       "      <td>78207</td>\n",
       "      <td>Central</td>\n",
       "      <td>Technology</td>\n",
       "      <td>Machines</td>\n",
       "      <td>8159.952</td>\n",
       "      <td>8</td>\n",
       "      <td>0.4</td>\n",
       "      <td>1359.9920</td>\n",
       "    </tr>\n",
       "    <tr>\n",
       "      <th>318</th>\n",
       "      <td>Standard Class</td>\n",
       "      <td>Home Office</td>\n",
       "      <td>New York City</td>\n",
       "      <td>New York</td>\n",
       "      <td>10024</td>\n",
       "      <td>East</td>\n",
       "      <td>Technology</td>\n",
       "      <td>Machines</td>\n",
       "      <td>3991.980</td>\n",
       "      <td>2</td>\n",
       "      <td>0.0</td>\n",
       "      <td>1995.9900</td>\n",
       "    </tr>\n",
       "    <tr>\n",
       "      <th>353</th>\n",
       "      <td>First Class</td>\n",
       "      <td>Home Office</td>\n",
       "      <td>New York City</td>\n",
       "      <td>New York</td>\n",
       "      <td>10009</td>\n",
       "      <td>East</td>\n",
       "      <td>Office Supplies</td>\n",
       "      <td>Binders</td>\n",
       "      <td>4355.168</td>\n",
       "      <td>4</td>\n",
       "      <td>0.2</td>\n",
       "      <td>1415.4296</td>\n",
       "    </tr>\n",
       "    <tr>\n",
       "      <th>509</th>\n",
       "      <td>Standard Class</td>\n",
       "      <td>Consumer</td>\n",
       "      <td>Atlanta</td>\n",
       "      <td>Georgia</td>\n",
       "      <td>30318</td>\n",
       "      <td>South</td>\n",
       "      <td>Office Supplies</td>\n",
       "      <td>Binders</td>\n",
       "      <td>6354.950</td>\n",
       "      <td>5</td>\n",
       "      <td>0.0</td>\n",
       "      <td>3177.4750</td>\n",
       "    </tr>\n",
       "    <tr>\n",
       "      <th>...</th>\n",
       "      <td>...</td>\n",
       "      <td>...</td>\n",
       "      <td>...</td>\n",
       "      <td>...</td>\n",
       "      <td>...</td>\n",
       "      <td>...</td>\n",
       "      <td>...</td>\n",
       "      <td>...</td>\n",
       "      <td>...</td>\n",
       "      <td>...</td>\n",
       "      <td>...</td>\n",
       "      <td>...</td>\n",
       "    </tr>\n",
       "    <tr>\n",
       "      <th>8858</th>\n",
       "      <td>Standard Class</td>\n",
       "      <td>Corporate</td>\n",
       "      <td>Sacramento</td>\n",
       "      <td>California</td>\n",
       "      <td>95823</td>\n",
       "      <td>West</td>\n",
       "      <td>Office Supplies</td>\n",
       "      <td>Binders</td>\n",
       "      <td>5083.960</td>\n",
       "      <td>5</td>\n",
       "      <td>0.2</td>\n",
       "      <td>1906.4850</td>\n",
       "    </tr>\n",
       "    <tr>\n",
       "      <th>8990</th>\n",
       "      <td>Standard Class</td>\n",
       "      <td>Corporate</td>\n",
       "      <td>Springfield</td>\n",
       "      <td>Missouri</td>\n",
       "      <td>65807</td>\n",
       "      <td>Central</td>\n",
       "      <td>Technology</td>\n",
       "      <td>Copiers</td>\n",
       "      <td>4899.930</td>\n",
       "      <td>7</td>\n",
       "      <td>0.0</td>\n",
       "      <td>2302.9671</td>\n",
       "    </tr>\n",
       "    <tr>\n",
       "      <th>9270</th>\n",
       "      <td>Standard Class</td>\n",
       "      <td>Consumer</td>\n",
       "      <td>New York City</td>\n",
       "      <td>New York</td>\n",
       "      <td>10035</td>\n",
       "      <td>East</td>\n",
       "      <td>Office Supplies</td>\n",
       "      <td>Binders</td>\n",
       "      <td>4305.552</td>\n",
       "      <td>6</td>\n",
       "      <td>0.2</td>\n",
       "      <td>1453.1238</td>\n",
       "    </tr>\n",
       "    <tr>\n",
       "      <th>9741</th>\n",
       "      <td>Standard Class</td>\n",
       "      <td>Corporate</td>\n",
       "      <td>Burlington</td>\n",
       "      <td>Vermont</td>\n",
       "      <td>05408</td>\n",
       "      <td>East</td>\n",
       "      <td>Furniture</td>\n",
       "      <td>Bookcases</td>\n",
       "      <td>4404.900</td>\n",
       "      <td>5</td>\n",
       "      <td>0.0</td>\n",
       "      <td>1013.1270</td>\n",
       "    </tr>\n",
       "    <tr>\n",
       "      <th>9774</th>\n",
       "      <td>Standard Class</td>\n",
       "      <td>Consumer</td>\n",
       "      <td>San Antonio</td>\n",
       "      <td>Texas</td>\n",
       "      <td>78207</td>\n",
       "      <td>Central</td>\n",
       "      <td>Office Supplies</td>\n",
       "      <td>Binders</td>\n",
       "      <td>2177.584</td>\n",
       "      <td>8</td>\n",
       "      <td>0.8</td>\n",
       "      <td>3701.8928</td>\n",
       "    </tr>\n",
       "  </tbody>\n",
       "</table>\n",
       "<p>62 rows × 12 columns</p>\n",
       "</div>"
      ],
      "text/plain": [
       "           Ship_Mode      Segment           City         State Postal_Code  \\\n",
       "27    Standard Class     Consumer   Philadelphia  Pennsylvania       19140   \n",
       "165   Standard Class     Consumer    San Antonio         Texas       78207   \n",
       "318   Standard Class  Home Office  New York City      New York       10024   \n",
       "353      First Class  Home Office  New York City      New York       10009   \n",
       "509   Standard Class     Consumer        Atlanta       Georgia       30318   \n",
       "...              ...          ...            ...           ...         ...   \n",
       "8858  Standard Class    Corporate     Sacramento    California       95823   \n",
       "8990  Standard Class    Corporate    Springfield      Missouri       65807   \n",
       "9270  Standard Class     Consumer  New York City      New York       10035   \n",
       "9741  Standard Class    Corporate     Burlington       Vermont       05408   \n",
       "9774  Standard Class     Consumer    San Antonio         Texas       78207   \n",
       "\n",
       "       Region         Category Sub_Category     Sales Quantity  Discount  \\\n",
       "27       East        Furniture    Bookcases  3083.430        7       0.5   \n",
       "165   Central       Technology     Machines  8159.952        8       0.4   \n",
       "318      East       Technology     Machines  3991.980        2       0.0   \n",
       "353      East  Office Supplies      Binders  4355.168        4       0.2   \n",
       "509     South  Office Supplies      Binders  6354.950        5       0.0   \n",
       "...       ...              ...          ...       ...      ...       ...   \n",
       "8858     West  Office Supplies      Binders  5083.960        5       0.2   \n",
       "8990  Central       Technology      Copiers  4899.930        7       0.0   \n",
       "9270     East  Office Supplies      Binders  4305.552        6       0.2   \n",
       "9741     East        Furniture    Bookcases  4404.900        5       0.0   \n",
       "9774  Central  Office Supplies      Binders  2177.584        8       0.8   \n",
       "\n",
       "         Profit  \n",
       "27    1665.0522  \n",
       "165   1359.9920  \n",
       "318   1995.9900  \n",
       "353   1415.4296  \n",
       "509   3177.4750  \n",
       "...         ...  \n",
       "8858  1906.4850  \n",
       "8990  2302.9671  \n",
       "9270  1453.1238  \n",
       "9741  1013.1270  \n",
       "9774  3701.8928  \n",
       "\n",
       "[62 rows x 12 columns]"
      ]
     },
     "execution_count": 65,
     "metadata": {},
     "output_type": "execute_result"
    }
   ],
   "source": [
    "#filter out rows with Profit greater than $1000\n",
    "greater_profit = samp_superstore.query('Profit > 1000')\n",
    "greater_profit\n",
    "                      "
   ]
  },
  {
   "cell_type": "code",
   "execution_count": 66,
   "id": "bef4b442",
   "metadata": {},
   "outputs": [
    {
     "data": {
      "text/plain": [
       "count      62.000000\n",
       "mean     2123.646611\n",
       "std      1498.602046\n",
       "min      1002.783600\n",
       "25%      1193.006475\n",
       "50%      1469.616750\n",
       "75%      2392.219725\n",
       "max      8399.976000\n",
       "Name: Profit, dtype: float64"
      ]
     },
     "execution_count": 66,
     "metadata": {},
     "output_type": "execute_result"
    }
   ],
   "source": [
    "#obtain descriptive statistics for the Profit column \n",
    "#in the filtered out subset \n",
    "greater_profit.Profit.describe()\n"
   ]
  },
  {
   "cell_type": "code",
   "execution_count": 67,
   "id": "984af648",
   "metadata": {},
   "outputs": [
    {
     "data": {
      "image/png": "[encoded data removed]",
      "text/plain": [
       "<Figure size 1080x360 with 2 Axes>"
      ]
     },
     "metadata": {
      "needs_background": "light"
     },
     "output_type": "display_data"
    }
   ],
   "source": [
    "#set figure size for the plots\n",
    "plt.figure(figsize = (15, 5))\n",
    "\n",
    "\n",
    "#subplot for profit values below $1000\n",
    "plt.subplot(1, 2, 1)\n",
    "\n",
    "#create bin edges\n",
    "bin_edges1 = np.arange(0, 1000 + 50, 50)\n",
    "\n",
    "#visualize\n",
    "plt.hist(data = samp_superstore, x = \"Profit\", bins = bin_edges1); \n",
    "plt.xlim(0, 450)\n",
    "plt.xlabel(\"Profit ($)\")\n",
    "plt.title(\"Profit Below $1000\")\n",
    "plt.grid(False);\n",
    "\n",
    "\n",
    "#subplot for Profit values above $1000 \n",
    "plt.subplot(1, 2, 2) \n",
    "\n",
    "#create bin edges \n",
    "bin_edges2 = np.arange(1000, samp_superstore.Profit.max() + 500, 500)\n",
    "\n",
    "#visualize \n",
    "plt.hist(data = greater_profit, x = \"Profit\", bins = bin_edges2); \n",
    "plt.xlabel(\"Profit ($)\")\n",
    "plt.title(\"Profit Above $1000\")\n",
    "plt.grid(False);\n"
   ]
  },
  {
   "cell_type": "markdown",
   "id": "64b68884",
   "metadata": {},
   "source": [
    "#### Observations \n",
    "\n",
    "- Most profits yielded are in the range of \\\\$0-50. \n",
    "- A good number of profit yields on products also lie in the range of \\\\$50-100.\n",
    "- A few profit yields on products are in the range of \\\\$1000-8000. "
   ]
  },
  {
   "cell_type": "markdown",
   "id": "810bcc76",
   "metadata": {},
   "source": [
    "### Bivariate Exploration \n",
    "\n",
    "In this section, the relationship between various pairs of variables in the dataset will be visualized."
   ]
  },
  {
   "cell_type": "code",
   "execution_count": 68,
   "id": "b0c4ba05",
   "metadata": {},
   "outputs": [],
   "source": [
    "#separate the numeric and categorical variables into groups\n",
    "numeric_vars = [\"Sales\", \"Discount\", \n",
    "                \"Profit\"] \n",
    "categorical_vars = [\"Ship_Mode\", \"Segment\", \"City\", \n",
    "                    \"State\", \"Region\", \"Category\", \n",
    "                    \"Sub_Category\", \"Quantity\"]\n",
    "                    \n",
    "                    "
   ]
  },
  {
   "cell_type": "markdown",
   "id": "41c9ec1c",
   "metadata": {},
   "source": [
    "To begin with, the correlation value and relationship between the various pairs of numeric variables will be visualized together and examined."
   ]
  },
  {
   "cell_type": "code",
   "execution_count": 69,
   "id": "b44e2a60",
   "metadata": {},
   "outputs": [
    {
     "data": {
      "image/png": "[encoded data removed]",
      "text/plain": [
       "<Figure size 432x288 with 2 Axes>"
      ]
     },
     "metadata": {
      "needs_background": "light"
     },
     "output_type": "display_data"
    }
   ],
   "source": [
    "#check correlation between the various numeric variables\n",
    "sb.heatmap(samp_superstore[numeric_vars].corr(), annot = True, fmt = '.3f',\n",
    "           cmap = 'icefire_r', center = 0);\n"
   ]
  },
  {
   "cell_type": "code",
   "execution_count": 70,
   "id": "77ac02b9",
   "metadata": {},
   "outputs": [
    {
     "data": {
      "image/png": "[encoded data removed]",
      "text/plain": [
       "<Figure size 540x540 with 12 Axes>"
      ]
     },
     "metadata": {
      "needs_background": "light"
     },
     "output_type": "display_data"
    }
   ],
   "source": [
    "#plot the various numeric variables in pairs\n",
    "g = sb.PairGrid(data = samp_superstore, vars = numeric_vars)\n",
    "g = g.map_diag(plt.hist);\n",
    "g.map_offdiag(plt.scatter); \n",
    "\n",
    "for ax in g.axes.flat: \n",
    "    ax.grid(False)\n"
   ]
  },
  {
   "cell_type": "markdown",
   "id": "fed7aea5",
   "metadata": {},
   "source": [
    "#### Observations \n",
    "Generally; \n",
    "\n",
    "- As the sales price increases, there is a decrease in the discount given.\n",
    "- Profit yield increases with an increase in sales price. \n",
    "- Products that yield high profit are sold at a low discount."
   ]
  },
  {
   "cell_type": "markdown",
   "id": "e2a4f653",
   "metadata": {},
   "source": [
    "- What category of products yields the most profit? \n",
    "- How do region and state affect sales?\n",
    "- What city in California produces the highest profit?\n",
    "- How are sales affected by quantity and discount? \n",
    "- What shipping mode is mostly used by customers? \n",
    "- What office supplies has the highest demand?\n",
    "- What is the percentage distribution of products bought in large quantities?\n",
    "- What product yields the least profit?\n",
    "- Does profit increase with an increase in the number of products bought?\n",
    "- Do consumers generate the most profit? \n",
    "- What segment of customers are highest in each region?\n",
    "- How is shipping mode distributed across the different segments? \n",
    "- Is discount dependent on quantity?"
   ]
  },
  {
   "cell_type": "markdown",
   "id": "3318fb8c",
   "metadata": {},
   "source": [
    "#### What category of products yields the most profit? "
   ]
  },
  {
   "cell_type": "code",
   "execution_count": 71,
   "id": "1f80d689",
   "metadata": {
    "scrolled": true
   },
   "outputs": [
    {
     "data": {
      "image/png": "[encoded data removed]",
      "text/plain": [
       "<Figure size 1440x576 with 2 Axes>"
      ]
     },
     "metadata": {
      "needs_background": "light"
     },
     "output_type": "display_data"
    }
   ],
   "source": [
    "#create figure size \n",
    "plt.figure(figsize = (20, 8))\n",
    "\n",
    "\n",
    "#create subplot for violin plot\n",
    "plt.subplot(1, 2, 1)\n",
    "sb.violinplot(data = samp_superstore, x = \"Category\", y = \"Profit\", \n",
    "             color = base_color); \n",
    "\n",
    "plt.grid(False)\n",
    "\n",
    "\n",
    "#create subplot for box plot \n",
    "plt.subplot(1, 2, 2) \n",
    "\n",
    "sb.boxplot(data = samp_superstore, x = \"Category\", y = \"Profit\", \n",
    "             color = base_color); \n",
    "plt.yscale(\"log\")\n",
    "\n",
    "#create ticks for y-axis \n",
    "y_ticks = [1, 2, 5, 10, 20, 50, 100,200, 500, 1000, 2000, 5000, 10000]\n",
    "tick_labels = [\"{}\".format(y_tick) for y_tick in y_ticks]\n",
    "plt.yticks(y_ticks, tick_labels)\n",
    "\n",
    "plt.grid(False)\n",
    "\n",
    "\n"
   ]
  },
  {
   "cell_type": "markdown",
   "id": "475b2f99",
   "metadata": {},
   "source": [
    "#### Observations \n",
    "\n",
    "- The violin plot shows that the majority of the products in each category yielded profit less than \\\\$1000.\n",
    "- The violin plot also shows an increase in profit yield from furniture to office supplies and technology products.\n",
    "- The box plot gives a clearer view as to the range of profit each product category yields.\n",
    "- According to the box plot: \n",
    "  - Most pieces of furniture yield profit in the range of \\\\$9-75. \n",
    "  - Most office supplies yield profit in the range of \\\\$4-30. \n",
    "  - Lastly, most technology products yield profit in the range of \\\\$10-90.\n",
    "  "
   ]
  },
  {
   "cell_type": "markdown",
   "id": "2f7f1707",
   "metadata": {},
   "source": [
    "#### What city in California produces the highest profit?\n",
    "\n",
    "First, records for customers residing in California will be filtered out and then analyzed to determine what city in California produces the highest profit. Then a bar plot will be created to visualize the average profit yield in each city."
   ]
  },
  {
   "cell_type": "code",
   "execution_count": 72,
   "id": "84377ca8",
   "metadata": {
    "scrolled": false
   },
   "outputs": [
    {
     "data": {
      "text/html": [
       "<div>\n",
       "<style scoped>\n",
       "    .dataframe tbody tr th:only-of-type {\n",
       "        vertical-align: middle;\n",
       "    }\n",
       "\n",
       "    .dataframe tbody tr th {\n",
       "        vertical-align: top;\n",
       "    }\n",
       "\n",
       "    .dataframe thead th {\n",
       "        text-align: right;\n",
       "    }\n",
       "</style>\n",
       "<table border=\"1\" class=\"dataframe\">\n",
       "  <thead>\n",
       "    <tr style=\"text-align: right;\">\n",
       "      <th></th>\n",
       "      <th>Ship_Mode</th>\n",
       "      <th>Segment</th>\n",
       "      <th>City</th>\n",
       "      <th>State</th>\n",
       "      <th>Postal_Code</th>\n",
       "      <th>Region</th>\n",
       "      <th>Category</th>\n",
       "      <th>Sub_Category</th>\n",
       "      <th>Sales</th>\n",
       "      <th>Quantity</th>\n",
       "      <th>Discount</th>\n",
       "      <th>Profit</th>\n",
       "    </tr>\n",
       "  </thead>\n",
       "  <tbody>\n",
       "    <tr>\n",
       "      <th>2</th>\n",
       "      <td>Second Class</td>\n",
       "      <td>Corporate</td>\n",
       "      <td>Los Angeles</td>\n",
       "      <td>California</td>\n",
       "      <td>90036</td>\n",
       "      <td>West</td>\n",
       "      <td>Office Supplies</td>\n",
       "      <td>Labels</td>\n",
       "      <td>14.620</td>\n",
       "      <td>2</td>\n",
       "      <td>0.0</td>\n",
       "      <td>6.8714</td>\n",
       "    </tr>\n",
       "    <tr>\n",
       "      <th>5</th>\n",
       "      <td>Standard Class</td>\n",
       "      <td>Consumer</td>\n",
       "      <td>Los Angeles</td>\n",
       "      <td>California</td>\n",
       "      <td>90032</td>\n",
       "      <td>West</td>\n",
       "      <td>Furniture</td>\n",
       "      <td>Furnishings</td>\n",
       "      <td>48.860</td>\n",
       "      <td>7</td>\n",
       "      <td>0.0</td>\n",
       "      <td>14.1694</td>\n",
       "    </tr>\n",
       "    <tr>\n",
       "      <th>6</th>\n",
       "      <td>Standard Class</td>\n",
       "      <td>Consumer</td>\n",
       "      <td>Los Angeles</td>\n",
       "      <td>California</td>\n",
       "      <td>90032</td>\n",
       "      <td>West</td>\n",
       "      <td>Office Supplies</td>\n",
       "      <td>Art</td>\n",
       "      <td>7.280</td>\n",
       "      <td>4</td>\n",
       "      <td>0.0</td>\n",
       "      <td>1.9656</td>\n",
       "    </tr>\n",
       "    <tr>\n",
       "      <th>7</th>\n",
       "      <td>Standard Class</td>\n",
       "      <td>Consumer</td>\n",
       "      <td>Los Angeles</td>\n",
       "      <td>California</td>\n",
       "      <td>90032</td>\n",
       "      <td>West</td>\n",
       "      <td>Technology</td>\n",
       "      <td>Phones</td>\n",
       "      <td>907.152</td>\n",
       "      <td>6</td>\n",
       "      <td>0.2</td>\n",
       "      <td>90.7152</td>\n",
       "    </tr>\n",
       "    <tr>\n",
       "      <th>8</th>\n",
       "      <td>Standard Class</td>\n",
       "      <td>Consumer</td>\n",
       "      <td>Los Angeles</td>\n",
       "      <td>California</td>\n",
       "      <td>90032</td>\n",
       "      <td>West</td>\n",
       "      <td>Office Supplies</td>\n",
       "      <td>Binders</td>\n",
       "      <td>18.504</td>\n",
       "      <td>3</td>\n",
       "      <td>0.2</td>\n",
       "      <td>5.7825</td>\n",
       "    </tr>\n",
       "    <tr>\n",
       "      <th>...</th>\n",
       "      <td>...</td>\n",
       "      <td>...</td>\n",
       "      <td>...</td>\n",
       "      <td>...</td>\n",
       "      <td>...</td>\n",
       "      <td>...</td>\n",
       "      <td>...</td>\n",
       "      <td>...</td>\n",
       "      <td>...</td>\n",
       "      <td>...</td>\n",
       "      <td>...</td>\n",
       "      <td>...</td>\n",
       "    </tr>\n",
       "    <tr>\n",
       "      <th>9986</th>\n",
       "      <td>Standard Class</td>\n",
       "      <td>Consumer</td>\n",
       "      <td>Los Angeles</td>\n",
       "      <td>California</td>\n",
       "      <td>90008</td>\n",
       "      <td>West</td>\n",
       "      <td>Technology</td>\n",
       "      <td>Accessories</td>\n",
       "      <td>36.240</td>\n",
       "      <td>1</td>\n",
       "      <td>0.0</td>\n",
       "      <td>15.2208</td>\n",
       "    </tr>\n",
       "    <tr>\n",
       "      <th>9990</th>\n",
       "      <td>Standard Class</td>\n",
       "      <td>Consumer</td>\n",
       "      <td>Costa Mesa</td>\n",
       "      <td>California</td>\n",
       "      <td>92627</td>\n",
       "      <td>West</td>\n",
       "      <td>Furniture</td>\n",
       "      <td>Furnishings</td>\n",
       "      <td>91.960</td>\n",
       "      <td>2</td>\n",
       "      <td>0.0</td>\n",
       "      <td>15.6332</td>\n",
       "    </tr>\n",
       "    <tr>\n",
       "      <th>9991</th>\n",
       "      <td>Standard Class</td>\n",
       "      <td>Consumer</td>\n",
       "      <td>Costa Mesa</td>\n",
       "      <td>California</td>\n",
       "      <td>92627</td>\n",
       "      <td>West</td>\n",
       "      <td>Technology</td>\n",
       "      <td>Phones</td>\n",
       "      <td>258.576</td>\n",
       "      <td>2</td>\n",
       "      <td>0.2</td>\n",
       "      <td>19.3932</td>\n",
       "    </tr>\n",
       "    <tr>\n",
       "      <th>9992</th>\n",
       "      <td>Standard Class</td>\n",
       "      <td>Consumer</td>\n",
       "      <td>Costa Mesa</td>\n",
       "      <td>California</td>\n",
       "      <td>92627</td>\n",
       "      <td>West</td>\n",
       "      <td>Office Supplies</td>\n",
       "      <td>Paper</td>\n",
       "      <td>29.600</td>\n",
       "      <td>4</td>\n",
       "      <td>0.0</td>\n",
       "      <td>13.3200</td>\n",
       "    </tr>\n",
       "    <tr>\n",
       "      <th>9993</th>\n",
       "      <td>Second Class</td>\n",
       "      <td>Consumer</td>\n",
       "      <td>Westminster</td>\n",
       "      <td>California</td>\n",
       "      <td>92683</td>\n",
       "      <td>West</td>\n",
       "      <td>Office Supplies</td>\n",
       "      <td>Appliances</td>\n",
       "      <td>243.160</td>\n",
       "      <td>2</td>\n",
       "      <td>0.0</td>\n",
       "      <td>72.9480</td>\n",
       "    </tr>\n",
       "  </tbody>\n",
       "</table>\n",
       "<p>1982 rows × 12 columns</p>\n",
       "</div>"
      ],
      "text/plain": [
       "           Ship_Mode    Segment         City       State Postal_Code Region  \\\n",
       "2       Second Class  Corporate  Los Angeles  California       90036   West   \n",
       "5     Standard Class   Consumer  Los Angeles  California       90032   West   \n",
       "6     Standard Class   Consumer  Los Angeles  California       90032   West   \n",
       "7     Standard Class   Consumer  Los Angeles  California       90032   West   \n",
       "8     Standard Class   Consumer  Los Angeles  California       90032   West   \n",
       "...              ...        ...          ...         ...         ...    ...   \n",
       "9986  Standard Class   Consumer  Los Angeles  California       90008   West   \n",
       "9990  Standard Class   Consumer   Costa Mesa  California       92627   West   \n",
       "9991  Standard Class   Consumer   Costa Mesa  California       92627   West   \n",
       "9992  Standard Class   Consumer   Costa Mesa  California       92627   West   \n",
       "9993    Second Class   Consumer  Westminster  California       92683   West   \n",
       "\n",
       "             Category Sub_Category    Sales Quantity  Discount   Profit  \n",
       "2     Office Supplies       Labels   14.620        2       0.0   6.8714  \n",
       "5           Furniture  Furnishings   48.860        7       0.0  14.1694  \n",
       "6     Office Supplies          Art    7.280        4       0.0   1.9656  \n",
       "7          Technology       Phones  907.152        6       0.2  90.7152  \n",
       "8     Office Supplies      Binders   18.504        3       0.2   5.7825  \n",
       "...               ...          ...      ...      ...       ...      ...  \n",
       "9986       Technology  Accessories   36.240        1       0.0  15.2208  \n",
       "9990        Furniture  Furnishings   91.960        2       0.0  15.6332  \n",
       "9991       Technology       Phones  258.576        2       0.2  19.3932  \n",
       "9992  Office Supplies        Paper   29.600        4       0.0  13.3200  \n",
       "9993  Office Supplies   Appliances  243.160        2       0.0  72.9480  \n",
       "\n",
       "[1982 rows x 12 columns]"
      ]
     },
     "execution_count": 72,
     "metadata": {},
     "output_type": "execute_result"
    }
   ],
   "source": [
    "#filter out rows with State value as California \n",
    "california = samp_superstore.query('State == \"California\"')\n",
    "california\n"
   ]
  },
  {
   "cell_type": "markdown",
   "id": "122b70f3",
   "metadata": {},
   "source": [
    "To order the bars in the bar plot that will be created, first, the average profit yield in each city in California will be obtained and the values will be sorted in descending order. Afterwards, the index of the cities arranged by their average profit in descending order will be obtained and used to order the bars."
   ]
  },
  {
   "cell_type": "code",
   "execution_count": 73,
   "id": "44b40031",
   "metadata": {},
   "outputs": [],
   "source": [
    "#obtain the average profit generated in each city in California\n",
    "city_profit_mean = california.groupby(\"City\").Profit.mean()\n",
    "\n",
    "\n",
    "#order the cities by their average profit in descending order\n",
    "city_order = city_profit_mean.sort_values(ascending = False).index\n"
   ]
  },
  {
   "cell_type": "code",
   "execution_count": 74,
   "id": "ecaedf0e",
   "metadata": {},
   "outputs": [
    {
     "data": {
      "image/png": "[encoded data removed]",
      "text/plain": [
       "<Figure size 576x1440 with 1 Axes>"
      ]
     },
     "metadata": {
      "needs_background": "light"
     },
     "output_type": "display_data"
    }
   ],
   "source": [
    "#set size of figure \n",
    "plt.figure(figsize = (8, 20)) \n",
    "\n",
    "#visualize \n",
    "sb.barplot(data = california, y = \"City\", x = \"Profit\", \n",
    "             color = base_color, errwidth = 0, \n",
    "          order = city_order); \n",
    "plt.xlabel(\"Average Profit ($)\")\n",
    "plt.grid(False)"
   ]
  },
  {
   "cell_type": "markdown",
   "id": "56471304",
   "metadata": {},
   "source": [
    "#### Observations\n",
    "\n",
    "- The average profit yield is highest at Burbank."
   ]
  },
  {
   "cell_type": "markdown",
   "id": "229b0965",
   "metadata": {},
   "source": [
    "#### What is the percentage distribution of products bought in large quantities?\n",
    "\n",
    "To determine what quantity can be considered large, the average quantity at which products were purchased will be obtained. "
   ]
  },
  {
   "cell_type": "code",
   "execution_count": 75,
   "id": "960344c6",
   "metadata": {
    "scrolled": true
   },
   "outputs": [
    {
     "data": {
      "text/plain": [
       "3.735812922084467"
      ]
     },
     "execution_count": 75,
     "metadata": {},
     "output_type": "execute_result"
    }
   ],
   "source": [
    "#obtain average quantity at which products were purchased\n",
    "samp_superstore.Quantity.astype(int).mean()\n"
   ]
  },
  {
   "cell_type": "markdown",
   "id": "408f5600",
   "metadata": {},
   "source": [
    "Approximately, products were purchased at a quantity of 4 on average. Hence, large quantities will be considered as purchases in 5-12 quantities.<br>\n",
    "\n",
    "**Note:**<br>\n",
    "In the dataset, the maximum quantity at which a product was purchased is 12."
   ]
  },
  {
   "cell_type": "code",
   "execution_count": 76,
   "id": "9e59dadc",
   "metadata": {},
   "outputs": [
    {
     "data": {
      "text/html": [
       "<div>\n",
       "<style scoped>\n",
       "    .dataframe tbody tr th:only-of-type {\n",
       "        vertical-align: middle;\n",
       "    }\n",
       "\n",
       "    .dataframe tbody tr th {\n",
       "        vertical-align: top;\n",
       "    }\n",
       "\n",
       "    .dataframe thead th {\n",
       "        text-align: right;\n",
       "    }\n",
       "</style>\n",
       "<table border=\"1\" class=\"dataframe\">\n",
       "  <thead>\n",
       "    <tr style=\"text-align: right;\">\n",
       "      <th></th>\n",
       "      <th>Ship_Mode</th>\n",
       "      <th>Segment</th>\n",
       "      <th>City</th>\n",
       "      <th>State</th>\n",
       "      <th>Postal_Code</th>\n",
       "      <th>Region</th>\n",
       "      <th>Category</th>\n",
       "      <th>Sub_Category</th>\n",
       "      <th>Sales</th>\n",
       "      <th>Quantity</th>\n",
       "      <th>Discount</th>\n",
       "      <th>Profit</th>\n",
       "    </tr>\n",
       "  </thead>\n",
       "  <tbody>\n",
       "    <tr>\n",
       "      <th>3</th>\n",
       "      <td>Standard Class</td>\n",
       "      <td>Consumer</td>\n",
       "      <td>Fort Lauderdale</td>\n",
       "      <td>Florida</td>\n",
       "      <td>33311</td>\n",
       "      <td>South</td>\n",
       "      <td>Furniture</td>\n",
       "      <td>Tables</td>\n",
       "      <td>957.5775</td>\n",
       "      <td>5</td>\n",
       "      <td>0.45</td>\n",
       "      <td>383.0310</td>\n",
       "    </tr>\n",
       "    <tr>\n",
       "      <th>5</th>\n",
       "      <td>Standard Class</td>\n",
       "      <td>Consumer</td>\n",
       "      <td>Los Angeles</td>\n",
       "      <td>California</td>\n",
       "      <td>90032</td>\n",
       "      <td>West</td>\n",
       "      <td>Furniture</td>\n",
       "      <td>Furnishings</td>\n",
       "      <td>48.8600</td>\n",
       "      <td>7</td>\n",
       "      <td>0.00</td>\n",
       "      <td>14.1694</td>\n",
       "    </tr>\n",
       "    <tr>\n",
       "      <th>7</th>\n",
       "      <td>Standard Class</td>\n",
       "      <td>Consumer</td>\n",
       "      <td>Los Angeles</td>\n",
       "      <td>California</td>\n",
       "      <td>90032</td>\n",
       "      <td>West</td>\n",
       "      <td>Technology</td>\n",
       "      <td>Phones</td>\n",
       "      <td>907.1520</td>\n",
       "      <td>6</td>\n",
       "      <td>0.20</td>\n",
       "      <td>90.7152</td>\n",
       "    </tr>\n",
       "    <tr>\n",
       "      <th>9</th>\n",
       "      <td>Standard Class</td>\n",
       "      <td>Consumer</td>\n",
       "      <td>Los Angeles</td>\n",
       "      <td>California</td>\n",
       "      <td>90032</td>\n",
       "      <td>West</td>\n",
       "      <td>Office Supplies</td>\n",
       "      <td>Appliances</td>\n",
       "      <td>114.9000</td>\n",
       "      <td>5</td>\n",
       "      <td>0.00</td>\n",
       "      <td>34.4700</td>\n",
       "    </tr>\n",
       "    <tr>\n",
       "      <th>10</th>\n",
       "      <td>Standard Class</td>\n",
       "      <td>Consumer</td>\n",
       "      <td>Los Angeles</td>\n",
       "      <td>California</td>\n",
       "      <td>90032</td>\n",
       "      <td>West</td>\n",
       "      <td>Furniture</td>\n",
       "      <td>Tables</td>\n",
       "      <td>1706.1840</td>\n",
       "      <td>9</td>\n",
       "      <td>0.20</td>\n",
       "      <td>85.3092</td>\n",
       "    </tr>\n",
       "    <tr>\n",
       "      <th>...</th>\n",
       "      <td>...</td>\n",
       "      <td>...</td>\n",
       "      <td>...</td>\n",
       "      <td>...</td>\n",
       "      <td>...</td>\n",
       "      <td>...</td>\n",
       "      <td>...</td>\n",
       "      <td>...</td>\n",
       "      <td>...</td>\n",
       "      <td>...</td>\n",
       "      <td>...</td>\n",
       "      <td>...</td>\n",
       "    </tr>\n",
       "    <tr>\n",
       "      <th>9977</th>\n",
       "      <td>Standard Class</td>\n",
       "      <td>Home Office</td>\n",
       "      <td>Los Angeles</td>\n",
       "      <td>California</td>\n",
       "      <td>90032</td>\n",
       "      <td>West</td>\n",
       "      <td>Office Supplies</td>\n",
       "      <td>Fasteners</td>\n",
       "      <td>13.8600</td>\n",
       "      <td>7</td>\n",
       "      <td>0.00</td>\n",
       "      <td>0.0000</td>\n",
       "    </tr>\n",
       "    <tr>\n",
       "      <th>9981</th>\n",
       "      <td>First Class</td>\n",
       "      <td>Consumer</td>\n",
       "      <td>Fairfield</td>\n",
       "      <td>Ohio</td>\n",
       "      <td>45014</td>\n",
       "      <td>East</td>\n",
       "      <td>Office Supplies</td>\n",
       "      <td>Labels</td>\n",
       "      <td>16.5200</td>\n",
       "      <td>5</td>\n",
       "      <td>0.20</td>\n",
       "      <td>5.3690</td>\n",
       "    </tr>\n",
       "    <tr>\n",
       "      <th>9982</th>\n",
       "      <td>Standard Class</td>\n",
       "      <td>Consumer</td>\n",
       "      <td>Grand Rapids</td>\n",
       "      <td>Michigan</td>\n",
       "      <td>49505</td>\n",
       "      <td>Central</td>\n",
       "      <td>Office Supplies</td>\n",
       "      <td>Paper</td>\n",
       "      <td>35.5600</td>\n",
       "      <td>7</td>\n",
       "      <td>0.00</td>\n",
       "      <td>16.7132</td>\n",
       "    </tr>\n",
       "    <tr>\n",
       "      <th>9984</th>\n",
       "      <td>Standard Class</td>\n",
       "      <td>Consumer</td>\n",
       "      <td>Long Beach</td>\n",
       "      <td>New York</td>\n",
       "      <td>11561</td>\n",
       "      <td>East</td>\n",
       "      <td>Office Supplies</td>\n",
       "      <td>Labels</td>\n",
       "      <td>31.5000</td>\n",
       "      <td>10</td>\n",
       "      <td>0.00</td>\n",
       "      <td>15.1200</td>\n",
       "    </tr>\n",
       "    <tr>\n",
       "      <th>9988</th>\n",
       "      <td>Standard Class</td>\n",
       "      <td>Corporate</td>\n",
       "      <td>Athens</td>\n",
       "      <td>Georgia</td>\n",
       "      <td>30605</td>\n",
       "      <td>South</td>\n",
       "      <td>Technology</td>\n",
       "      <td>Phones</td>\n",
       "      <td>206.1000</td>\n",
       "      <td>5</td>\n",
       "      <td>0.00</td>\n",
       "      <td>55.6470</td>\n",
       "    </tr>\n",
       "  </tbody>\n",
       "</table>\n",
       "<p>3037 rows × 12 columns</p>\n",
       "</div>"
      ],
      "text/plain": [
       "           Ship_Mode      Segment             City       State Postal_Code  \\\n",
       "3     Standard Class     Consumer  Fort Lauderdale     Florida       33311   \n",
       "5     Standard Class     Consumer      Los Angeles  California       90032   \n",
       "7     Standard Class     Consumer      Los Angeles  California       90032   \n",
       "9     Standard Class     Consumer      Los Angeles  California       90032   \n",
       "10    Standard Class     Consumer      Los Angeles  California       90032   \n",
       "...              ...          ...              ...         ...         ...   \n",
       "9977  Standard Class  Home Office      Los Angeles  California       90032   \n",
       "9981     First Class     Consumer        Fairfield        Ohio       45014   \n",
       "9982  Standard Class     Consumer     Grand Rapids    Michigan       49505   \n",
       "9984  Standard Class     Consumer       Long Beach    New York       11561   \n",
       "9988  Standard Class    Corporate           Athens     Georgia       30605   \n",
       "\n",
       "       Region         Category Sub_Category      Sales Quantity  Discount  \\\n",
       "3       South        Furniture       Tables   957.5775        5      0.45   \n",
       "5        West        Furniture  Furnishings    48.8600        7      0.00   \n",
       "7        West       Technology       Phones   907.1520        6      0.20   \n",
       "9        West  Office Supplies   Appliances   114.9000        5      0.00   \n",
       "10       West        Furniture       Tables  1706.1840        9      0.20   \n",
       "...       ...              ...          ...        ...      ...       ...   \n",
       "9977     West  Office Supplies    Fasteners    13.8600        7      0.00   \n",
       "9981     East  Office Supplies       Labels    16.5200        5      0.20   \n",
       "9982  Central  Office Supplies        Paper    35.5600        7      0.00   \n",
       "9984     East  Office Supplies       Labels    31.5000       10      0.00   \n",
       "9988    South       Technology       Phones   206.1000        5      0.00   \n",
       "\n",
       "        Profit  \n",
       "3     383.0310  \n",
       "5      14.1694  \n",
       "7      90.7152  \n",
       "9      34.4700  \n",
       "10     85.3092  \n",
       "...        ...  \n",
       "9977    0.0000  \n",
       "9981    5.3690  \n",
       "9982   16.7132  \n",
       "9984   15.1200  \n",
       "9988   55.6470  \n",
       "\n",
       "[3037 rows x 12 columns]"
      ]
     },
     "execution_count": 76,
     "metadata": {},
     "output_type": "execute_result"
    }
   ],
   "source": [
    "#filter out products purchased in quantities >4 \n",
    "large_quantities = samp_superstore[samp_superstore[\"Quantity\"].astype(int) > 4]\n",
    "large_quantities\n"
   ]
  },
  {
   "cell_type": "code",
   "execution_count": 77,
   "id": "55da9fe2",
   "metadata": {
    "scrolled": true
   },
   "outputs": [],
   "source": [
    "color_choice = sb.color_palette()[8]\n",
    "\n",
    "#create order and, obtain count and total sum of products bought \n",
    "#in large quantities\n",
    "product_count = large_quantities.Sub_Category.value_counts()  \n",
    "product_sum = product_count.sum()\n",
    "product_order = product_count.index\n"
   ]
  },
  {
   "cell_type": "code",
   "execution_count": 78,
   "id": "e2448348",
   "metadata": {
    "scrolled": true
   },
   "outputs": [
    {
     "data": {
      "image/png": "[encoded data removed]",
      "text/plain": [
       "<Figure size 1008x864 with 1 Axes>"
      ]
     },
     "metadata": {
      "needs_background": "light"
     },
     "output_type": "display_data"
    }
   ],
   "source": [
    "#set figure size\n",
    "plt.figure(figsize = (14,12))\n",
    "\n",
    "#visualize products \n",
    "sb.countplot(data = large_quantities, y = \"Sub_Category\", color = color_choice,\n",
    "            order = product_order);\n",
    "\n",
    "\n",
    "#include percentage text\n",
    "for i in range(product_count.shape[0]): \n",
    "    count = product_count[i]\n",
    "    percent = \"{:0.2f}%\".format(100 * (count/product_sum))\n",
    "    plt.text(count + 2, i, percent, va = \"center\");\n",
    "    \n",
    "\n",
    "plt.ylabel(\"Products Sub-Category\")\n",
    "plt.grid(False) \n"
   ]
  }
 ],
 "metadata": {
  "kernelspec": {
   "display_name": "Python 3 (ipykernel)",
   "language": "python",
   "name": "python3"
  },
  "language_info": {
   "codemirror_mode": {
    "name": "ipython",
    "version": 3
   },
   "file_extension": ".py",
   "mimetype": "text/x-python",
   "name": "python",
   "nbconvert_exporter": "python",
   "pygments_lexer": "ipython3",
   "version": "3.9.7"
  }
 },
 "nbformat": 4,
 "nbformat_minor": 5
}
