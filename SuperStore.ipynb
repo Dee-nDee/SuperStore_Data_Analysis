{
 "cells": [
  {
   "cell_type": "code",
   "execution_count": 1,
   "id": "141c6054",
   "metadata": {},
   "outputs": [],
   "source": [
    "#import libraries \n",
    "import numpy as np \n",
    "import pandas as pd \n",
    "import matplotlib.pyplot as plt \n",
    "import seaborn as sb \n",
    "sb.set_style(\"darkgrid\") \n",
    "\n",
    "%matplotlib inline "
   ]
  },
  {
   "cell_type": "code",
   "execution_count": 2,
   "id": "303420b4",
   "metadata": {},
   "outputs": [],
   "source": [
    "#load dataset \n",
    "samp_superstore = pd.read_csv(\"sample_superstore.csv\") \n"
   ]
  },
  {
   "cell_type": "markdown",
   "id": "80ad4e73",
   "metadata": {},
   "source": [
    "## Data Wrangling\n",
    "\n",
    "### Assessment"
   ]
  },
  {
   "cell_type": "code",
   "execution_count": 3,
   "id": "7635b7fe",
   "metadata": {},
   "outputs": [
    {
     "data": {
      "text/html": [
       "<div>\n",
       "<style scoped>\n",
       "    .dataframe tbody tr th:only-of-type {\n",
       "        vertical-align: middle;\n",
       "    }\n",
       "\n",
       "    .dataframe tbody tr th {\n",
       "        vertical-align: top;\n",
       "    }\n",
       "\n",
       "    .dataframe thead th {\n",
       "        text-align: right;\n",
       "    }\n",
       "</style>\n",
       "<table border=\"1\" class=\"dataframe\">\n",
       "  <thead>\n",
       "    <tr style=\"text-align: right;\">\n",
       "      <th></th>\n",
       "      <th>Ship Mode</th>\n",
       "      <th>Segment</th>\n",
       "      <th>Country</th>\n",
       "      <th>City</th>\n",
       "      <th>State</th>\n",
       "      <th>Postal Code</th>\n",
       "      <th>Region</th>\n",
       "      <th>Category</th>\n",
       "      <th>Sub-Category</th>\n",
       "      <th>Sales</th>\n",
       "      <th>Quantity</th>\n",
       "      <th>Discount</th>\n",
       "      <th>Profit</th>\n",
       "    </tr>\n",
       "  </thead>\n",
       "  <tbody>\n",
       "    <tr>\n",
       "      <th>9321</th>\n",
       "      <td>Standard Class</td>\n",
       "      <td>Consumer</td>\n",
       "      <td>United States</td>\n",
       "      <td>Houston</td>\n",
       "      <td>Texas</td>\n",
       "      <td>77041</td>\n",
       "      <td>Central</td>\n",
       "      <td>Furniture</td>\n",
       "      <td>Furnishings</td>\n",
       "      <td>11.376</td>\n",
       "      <td>3</td>\n",
       "      <td>0.6</td>\n",
       "      <td>-5.6880</td>\n",
       "    </tr>\n",
       "    <tr>\n",
       "      <th>3026</th>\n",
       "      <td>Standard Class</td>\n",
       "      <td>Home Office</td>\n",
       "      <td>United States</td>\n",
       "      <td>Philadelphia</td>\n",
       "      <td>Pennsylvania</td>\n",
       "      <td>19140</td>\n",
       "      <td>East</td>\n",
       "      <td>Furniture</td>\n",
       "      <td>Furnishings</td>\n",
       "      <td>254.352</td>\n",
       "      <td>3</td>\n",
       "      <td>0.2</td>\n",
       "      <td>0.0000</td>\n",
       "    </tr>\n",
       "    <tr>\n",
       "      <th>9404</th>\n",
       "      <td>Standard Class</td>\n",
       "      <td>Corporate</td>\n",
       "      <td>United States</td>\n",
       "      <td>Philadelphia</td>\n",
       "      <td>Pennsylvania</td>\n",
       "      <td>19134</td>\n",
       "      <td>East</td>\n",
       "      <td>Office Supplies</td>\n",
       "      <td>Fasteners</td>\n",
       "      <td>7.920</td>\n",
       "      <td>5</td>\n",
       "      <td>0.2</td>\n",
       "      <td>1.6830</td>\n",
       "    </tr>\n",
       "    <tr>\n",
       "      <th>9352</th>\n",
       "      <td>First Class</td>\n",
       "      <td>Consumer</td>\n",
       "      <td>United States</td>\n",
       "      <td>Chicago</td>\n",
       "      <td>Illinois</td>\n",
       "      <td>60623</td>\n",
       "      <td>Central</td>\n",
       "      <td>Furniture</td>\n",
       "      <td>Chairs</td>\n",
       "      <td>520.464</td>\n",
       "      <td>2</td>\n",
       "      <td>0.3</td>\n",
       "      <td>-14.8704</td>\n",
       "    </tr>\n",
       "    <tr>\n",
       "      <th>51</th>\n",
       "      <td>Standard Class</td>\n",
       "      <td>Consumer</td>\n",
       "      <td>United States</td>\n",
       "      <td>New Albany</td>\n",
       "      <td>Indiana</td>\n",
       "      <td>47150</td>\n",
       "      <td>Central</td>\n",
       "      <td>Furniture</td>\n",
       "      <td>Furnishings</td>\n",
       "      <td>6.160</td>\n",
       "      <td>2</td>\n",
       "      <td>0.0</td>\n",
       "      <td>2.9568</td>\n",
       "    </tr>\n",
       "    <tr>\n",
       "      <th>1522</th>\n",
       "      <td>Standard Class</td>\n",
       "      <td>Consumer</td>\n",
       "      <td>United States</td>\n",
       "      <td>Tucson</td>\n",
       "      <td>Arizona</td>\n",
       "      <td>85705</td>\n",
       "      <td>West</td>\n",
       "      <td>Office Supplies</td>\n",
       "      <td>Paper</td>\n",
       "      <td>19.920</td>\n",
       "      <td>5</td>\n",
       "      <td>0.2</td>\n",
       "      <td>6.7230</td>\n",
       "    </tr>\n",
       "    <tr>\n",
       "      <th>8767</th>\n",
       "      <td>Standard Class</td>\n",
       "      <td>Corporate</td>\n",
       "      <td>United States</td>\n",
       "      <td>Fort Worth</td>\n",
       "      <td>Texas</td>\n",
       "      <td>76106</td>\n",
       "      <td>Central</td>\n",
       "      <td>Office Supplies</td>\n",
       "      <td>Binders</td>\n",
       "      <td>7.980</td>\n",
       "      <td>5</td>\n",
       "      <td>0.8</td>\n",
       "      <td>-13.1670</td>\n",
       "    </tr>\n",
       "    <tr>\n",
       "      <th>2811</th>\n",
       "      <td>Second Class</td>\n",
       "      <td>Home Office</td>\n",
       "      <td>United States</td>\n",
       "      <td>Milwaukee</td>\n",
       "      <td>Wisconsin</td>\n",
       "      <td>53209</td>\n",
       "      <td>Central</td>\n",
       "      <td>Furniture</td>\n",
       "      <td>Furnishings</td>\n",
       "      <td>185.580</td>\n",
       "      <td>6</td>\n",
       "      <td>0.0</td>\n",
       "      <td>76.0878</td>\n",
       "    </tr>\n",
       "    <tr>\n",
       "      <th>8678</th>\n",
       "      <td>Second Class</td>\n",
       "      <td>Home Office</td>\n",
       "      <td>United States</td>\n",
       "      <td>Houston</td>\n",
       "      <td>Texas</td>\n",
       "      <td>77070</td>\n",
       "      <td>Central</td>\n",
       "      <td>Office Supplies</td>\n",
       "      <td>Binders</td>\n",
       "      <td>8.608</td>\n",
       "      <td>8</td>\n",
       "      <td>0.8</td>\n",
       "      <td>-13.3424</td>\n",
       "    </tr>\n",
       "    <tr>\n",
       "      <th>6472</th>\n",
       "      <td>Standard Class</td>\n",
       "      <td>Home Office</td>\n",
       "      <td>United States</td>\n",
       "      <td>Houston</td>\n",
       "      <td>Texas</td>\n",
       "      <td>77070</td>\n",
       "      <td>Central</td>\n",
       "      <td>Office Supplies</td>\n",
       "      <td>Labels</td>\n",
       "      <td>100.240</td>\n",
       "      <td>10</td>\n",
       "      <td>0.2</td>\n",
       "      <td>33.8310</td>\n",
       "    </tr>\n",
       "  </tbody>\n",
       "</table>\n",
       "</div>"
      ],
      "text/plain": [
       "           Ship Mode      Segment        Country          City         State  \\\n",
       "9321  Standard Class     Consumer  United States       Houston         Texas   \n",
       "3026  Standard Class  Home Office  United States  Philadelphia  Pennsylvania   \n",
       "9404  Standard Class    Corporate  United States  Philadelphia  Pennsylvania   \n",
       "9352     First Class     Consumer  United States       Chicago      Illinois   \n",
       "51    Standard Class     Consumer  United States    New Albany       Indiana   \n",
       "1522  Standard Class     Consumer  United States        Tucson       Arizona   \n",
       "8767  Standard Class    Corporate  United States    Fort Worth         Texas   \n",
       "2811    Second Class  Home Office  United States     Milwaukee     Wisconsin   \n",
       "8678    Second Class  Home Office  United States       Houston         Texas   \n",
       "6472  Standard Class  Home Office  United States       Houston         Texas   \n",
       "\n",
       "      Postal Code   Region         Category Sub-Category    Sales  Quantity  \\\n",
       "9321        77041  Central        Furniture  Furnishings   11.376         3   \n",
       "3026        19140     East        Furniture  Furnishings  254.352         3   \n",
       "9404        19134     East  Office Supplies    Fasteners    7.920         5   \n",
       "9352        60623  Central        Furniture       Chairs  520.464         2   \n",
       "51          47150  Central        Furniture  Furnishings    6.160         2   \n",
       "1522        85705     West  Office Supplies        Paper   19.920         5   \n",
       "8767        76106  Central  Office Supplies      Binders    7.980         5   \n",
       "2811        53209  Central        Furniture  Furnishings  185.580         6   \n",
       "8678        77070  Central  Office Supplies      Binders    8.608         8   \n",
       "6472        77070  Central  Office Supplies       Labels  100.240        10   \n",
       "\n",
       "      Discount   Profit  \n",
       "9321       0.6  -5.6880  \n",
       "3026       0.2   0.0000  \n",
       "9404       0.2   1.6830  \n",
       "9352       0.3 -14.8704  \n",
       "51         0.0   2.9568  \n",
       "1522       0.2   6.7230  \n",
       "8767       0.8 -13.1670  \n",
       "2811       0.0  76.0878  \n",
       "8678       0.8 -13.3424  \n",
       "6472       0.2  33.8310  "
      ]
     },
     "execution_count": 3,
     "metadata": {},
     "output_type": "execute_result"
    }
   ],
   "source": [
    "#view random rows of the dataset \n",
    "samp_superstore.sample(10)"
   ]
  },
  {
   "cell_type": "code",
   "execution_count": 4,
   "id": "9ceebb6b",
   "metadata": {},
   "outputs": [
    {
     "name": "stdout",
     "output_type": "stream",
     "text": [
      "<class 'pandas.core.frame.DataFrame'>\n",
      "RangeIndex: 9994 entries, 0 to 9993\n",
      "Data columns (total 13 columns):\n",
      " #   Column        Non-Null Count  Dtype  \n",
      "---  ------        --------------  -----  \n",
      " 0   Ship Mode     9994 non-null   object \n",
      " 1   Segment       9994 non-null   object \n",
      " 2   Country       9994 non-null   object \n",
      " 3   City          9994 non-null   object \n",
      " 4   State         9994 non-null   object \n",
      " 5   Postal Code   9994 non-null   int64  \n",
      " 6   Region        9994 non-null   object \n",
      " 7   Category      9994 non-null   object \n",
      " 8   Sub-Category  9994 non-null   object \n",
      " 9   Sales         9994 non-null   float64\n",
      " 10  Quantity      9994 non-null   int64  \n",
      " 11  Discount      9994 non-null   float64\n",
      " 12  Profit        9994 non-null   float64\n",
      "dtypes: float64(3), int64(2), object(8)\n",
      "memory usage: 1015.1+ KB\n"
     ]
    }
   ],
   "source": [
    "#obtain descriptive summary of the dataset \n",
    "samp_superstore.info() \n"
   ]
  },
  {
   "cell_type": "code",
   "execution_count": 5,
   "id": "a3bbe8dc",
   "metadata": {},
   "outputs": [
    {
     "data": {
      "text/plain": [
       "17"
      ]
     },
     "execution_count": 5,
     "metadata": {},
     "output_type": "execute_result"
    }
   ],
   "source": [
    "#check for number of duplicate rows \n",
    "samp_superstore.duplicated().sum()"
   ]
  },
  {
   "cell_type": "code",
   "execution_count": 6,
   "id": "ef7d2540",
   "metadata": {},
   "outputs": [
    {
     "data": {
      "text/plain": [
       "Ship Mode       0\n",
       "Segment         0\n",
       "Country         0\n",
       "City            0\n",
       "State           0\n",
       "Postal Code     0\n",
       "Region          0\n",
       "Category        0\n",
       "Sub-Category    0\n",
       "Sales           0\n",
       "Quantity        0\n",
       "Discount        0\n",
       "Profit          0\n",
       "dtype: int64"
      ]
     },
     "execution_count": 6,
     "metadata": {},
     "output_type": "execute_result"
    }
   ],
   "source": [
    "#check for number of null rows in each column\n",
    "samp_superstore.isnull().sum()\n"
   ]
  },
  {
   "cell_type": "code",
   "execution_count": 7,
   "id": "65526ce2",
   "metadata": {
    "scrolled": true
   },
   "outputs": [
    {
     "data": {
      "text/plain": [
       "array(['Second Class', 'Standard Class', 'First Class', 'Same Day'],\n",
       "      dtype=object)"
      ]
     },
     "execution_count": 7,
     "metadata": {},
     "output_type": "execute_result"
    }
   ],
   "source": [
    "#obtain unique values of ship mode \n",
    "samp_superstore[\"Ship Mode\"].unique()"
   ]
  },
  {
   "cell_type": "code",
   "execution_count": 8,
   "id": "1721db09",
   "metadata": {},
   "outputs": [
    {
     "data": {
      "text/plain": [
       "array(['Consumer', 'Corporate', 'Home Office'], dtype=object)"
      ]
     },
     "execution_count": 8,
     "metadata": {},
     "output_type": "execute_result"
    }
   ],
   "source": [
    "#obtain unique Segment values \n",
    "samp_superstore[\"Segment\"].unique()"
   ]
  },
  {
   "cell_type": "code",
   "execution_count": 9,
   "id": "54dcf881",
   "metadata": {},
   "outputs": [
    {
     "data": {
      "text/plain": [
       "array(['United States'], dtype=object)"
      ]
     },
     "execution_count": 9,
     "metadata": {},
     "output_type": "execute_result"
    }
   ],
   "source": [
    "#obtain the unique values in Country\n",
    "samp_superstore.Country.unique()\n"
   ]
  },
  {
   "cell_type": "code",
   "execution_count": 10,
   "id": "6948675f",
   "metadata": {},
   "outputs": [
    {
     "data": {
      "text/plain": [
       "array(['South', 'West', 'Central', 'East'], dtype=object)"
      ]
     },
     "execution_count": 10,
     "metadata": {},
     "output_type": "execute_result"
    }
   ],
   "source": [
    "# obtain the unique Regions\n",
    "samp_superstore.Region.unique()\n"
   ]
  },
  {
   "cell_type": "code",
   "execution_count": 11,
   "id": "ccaef770",
   "metadata": {
    "scrolled": false
   },
   "outputs": [
    {
     "data": {
      "text/plain": [
       "Office Supplies    6026\n",
       "Furniture          2121\n",
       "Technology         1847\n",
       "Name: Category, dtype: int64"
      ]
     },
     "execution_count": 11,
     "metadata": {},
     "output_type": "execute_result"
    }
   ],
   "source": [
    "#obtain the number of unique values in Category\n",
    "samp_superstore.Category.value_counts()\n"
   ]
  },
  {
   "cell_type": "code",
   "execution_count": 12,
   "id": "314f0396",
   "metadata": {},
   "outputs": [
    {
     "data": {
      "text/plain": [
       "17"
      ]
     },
     "execution_count": 12,
     "metadata": {},
     "output_type": "execute_result"
    }
   ],
   "source": [
    "#obtain the number of unique values in  Sub-Category column \n",
    "samp_superstore[\"Sub-Category\"].nunique()\n"
   ]
  },
  {
   "cell_type": "code",
   "execution_count": 13,
   "id": "17505c36",
   "metadata": {},
   "outputs": [
    {
     "data": {
      "text/plain": [
       "Binders        1523\n",
       "Paper          1370\n",
       "Furnishings     957\n",
       "Phones          889\n",
       "Storage         846\n",
       "Art             796\n",
       "Accessories     775\n",
       "Chairs          617\n",
       "Appliances      466\n",
       "Labels          364\n",
       "Tables          319\n",
       "Envelopes       254\n",
       "Bookcases       228\n",
       "Fasteners       217\n",
       "Supplies        190\n",
       "Machines        115\n",
       "Copiers          68\n",
       "Name: Sub-Category, dtype: int64"
      ]
     },
     "execution_count": 13,
     "metadata": {},
     "output_type": "execute_result"
    }
   ],
   "source": [
    "#obtain the count of the unique values in Sub-Category\n",
    "samp_superstore[\"Sub-Category\"].value_counts()\n"
   ]
  },
  {
   "cell_type": "code",
   "execution_count": 14,
   "id": "eded9a18",
   "metadata": {},
   "outputs": [
    {
     "data": {
      "text/plain": [
       "49"
      ]
     },
     "execution_count": 14,
     "metadata": {},
     "output_type": "execute_result"
    }
   ],
   "source": [
    "#check for number of unique States \n",
    "samp_superstore.State.nunique()\n"
   ]
  },
  {
   "cell_type": "code",
   "execution_count": 15,
   "id": "cc461997",
   "metadata": {},
   "outputs": [
    {
     "data": {
      "text/plain": [
       "531"
      ]
     },
     "execution_count": 15,
     "metadata": {},
     "output_type": "execute_result"
    }
   ],
   "source": [
    "#check number of Cities \n",
    "samp_superstore.City.nunique()\n"
   ]
  },
  {
   "cell_type": "code",
   "execution_count": 16,
   "id": "22bd6c1f",
   "metadata": {},
   "outputs": [
    {
     "data": {
      "text/plain": [
       "array([ 2,  3,  5,  7,  4,  6,  9,  1,  8, 14, 11, 13, 10, 12])"
      ]
     },
     "execution_count": 16,
     "metadata": {},
     "output_type": "execute_result"
    }
   ],
   "source": [
    "#obtain the unique Quantity values \n",
    "samp_superstore.Quantity.unique()"
   ]
  },
  {
   "cell_type": "markdown",
   "id": "0c8167d8",
   "metadata": {},
   "source": [
    "### Issues \n",
    "\n",
    "- Spaces in column names \n",
    "- Repititive value in `Country` column\n",
    "- Dtype of Postal Code as int\n",
    "- Zip codes with less than 5 numeric digits \n",
    "- \"-\" in `Sub-Category` column\n",
    "- Duplicated rows \n",
    "- Dtype of `Quantity` column\n",
    "- Unordered `Quantity` values  \n",
    "- Negative `Profit` values \n",
    "- Null rows "
   ]
  },
  {
   "cell_type": "markdown",
   "id": "4206ecdf",
   "metadata": {},
   "source": [
    "### Cleaning"
   ]
  },
  {
   "cell_type": "markdown",
   "id": "4c9d2b2c",
   "metadata": {},
   "source": [
    "One of the issues noted in the assessment phase is the presence of a space between the words of some column names.\n",
    "\n",
    "Below, the space in those column names will be replaced with an underscore (\"\\_\") as this allows more flexibility in the use of the column names."
   ]
  },
  {
   "cell_type": "code",
   "execution_count": 17,
   "id": "21b829f1",
   "metadata": {},
   "outputs": [],
   "source": [
    "#create a list containing column names \n",
    "col_names = list(samp_superstore.columns) \n"
   ]
  },
  {
   "cell_type": "code",
   "execution_count": 18,
   "id": "68bfd2b1",
   "metadata": {},
   "outputs": [],
   "source": [
    "def replace_space(df, list_col_names): \n",
    "    \"\"\"\n",
    "    This function replaces the space in the column names \n",
    "    with spaces between their words with '_'\n",
    "    \"\"\"\n",
    "    for col_name in list_col_names: \n",
    "        if \" \" in col_name: \n",
    "            new_name = col_name.replace(\" \", \"_\") \n",
    "            df.rename(columns = {col_name : new_name}, \n",
    "                      inplace = True) \n",
    "    return df \n"
   ]
  },
  {
   "cell_type": "code",
   "execution_count": 19,
   "id": "96ed3c0a",
   "metadata": {},
   "outputs": [
    {
     "data": {
      "text/html": [
       "<div>\n",
       "<style scoped>\n",
       "    .dataframe tbody tr th:only-of-type {\n",
       "        vertical-align: middle;\n",
       "    }\n",
       "\n",
       "    .dataframe tbody tr th {\n",
       "        vertical-align: top;\n",
       "    }\n",
       "\n",
       "    .dataframe thead th {\n",
       "        text-align: right;\n",
       "    }\n",
       "</style>\n",
       "<table border=\"1\" class=\"dataframe\">\n",
       "  <thead>\n",
       "    <tr style=\"text-align: right;\">\n",
       "      <th></th>\n",
       "      <th>Ship_Mode</th>\n",
       "      <th>Segment</th>\n",
       "      <th>Country</th>\n",
       "      <th>City</th>\n",
       "      <th>State</th>\n",
       "      <th>Postal_Code</th>\n",
       "      <th>Region</th>\n",
       "      <th>Category</th>\n",
       "      <th>Sub-Category</th>\n",
       "      <th>Sales</th>\n",
       "      <th>Quantity</th>\n",
       "      <th>Discount</th>\n",
       "      <th>Profit</th>\n",
       "    </tr>\n",
       "  </thead>\n",
       "  <tbody>\n",
       "    <tr>\n",
       "      <th>0</th>\n",
       "      <td>Second Class</td>\n",
       "      <td>Consumer</td>\n",
       "      <td>United States</td>\n",
       "      <td>Henderson</td>\n",
       "      <td>Kentucky</td>\n",
       "      <td>42420</td>\n",
       "      <td>South</td>\n",
       "      <td>Furniture</td>\n",
       "      <td>Bookcases</td>\n",
       "      <td>261.96</td>\n",
       "      <td>2</td>\n",
       "      <td>0.0</td>\n",
       "      <td>41.9136</td>\n",
       "    </tr>\n",
       "  </tbody>\n",
       "</table>\n",
       "</div>"
      ],
      "text/plain": [
       "      Ship_Mode   Segment        Country       City     State  Postal_Code  \\\n",
       "0  Second Class  Consumer  United States  Henderson  Kentucky        42420   \n",
       "\n",
       "  Region   Category Sub-Category   Sales  Quantity  Discount   Profit  \n",
       "0  South  Furniture    Bookcases  261.96         2       0.0  41.9136  "
      ]
     },
     "execution_count": 19,
     "metadata": {},
     "output_type": "execute_result"
    }
   ],
   "source": [
    "#apply the function \n",
    "samp_superstore = replace_space(samp_superstore, col_names) \n",
    "\n",
    "#confirm change \n",
    "samp_superstore.head(1)"
   ]
  },
  {
   "cell_type": "markdown",
   "id": "77e1d9b0",
   "metadata": {},
   "source": [
    "Since all the transactions made were to customers living in the United States, the `Country` column will be dropped as it is unnecessary, and only contains repetitive values."
   ]
  },
  {
   "cell_type": "code",
   "execution_count": 20,
   "id": "f34cf83d",
   "metadata": {},
   "outputs": [
    {
     "data": {
      "text/plain": [
       "Index(['Ship_Mode', 'Segment', 'City', 'State', 'Postal_Code', 'Region',\n",
       "       'Category', 'Sub-Category', 'Sales', 'Quantity', 'Discount', 'Profit'],\n",
       "      dtype='object')"
      ]
     },
     "execution_count": 20,
     "metadata": {},
     "output_type": "execute_result"
    }
   ],
   "source": [
    "#drop Country column \n",
    "samp_superstore.drop(\"Country\", axis = 1, inplace = True) \n",
    "\n",
    "#confirm \n",
    "samp_superstore.columns"
   ]
  },
  {
   "cell_type": "markdown",
   "id": "56e5d997",
   "metadata": {},
   "source": [
    "The postal code for customers in the dataset has datatype as integer. This will be converted to string datatype as calculations will not be performed on the postal codes."
   ]
  },
  {
   "cell_type": "code",
   "execution_count": 21,
   "id": "be39134e",
   "metadata": {},
   "outputs": [
    {
     "data": {
      "text/plain": [
       "Ship_Mode        object\n",
       "Segment          object\n",
       "City             object\n",
       "State            object\n",
       "Postal_Code      object\n",
       "Region           object\n",
       "Category         object\n",
       "Sub-Category     object\n",
       "Sales           float64\n",
       "Quantity          int64\n",
       "Discount        float64\n",
       "Profit          float64\n",
       "dtype: object"
      ]
     },
     "execution_count": 21,
     "metadata": {},
     "output_type": "execute_result"
    }
   ],
   "source": [
    "#change datatype of Postal_Code from int to string \n",
    "samp_superstore.Postal_Code = samp_superstore.Postal_Code.astype(str)\n",
    "\n",
    "#confirm \n",
    "samp_superstore.dtypes\n"
   ]
  },
  {
   "cell_type": "markdown",
   "id": "857ccfdb",
   "metadata": {},
   "source": [
    "According to this [article](https://www.usatoday.com/story/news/2022/10/03/what-is-a-postal-code-zip/7836090001/), in the United States, postal codes are usually 5-digit characters. During the data assessment though, some postal codes were noticed to have only 4 digits. This may have been a typographical error. Below, 0 will be added to the front of each incomplete postal code."
   ]
  },
  {
   "cell_type": "code",
   "execution_count": 22,
   "id": "b019a0bc",
   "metadata": {},
   "outputs": [],
   "source": [
    "def incomplete_code_checker(col_name):\n",
    "    \"\"\"This function returns the number \n",
    "    of codes in a code column with less \n",
    "    than 5 digits\"\"\"\n",
    "    count = 0\n",
    "    for x in col_name:\n",
    "        if len(x) < 5: \n",
    "            count += 1 \n",
    "        else: \n",
    "            count += 0 \n",
    "    return count \n"
   ]
  },
  {
   "cell_type": "code",
   "execution_count": 23,
   "id": "e6ff531f",
   "metadata": {},
   "outputs": [
    {
     "data": {
      "text/plain": [
       "449"
      ]
     },
     "execution_count": 23,
     "metadata": {},
     "output_type": "execute_result"
    }
   ],
   "source": [
    "#apply to Postal_Code \n",
    "incomplete_code_checker(samp_superstore.Postal_Code)\n"
   ]
  },
  {
   "cell_type": "code",
   "execution_count": 24,
   "id": "00b49fc1",
   "metadata": {},
   "outputs": [
    {
     "data": {
      "text/plain": [
       "0"
      ]
     },
     "execution_count": 24,
     "metadata": {},
     "output_type": "execute_result"
    }
   ],
   "source": [
    "#add zero to at the beginning of incomplete postal codes \n",
    "samp_superstore.Postal_Code = samp_superstore.Postal_Code.str.pad(5, fillchar = \"0\")\n",
    "\n",
    "# confirm \n",
    "incomplete_code_checker(samp_superstore.Postal_Code) \n"
   ]
  },
  {
   "cell_type": "markdown",
   "id": "adc4ba75",
   "metadata": {},
   "source": [
    "Below, the column `Sub-Category` will be renamed `Sub_Category`. This again is to increase the flexibility of use."
   ]
  },
  {
   "cell_type": "code",
   "execution_count": 25,
   "id": "261b993e",
   "metadata": {},
   "outputs": [
    {
     "data": {
      "text/html": [
       "<div>\n",
       "<style scoped>\n",
       "    .dataframe tbody tr th:only-of-type {\n",
       "        vertical-align: middle;\n",
       "    }\n",
       "\n",
       "    .dataframe tbody tr th {\n",
       "        vertical-align: top;\n",
       "    }\n",
       "\n",
       "    .dataframe thead th {\n",
       "        text-align: right;\n",
       "    }\n",
       "</style>\n",
       "<table border=\"1\" class=\"dataframe\">\n",
       "  <thead>\n",
       "    <tr style=\"text-align: right;\">\n",
       "      <th></th>\n",
       "      <th>Ship_Mode</th>\n",
       "      <th>Segment</th>\n",
       "      <th>City</th>\n",
       "      <th>State</th>\n",
       "      <th>Postal_Code</th>\n",
       "      <th>Region</th>\n",
       "      <th>Category</th>\n",
       "      <th>Sub_Category</th>\n",
       "      <th>Sales</th>\n",
       "      <th>Quantity</th>\n",
       "      <th>Discount</th>\n",
       "      <th>Profit</th>\n",
       "    </tr>\n",
       "  </thead>\n",
       "  <tbody>\n",
       "    <tr>\n",
       "      <th>0</th>\n",
       "      <td>Second Class</td>\n",
       "      <td>Consumer</td>\n",
       "      <td>Henderson</td>\n",
       "      <td>Kentucky</td>\n",
       "      <td>42420</td>\n",
       "      <td>South</td>\n",
       "      <td>Furniture</td>\n",
       "      <td>Bookcases</td>\n",
       "      <td>261.96</td>\n",
       "      <td>2</td>\n",
       "      <td>0.0</td>\n",
       "      <td>41.9136</td>\n",
       "    </tr>\n",
       "  </tbody>\n",
       "</table>\n",
       "</div>"
      ],
      "text/plain": [
       "      Ship_Mode   Segment       City     State Postal_Code Region   Category  \\\n",
       "0  Second Class  Consumer  Henderson  Kentucky       42420  South  Furniture   \n",
       "\n",
       "  Sub_Category   Sales  Quantity  Discount   Profit  \n",
       "0    Bookcases  261.96         2       0.0  41.9136  "
      ]
     },
     "execution_count": 25,
     "metadata": {},
     "output_type": "execute_result"
    }
   ],
   "source": [
    "#rename Sub-Category column \n",
    "samp_superstore.rename(columns = {\"Sub-Category\" : \"Sub_Category\"}, inplace = True)\n",
    "\n",
    "#confirm \n",
    "samp_superstore.head(1)\n"
   ]
  },
  {
   "cell_type": "markdown",
   "id": "8e4d21dc",
   "metadata": {},
   "source": [
    "A total of 17 rows were found to be duplicated in the assessment phase and will be dropped next."
   ]
  },
  {
   "cell_type": "code",
   "execution_count": 26,
   "id": "19f776ae",
   "metadata": {
    "scrolled": true
   },
   "outputs": [
    {
     "data": {
      "text/plain": [
       "0"
      ]
     },
     "execution_count": 26,
     "metadata": {},
     "output_type": "execute_result"
    }
   ],
   "source": [
    "#drop duplicate rows \n",
    "samp_superstore.drop_duplicates(inplace = True)\n",
    "\n",
    "#confirm \n",
    "samp_superstore.duplicated().sum()\n"
   ]
  },
  {
   "cell_type": "markdown",
   "id": "34b7d6b7",
   "metadata": {},
   "source": [
    "The `Quantity` variable should be ordinal, hence, next the values in the column will be ordered. First though, the datatype of the `Quantity` column will be changed to string. "
   ]
  },
  {
   "cell_type": "code",
   "execution_count": 27,
   "id": "ef4af5e7",
   "metadata": {},
   "outputs": [
    {
     "data": {
      "text/plain": [
       "Ship_Mode        object\n",
       "Segment          object\n",
       "City             object\n",
       "State            object\n",
       "Postal_Code      object\n",
       "Region           object\n",
       "Category         object\n",
       "Sub_Category     object\n",
       "Sales           float64\n",
       "Quantity         object\n",
       "Discount        float64\n",
       "Profit          float64\n",
       "dtype: object"
      ]
     },
     "execution_count": 27,
     "metadata": {},
     "output_type": "execute_result"
    }
   ],
   "source": [
    "#change Quantity datatype to string \n",
    "samp_superstore.Quantity = samp_superstore.Quantity.astype(str) \n",
    "\n",
    "#confirm \n",
    "samp_superstore.dtypes\n"
   ]
  },
  {
   "cell_type": "markdown",
   "id": "1ce6d258",
   "metadata": {},
   "source": [
    "Next, the `Quantity` column will be converted from plain string to an ordered categorical datatype."
   ]
  },
  {
   "cell_type": "code",
   "execution_count": 28,
   "id": "4a1b0f7a",
   "metadata": {},
   "outputs": [],
   "source": [
    "#create Quantity order \n",
    "quantity_order = [\"1\", \"2\", \"3\", \"4\", \"5\", \"6\", \n",
    "                  \"7\", \"8\", \"9\", \"10\", \"11\", \"12\"]\n"
   ]
  },
  {
   "cell_type": "code",
   "execution_count": 29,
   "id": "75d9d40e",
   "metadata": {},
   "outputs": [
    {
     "data": {
      "text/plain": [
       "Ship_Mode         object\n",
       "Segment           object\n",
       "City              object\n",
       "State             object\n",
       "Postal_Code       object\n",
       "Region            object\n",
       "Category          object\n",
       "Sub_Category      object\n",
       "Sales            float64\n",
       "Quantity        category\n",
       "Discount         float64\n",
       "Profit           float64\n",
       "dtype: object"
      ]
     },
     "execution_count": 29,
     "metadata": {},
     "output_type": "execute_result"
    }
   ],
   "source": [
    "#create the Quantity categorical datatype \n",
    "quantity_cat_dtype = pd.api.types.CategoricalDtype(ordered = True, categories = quantity_order) \n",
    "\n",
    "#apply created datatype on Quantity column\n",
    "samp_superstore.Quantity = samp_superstore.Quantity.astype(quantity_cat_dtype)\n",
    "\n",
    "#confirm \n",
    "samp_superstore.dtypes\n"
   ]
  },
  {
   "cell_type": "markdown",
   "id": "eefddb83",
   "metadata": {},
   "source": [
    "During visual assessment of the dataset, some negative values were noticed in the `Profit` column. This may have been an error, and would be corrected below.<br>\n",
    "\n",
    "First, the datatype of the column will be changed to string, and the negative sign (\"-\") will be sliced off the negative values. Afterwards, the values will be changed back to float."
   ]
  },
  {
   "cell_type": "code",
   "execution_count": 30,
   "id": "da2f66ee",
   "metadata": {},
   "outputs": [
    {
     "data": {
      "text/plain": [
       "Ship_Mode         object\n",
       "Segment           object\n",
       "City              object\n",
       "State             object\n",
       "Postal_Code       object\n",
       "Region            object\n",
       "Category          object\n",
       "Sub_Category      object\n",
       "Sales            float64\n",
       "Quantity        category\n",
       "Discount         float64\n",
       "Profit            object\n",
       "dtype: object"
      ]
     },
     "execution_count": 30,
     "metadata": {},
     "output_type": "execute_result"
    }
   ],
   "source": [
    "#change data type of Profit column to string\n",
    "samp_superstore.Profit = samp_superstore.Profit.astype(str)\n",
    "\n",
    "#confirm change\n",
    "samp_superstore.dtypes\n"
   ]
  },
  {
   "cell_type": "code",
   "execution_count": 31,
   "id": "5ca59dd8",
   "metadata": {},
   "outputs": [],
   "source": [
    "def neg_checker(colname): \n",
    "    \"\"\" This function returns the \n",
    "    number of negative string values \n",
    "    present in a column \n",
    "    \"\"\"\n",
    "    count = 0\n",
    "    for x in colname:\n",
    "        if \"-\" in x:\n",
    "            count += 1\n",
    "    return count\n",
    "                      "
   ]
  },
  {
   "cell_type": "code",
   "execution_count": 32,
   "id": "c30c032a",
   "metadata": {},
   "outputs": [
    {
     "data": {
      "text/plain": [
       "1869"
      ]
     },
     "execution_count": 32,
     "metadata": {},
     "output_type": "execute_result"
    }
   ],
   "source": [
    "#apply function on Profit column \n",
    "neg_checker(samp_superstore[\"Profit\"])\n"
   ]
  },
  {
   "cell_type": "markdown",
   "id": "dc6e69c2",
   "metadata": {},
   "source": [
    "Convert negative values in `Profit` column to positive values."
   ]
  },
  {
   "cell_type": "code",
   "execution_count": 33,
   "id": "0232f935",
   "metadata": {},
   "outputs": [],
   "source": [
    "def convert_to_positive(x): \n",
    "    \"\"\" This function converts negative \n",
    "    string values to positive string\n",
    "    values \"\"\"\n",
    "    if \"-\" in x:\n",
    "        return x[1:]\n",
    "    else: \n",
    "        return x \n",
    "    "
   ]
  },
  {
   "cell_type": "code",
   "execution_count": 34,
   "id": "6b6425a5",
   "metadata": {},
   "outputs": [
    {
     "data": {
      "text/plain": [
       "0"
      ]
     },
     "execution_count": 34,
     "metadata": {},
     "output_type": "execute_result"
    }
   ],
   "source": [
    "#apply to Profit column \n",
    "samp_superstore.Profit = samp_superstore.Profit.apply(convert_to_positive)\n",
    "\n",
    "#confirm \n",
    "neg_checker(samp_superstore[\"Profit\"])\n"
   ]
  },
  {
   "cell_type": "markdown",
   "id": "bee18b38",
   "metadata": {},
   "source": [
    "Convert `Profit` column back to float. "
   ]
  },
  {
   "cell_type": "code",
   "execution_count": 35,
   "id": "ce5ff044",
   "metadata": {
    "scrolled": true
   },
   "outputs": [
    {
     "data": {
      "text/plain": [
       "Ship_Mode         object\n",
       "Segment           object\n",
       "City              object\n",
       "State             object\n",
       "Postal_Code       object\n",
       "Region            object\n",
       "Category          object\n",
       "Sub_Category      object\n",
       "Sales            float64\n",
       "Quantity        category\n",
       "Discount         float64\n",
       "Profit           float64\n",
       "dtype: object"
      ]
     },
     "execution_count": 35,
     "metadata": {},
     "output_type": "execute_result"
    }
   ],
   "source": [
    "samp_superstore.Profit = samp_superstore.Profit.astype(float) \n",
    "\n",
    "#confirm change \n",
    "samp_superstore.dtypes \n"
   ]
  },
  {
   "cell_type": "markdown",
   "id": "87d0c86f",
   "metadata": {},
   "source": [
    "Below, null rows noticed during assessment will be dropped."
   ]
  },
  {
   "cell_type": "code",
   "execution_count": 36,
   "id": "25458ddb",
   "metadata": {},
   "outputs": [
    {
     "data": {
      "text/plain": [
       "Ship_Mode       0\n",
       "Segment         0\n",
       "City            0\n",
       "State           0\n",
       "Postal_Code     0\n",
       "Region          0\n",
       "Category        0\n",
       "Sub_Category    0\n",
       "Sales           0\n",
       "Quantity        0\n",
       "Discount        0\n",
       "Profit          0\n",
       "dtype: int64"
      ]
     },
     "execution_count": 36,
     "metadata": {},
     "output_type": "execute_result"
    }
   ],
   "source": [
    "#remove null rows\n",
    "samp_superstore.dropna(inplace = True) \n",
    "\n",
    "#confirm \n",
    "samp_superstore.isnull().sum()\n"
   ]
  },
  {
   "cell_type": "markdown",
   "id": "5e09ada8",
   "metadata": {},
   "source": [
    "## Exploratory Data Analysis (EDA)\n",
    "\n",
    "\n",
    "### Univariate Exploration \n",
    "\n",
    "The individual features will be explored to gain a better understanding of the data."
   ]
  },
  {
   "cell_type": "code",
   "execution_count": 37,
   "id": "b2bfb267",
   "metadata": {
    "scrolled": true
   },
   "outputs": [
    {
     "data": {
      "text/html": [
       "<div>\n",
       "<style scoped>\n",
       "    .dataframe tbody tr th:only-of-type {\n",
       "        vertical-align: middle;\n",
       "    }\n",
       "\n",
       "    .dataframe tbody tr th {\n",
       "        vertical-align: top;\n",
       "    }\n",
       "\n",
       "    .dataframe thead th {\n",
       "        text-align: right;\n",
       "    }\n",
       "</style>\n",
       "<table border=\"1\" class=\"dataframe\">\n",
       "  <thead>\n",
       "    <tr style=\"text-align: right;\">\n",
       "      <th></th>\n",
       "      <th>Ship_Mode</th>\n",
       "      <th>Segment</th>\n",
       "      <th>City</th>\n",
       "      <th>State</th>\n",
       "      <th>Postal_Code</th>\n",
       "      <th>Region</th>\n",
       "      <th>Category</th>\n",
       "      <th>Sub_Category</th>\n",
       "      <th>Sales</th>\n",
       "      <th>Quantity</th>\n",
       "      <th>Discount</th>\n",
       "      <th>Profit</th>\n",
       "    </tr>\n",
       "  </thead>\n",
       "  <tbody>\n",
       "    <tr>\n",
       "      <th>3427</th>\n",
       "      <td>Second Class</td>\n",
       "      <td>Home Office</td>\n",
       "      <td>Lancaster</td>\n",
       "      <td>Ohio</td>\n",
       "      <td>43130</td>\n",
       "      <td>East</td>\n",
       "      <td>Office Supplies</td>\n",
       "      <td>Paper</td>\n",
       "      <td>32.896</td>\n",
       "      <td>4</td>\n",
       "      <td>0.2</td>\n",
       "      <td>11.1024</td>\n",
       "    </tr>\n",
       "    <tr>\n",
       "      <th>5984</th>\n",
       "      <td>Standard Class</td>\n",
       "      <td>Consumer</td>\n",
       "      <td>Hattiesburg</td>\n",
       "      <td>Mississippi</td>\n",
       "      <td>39401</td>\n",
       "      <td>South</td>\n",
       "      <td>Furniture</td>\n",
       "      <td>Furnishings</td>\n",
       "      <td>185.580</td>\n",
       "      <td>6</td>\n",
       "      <td>0.0</td>\n",
       "      <td>76.0878</td>\n",
       "    </tr>\n",
       "    <tr>\n",
       "      <th>984</th>\n",
       "      <td>Standard Class</td>\n",
       "      <td>Home Office</td>\n",
       "      <td>Pasadena</td>\n",
       "      <td>Texas</td>\n",
       "      <td>77506</td>\n",
       "      <td>Central</td>\n",
       "      <td>Office Supplies</td>\n",
       "      <td>Labels</td>\n",
       "      <td>7.968</td>\n",
       "      <td>2</td>\n",
       "      <td>0.2</td>\n",
       "      <td>2.5896</td>\n",
       "    </tr>\n",
       "    <tr>\n",
       "      <th>7548</th>\n",
       "      <td>Standard Class</td>\n",
       "      <td>Corporate</td>\n",
       "      <td>Huntsville</td>\n",
       "      <td>Texas</td>\n",
       "      <td>77340</td>\n",
       "      <td>Central</td>\n",
       "      <td>Office Supplies</td>\n",
       "      <td>Binders</td>\n",
       "      <td>0.898</td>\n",
       "      <td>1</td>\n",
       "      <td>0.8</td>\n",
       "      <td>1.5715</td>\n",
       "    </tr>\n",
       "    <tr>\n",
       "      <th>6574</th>\n",
       "      <td>Standard Class</td>\n",
       "      <td>Corporate</td>\n",
       "      <td>Plainfield</td>\n",
       "      <td>New Jersey</td>\n",
       "      <td>07060</td>\n",
       "      <td>East</td>\n",
       "      <td>Technology</td>\n",
       "      <td>Machines</td>\n",
       "      <td>319.920</td>\n",
       "      <td>8</td>\n",
       "      <td>0.0</td>\n",
       "      <td>118.3704</td>\n",
       "    </tr>\n",
       "    <tr>\n",
       "      <th>2600</th>\n",
       "      <td>Standard Class</td>\n",
       "      <td>Consumer</td>\n",
       "      <td>New York City</td>\n",
       "      <td>New York</td>\n",
       "      <td>10024</td>\n",
       "      <td>East</td>\n",
       "      <td>Office Supplies</td>\n",
       "      <td>Supplies</td>\n",
       "      <td>122.710</td>\n",
       "      <td>7</td>\n",
       "      <td>0.0</td>\n",
       "      <td>36.8130</td>\n",
       "    </tr>\n",
       "    <tr>\n",
       "      <th>3492</th>\n",
       "      <td>Standard Class</td>\n",
       "      <td>Consumer</td>\n",
       "      <td>Carol Stream</td>\n",
       "      <td>Illinois</td>\n",
       "      <td>60188</td>\n",
       "      <td>Central</td>\n",
       "      <td>Office Supplies</td>\n",
       "      <td>Paper</td>\n",
       "      <td>11.168</td>\n",
       "      <td>2</td>\n",
       "      <td>0.2</td>\n",
       "      <td>3.7692</td>\n",
       "    </tr>\n",
       "    <tr>\n",
       "      <th>9551</th>\n",
       "      <td>Standard Class</td>\n",
       "      <td>Consumer</td>\n",
       "      <td>Philadelphia</td>\n",
       "      <td>Pennsylvania</td>\n",
       "      <td>19140</td>\n",
       "      <td>East</td>\n",
       "      <td>Office Supplies</td>\n",
       "      <td>Storage</td>\n",
       "      <td>577.584</td>\n",
       "      <td>6</td>\n",
       "      <td>0.2</td>\n",
       "      <td>43.3188</td>\n",
       "    </tr>\n",
       "    <tr>\n",
       "      <th>9058</th>\n",
       "      <td>Standard Class</td>\n",
       "      <td>Consumer</td>\n",
       "      <td>Los Angeles</td>\n",
       "      <td>California</td>\n",
       "      <td>90045</td>\n",
       "      <td>West</td>\n",
       "      <td>Furniture</td>\n",
       "      <td>Tables</td>\n",
       "      <td>364.776</td>\n",
       "      <td>3</td>\n",
       "      <td>0.2</td>\n",
       "      <td>27.3582</td>\n",
       "    </tr>\n",
       "    <tr>\n",
       "      <th>8057</th>\n",
       "      <td>Standard Class</td>\n",
       "      <td>Consumer</td>\n",
       "      <td>Los Angeles</td>\n",
       "      <td>California</td>\n",
       "      <td>90049</td>\n",
       "      <td>West</td>\n",
       "      <td>Office Supplies</td>\n",
       "      <td>Binders</td>\n",
       "      <td>41.360</td>\n",
       "      <td>5</td>\n",
       "      <td>0.2</td>\n",
       "      <td>13.9590</td>\n",
       "    </tr>\n",
       "  </tbody>\n",
       "</table>\n",
       "</div>"
      ],
      "text/plain": [
       "           Ship_Mode      Segment           City         State Postal_Code  \\\n",
       "3427    Second Class  Home Office      Lancaster          Ohio       43130   \n",
       "5984  Standard Class     Consumer    Hattiesburg   Mississippi       39401   \n",
       "984   Standard Class  Home Office       Pasadena         Texas       77506   \n",
       "7548  Standard Class    Corporate     Huntsville         Texas       77340   \n",
       "6574  Standard Class    Corporate     Plainfield    New Jersey       07060   \n",
       "2600  Standard Class     Consumer  New York City      New York       10024   \n",
       "3492  Standard Class     Consumer   Carol Stream      Illinois       60188   \n",
       "9551  Standard Class     Consumer   Philadelphia  Pennsylvania       19140   \n",
       "9058  Standard Class     Consumer    Los Angeles    California       90045   \n",
       "8057  Standard Class     Consumer    Los Angeles    California       90049   \n",
       "\n",
       "       Region         Category Sub_Category    Sales Quantity  Discount  \\\n",
       "3427     East  Office Supplies        Paper   32.896        4       0.2   \n",
       "5984    South        Furniture  Furnishings  185.580        6       0.0   \n",
       "984   Central  Office Supplies       Labels    7.968        2       0.2   \n",
       "7548  Central  Office Supplies      Binders    0.898        1       0.8   \n",
       "6574     East       Technology     Machines  319.920        8       0.0   \n",
       "2600     East  Office Supplies     Supplies  122.710        7       0.0   \n",
       "3492  Central  Office Supplies        Paper   11.168        2       0.2   \n",
       "9551     East  Office Supplies      Storage  577.584        6       0.2   \n",
       "9058     West        Furniture       Tables  364.776        3       0.2   \n",
       "8057     West  Office Supplies      Binders   41.360        5       0.2   \n",
       "\n",
       "        Profit  \n",
       "3427   11.1024  \n",
       "5984   76.0878  \n",
       "984     2.5896  \n",
       "7548    1.5715  \n",
       "6574  118.3704  \n",
       "2600   36.8130  \n",
       "3492    3.7692  \n",
       "9551   43.3188  \n",
       "9058   27.3582  \n",
       "8057   13.9590  "
      ]
     },
     "execution_count": 37,
     "metadata": {},
     "output_type": "execute_result"
    }
   ],
   "source": [
    "samp_superstore.sample(10)"
   ]
  },
  {
   "cell_type": "markdown",
   "id": "4afc484f",
   "metadata": {},
   "source": [
    "#### What is the percentage distribution of the various modes of shipping? \n",
    "\n",
    "Note:<br>\n",
    "Below are the various shipping modes and their meanings.\n",
    "\n",
    "- Standard Class - Shipping within 6 days.\n",
    "- Second Class - Shipping within 3 days.\n",
    "- First Class - Shipping within 1 day.\n",
    "- Same Day - Shipping on the same day. "
   ]
  },
  {
   "cell_type": "code",
   "execution_count": 38,
   "id": "fb605005",
   "metadata": {},
   "outputs": [],
   "source": [
    "#choose color palette \n",
    "choice_color = sb.color_palette()[9]\n"
   ]
  },
  {
   "cell_type": "code",
   "execution_count": 39,
   "id": "fc09e5ff",
   "metadata": {},
   "outputs": [],
   "source": [
    "#obtain count for each unique value in Ship _Mode\n",
    "mode_count = samp_superstore.Ship_Mode.value_counts() \n",
    "\n",
    "#obtain total count of Ship_Mode in dataset \n",
    "mode_sum = mode_count.sum()\n",
    "\n",
    "#create bar order\n",
    "mode_order = mode_count.index\n"
   ]
  },
  {
   "cell_type": "code",
   "execution_count": 40,
   "id": "3f33bc83",
   "metadata": {
    "scrolled": false
   },
   "outputs": [
    {
     "data": {
      "image/png": "[encoded data removed]",
      "text/plain": [
       "<Figure size 432x288 with 1 Axes>"
      ]
     },
     "metadata": {
      "needs_background": "light"
     },
     "output_type": "display_data"
    }
   ],
   "source": [
    "#visualize percentage distribution of Ship_Mode \n",
    "sb.countplot(data = samp_superstore, y = \"Ship_Mode\", color = choice_color, \n",
    "            order = mode_order);\n",
    "\n",
    "#include percentage text on bars \n",
    "for i in range(mode_count.shape[0]): \n",
    "    count = mode_count[i]\n",
    "    prop_str = '{:0.2f}%'.format(100 * count / mode_sum) \n",
    "    plt.text(count + 1, i, prop_str, va = \"center\", color = \"black\") \n",
    "\n",
    "plt.ylabel(\"Shipping Mode\")\n",
    "plt.grid(False)    \n"
   ]
  },
  {
   "cell_type": "markdown",
   "id": "71ea322d",
   "metadata": {},
   "source": [
    "#### Observations \n",
    "\n",
    "- `Standard Class` has the highest percentage.\n",
    "- There is a decrease in percentage of use from `Standard Class` -> `Second Class` -> `First Class` -> `Same Day`.\n",
    "- By far more customers use the `Standard Class` mode of shipping, and only a very few use `Same Day`. "
   ]
  },
  {
   "cell_type": "markdown",
   "id": "e10def99",
   "metadata": {},
   "source": [
    "#### In what segment was the most sales made?"
   ]
  },
  {
   "cell_type": "code",
   "execution_count": 41,
   "id": "7c1eab6f",
   "metadata": {},
   "outputs": [],
   "source": [
    "#choose color \n",
    "color6 = sb.color_palette()[7]"
   ]
  },
  {
   "cell_type": "code",
   "execution_count": 42,
   "id": "89840de8",
   "metadata": {},
   "outputs": [],
   "source": [
    "#obtain count of each unique value in Segment\n",
    "seg_count = samp_superstore.Segment.value_counts() \n",
    "\n",
    "#obtain total count of Ship_Mode in dataset \n",
    "seg_sum = seg_count.sum()\n",
    "\n",
    "#create bar order\n",
    "seg_order = seg_count.index\n"
   ]
  },
  {
   "cell_type": "code",
   "execution_count": 43,
   "id": "56aac174",
   "metadata": {
    "scrolled": true
   },
   "outputs": [
    {
     "data": {
      "image/png": "[encoded data removed]",
      "text/plain": [
       "<Figure size 360x576 with 1 Axes>"
      ]
     },
     "metadata": {
      "needs_background": "light"
     },
     "output_type": "display_data"
    }
   ],
   "source": [
    "#set figure size\n",
    "plt.figure(figsize = (5,8))\n",
    "\n",
    "#visualize distribution of Ship_Mode \n",
    "sb.countplot(data = samp_superstore, x = \"Segment\", color = color6, \n",
    "            order = seg_order);\n",
    "\n",
    "#include text on bars \n",
    "locs, labels = plt.xticks(rotation = 90)\n",
    "for loc, label in zip(locs, labels): \n",
    "    count = seg_count[label.get_text()]\n",
    "    count_str = '{}'.format(count)\n",
    "    plt.text(loc, count + 5, count_str, ha = \"center\", color = \"black\");\n",
    "             \n",
    "\n",
    "plt.grid(False)  \n",
    "            "
   ]
  },
  {
   "cell_type": "markdown",
   "id": "564a43ed",
   "metadata": {},
   "source": [
    "#### Observations \n",
    "\n",
    "- More products are purchased for consumer use than for corporate and home office.\n",
    "- Products are least purchased for home office."
   ]
  },
  {
   "cell_type": "markdown",
   "id": "7652e60b",
   "metadata": {},
   "source": [
    "#### What state has the highest sales frequency?"
   ]
  },
  {
   "cell_type": "code",
   "execution_count": 44,
   "id": "1f586d9c",
   "metadata": {},
   "outputs": [],
   "source": [
    "#choose color palette \n",
    "base_color = sb.color_palette()[0]\n"
   ]
  },
  {
   "cell_type": "code",
   "execution_count": 45,
   "id": "d93b7b1d",
   "metadata": {
    "scrolled": true
   },
   "outputs": [
    {
     "data": {
      "image/png": "[encoded data removed]",
      "text/plain": [
       "<Figure size 360x720 with 1 Axes>"
      ]
     },
     "metadata": {
      "needs_background": "light"
     },
     "output_type": "display_data"
    }
   ],
   "source": [
    "#set figure size\n",
    "plt.figure(figsize = (5,10))\n",
    "\n",
    "#set order\n",
    "state_order = samp_superstore.State.value_counts().index\n",
    "\n",
    "#visualize State distribution\n",
    "sb.countplot(data = samp_superstore, y = \"State\", color = base_color,\n",
    "            order = state_order); \n",
    "\n",
    "plt.grid(False)\n"
   ]
  },
  {
   "cell_type": "markdown",
   "id": "acf45263",
   "metadata": {},
   "source": [
    "#### Observations \n",
    "\n",
    "- Most customers reside in the state of California.\n",
    "- A significant number of customers also reside in New York and Texas.\n",
    "- Purchases are barely made by people residing in Maine, North Dakota, West Virginia, and Wyoming."
   ]
  },
  {
   "cell_type": "markdown",
   "id": "b26eff63",
   "metadata": {},
   "source": [
    "#### What is the regional distribution of the sales made?"
   ]
  },
  {
   "cell_type": "code",
   "execution_count": 46,
   "id": "8f7099c3",
   "metadata": {},
   "outputs": [],
   "source": [
    "#choose color \n",
    "color4 = sb.color_palette()[5]"
   ]
  },
  {
   "cell_type": "code",
   "execution_count": 47,
   "id": "cb689990",
   "metadata": {},
   "outputs": [
    {
     "data": {
      "image/png": "[encoded data removed]",
      "text/plain": [
       "<Figure size 432x288 with 1 Axes>"
      ]
     },
     "metadata": {
      "needs_background": "light"
     },
     "output_type": "display_data"
    }
   ],
   "source": [
    "#obtain order \n",
    "reg_order = samp_superstore.Region.value_counts().index\n",
    "\n",
    "#visualize\n",
    "sb.countplot(data = samp_superstore, x = \"Region\", color = color4, \n",
    "             order = reg_order);\n",
    "\n",
    "plt.grid(False)\n"
   ]
  },
  {
   "cell_type": "markdown",
   "id": "bd256dec",
   "metadata": {},
   "source": [
    "#### Observations\n",
    "\n",
    "- There is a significant number of customers in each region.\n",
    "- There are more customers in the West than in other regions.\n",
    "- There is a decrease in customers from the West -> East -> Central -> South."
   ]
  },
  {
   "cell_type": "markdown",
   "id": "5cfad154",
   "metadata": {},
   "source": [
    "#### What is the categorical distribution of the products sold?"
   ]
  },
  {
   "cell_type": "code",
   "execution_count": 48,
   "id": "aa49fefd",
   "metadata": {},
   "outputs": [],
   "source": [
    "#set order of bars \n",
    "cat_order = samp_superstore.Category.value_counts().index"
   ]
  },
  {
   "cell_type": "code",
   "execution_count": 49,
   "id": "8bb65437",
   "metadata": {},
   "outputs": [
    {
     "data": {
      "image/png": "[encoded data removed]",
      "text/plain": [
       "<Figure size 432x288 with 1 Axes>"
      ]
     },
     "metadata": {
      "needs_background": "light"
     },
     "output_type": "display_data"
    }
   ],
   "source": [
    "#visualize Category of products sold\n",
    "sb.countplot(data = samp_superstore, x = \"Category\", color = base_color, \n",
    "            order = cat_order);\n",
    "\n",
    "plt.grid(False)\n",
    "             "
   ]
  },
  {
   "cell_type": "markdown",
   "id": "e1c9ad6d",
   "metadata": {},
   "source": [
    "#### Observations\n",
    "\n",
    "- The majority of products purchased are office supplies. \n",
    "- Furniture pieces purchased are less than half of the number of office supplies purchased.\n",
    "- Technology products are the least purchased."
   ]
  },
  {
   "cell_type": "markdown",
   "id": "b96652ca",
   "metadata": {},
   "source": [
    "#### What is the distribution of the `Office Supplies` products sold?"
   ]
  },
  {
   "cell_type": "code",
   "execution_count": 50,
   "id": "ea049de0",
   "metadata": {},
   "outputs": [],
   "source": [
    "#filter out rows for which the products are in the office supplies category\n",
    "office_supplies = samp_superstore[samp_superstore[\"Category\"] == \"Office Supplies\"]\n",
    "\n",
    "#set order for office supplies subcategories \n",
    "office_sup_order = office_supplies.Sub_Category.value_counts().index\n",
    "\n",
    "#choose bar color \n",
    "color5 = sb.color_palette()[6]\n"
   ]
  },
  {
   "cell_type": "code",
   "execution_count": 51,
   "id": "e907a9a1",
   "metadata": {
    "scrolled": true
   },
   "outputs": [
    {
     "data": {
      "image/png": "[encoded data removed]",
      "text/plain": [
       "<Figure size 432x288 with 1 Axes>"
      ]
     },
     "metadata": {
      "needs_background": "light"
     },
     "output_type": "display_data"
    }
   ],
   "source": [
    "#visualize \n",
    "sb.countplot(data = office_supplies, y = \"Sub_Category\", color = color5,\n",
    "             order = office_sup_order); \n",
    "\n",
    "plt.grid(False)\n"
   ]
  },
  {
   "cell_type": "markdown",
   "id": "f8fcefcd",
   "metadata": {},
   "source": [
    "#### What is the `Sales` values distribution?"
   ]
  },
  {
   "cell_type": "code",
   "execution_count": 52,
   "id": "aa4ea22d",
   "metadata": {},
   "outputs": [
    {
     "data": {
      "text/plain": [
       "count     9921.000000\n",
       "mean       226.864776\n",
       "std        613.003068\n",
       "min          0.444000\n",
       "25%         17.150000\n",
       "50%         53.952000\n",
       "75%        208.160000\n",
       "max      22638.480000\n",
       "Name: Sales, dtype: float64"
      ]
     },
     "execution_count": 52,
     "metadata": {},
     "output_type": "execute_result"
    }
   ],
   "source": [
    "#obtain the summary statistics of the Sales features\n",
    "samp_superstore.Sales.describe() \n"
   ]
  },
  {
   "cell_type": "code",
   "execution_count": 53,
   "id": "0b0021ec",
   "metadata": {},
   "outputs": [],
   "source": [
    "#set bin edges \n",
    "bin_edges = np.arange(0, samp_superstore.Sales.max() + 500, 500)\n"
   ]
  },
  {
   "cell_type": "code",
   "execution_count": 54,
   "id": "77cc57a9",
   "metadata": {
    "scrolled": false
   },
   "outputs": [
    {
     "data": {
      "image/png": "[encoded data removed]",
      "text/plain": [
       "<Figure size 432x288 with 1 Axes>"
      ]
     },
     "metadata": {
      "needs_background": "light"
     },
     "output_type": "display_data"
    }
   ],
   "source": [
    "#visualize the Sales column\n",
    "plt.hist(data = samp_superstore, x = \"Sales\", bins = bin_edges); \n",
    "\n",
    "#transform the y-axis to a log scale\n",
    "plt.yscale(\"log\")\n",
    "\n",
    "#create ticks for y-axis\n",
    "y_ticks = [1, 3, 5, 10, 30, 50, 100, 300, 500, 1000, 3000, 5000,\n",
    "           10000] \n",
    "y_labels = [\"{}\".format(y_tick) for y_tick in y_ticks]\n",
    "plt.yticks(y_ticks, y_labels);\n",
    "\n",
    "#label the x-axis\n",
    "plt.xlabel(\"Sales ($)\") \n",
    "\n",
    "plt.grid(False)\n"
   ]
  },
  {
   "cell_type": "markdown",
   "id": "53b222bc",
   "metadata": {},
   "source": [
    "The `Sales` values are skewed to the right, with some outliers after values in the range of \\\\$0-5000. Next, the `Sales` values will be visualized without the outliers. "
   ]
  },
  {
   "cell_type": "code",
   "execution_count": 55,
   "id": "04646110",
   "metadata": {},
   "outputs": [
    {
     "data": {
      "image/png": "[encoded data removed]",
      "text/plain": [
       "<Figure size 432x288 with 1 Axes>"
      ]
     },
     "metadata": {
      "needs_background": "light"
     },
     "output_type": "display_data"
    }
   ],
   "source": [
    "#visualize the Sales column\n",
    "plt.hist(data = samp_superstore, x = \"Sales\", bins = bin_edges); \n",
    "\n",
    "#transform the y-axis to a log scale\n",
    "plt.yscale(\"log\")\n",
    "\n",
    "#create ticks for the y-axis\n",
    "y_ticks = [1, 3, 5, 10, 30, 50, 100, 300, 500, 1000, 3000, 5000,\n",
    "           10000] \n",
    "y_labels = [\"{}\".format(y_tick) for y_tick in y_ticks] \n",
    "plt.yticks(y_ticks, y_labels)\n",
    "\n",
    "#limit the x-axis \n",
    "plt.xlim(0, 5000);\n",
    "\n",
    "#label the x-axis \n",
    "plt.xlabel(\"Sales ($)\") \n",
    "\n",
    "plt.grid(False)\n"
   ]
  },
  {
   "cell_type": "markdown",
   "id": "50749021",
   "metadata": {},
   "source": [
    "#### What is the distribution of the quantity of products sold? "
   ]
  },
  {
   "cell_type": "code",
   "execution_count": 56,
   "id": "3a5315cc",
   "metadata": {
    "scrolled": true
   },
   "outputs": [
    {
     "data": {
      "image/png": "[encoded data removed]",
      "text/plain": [
       "<Figure size 432x288 with 1 Axes>"
      ]
     },
     "metadata": {
      "needs_background": "light"
     },
     "output_type": "display_data"
    }
   ],
   "source": [
    "#visual Quantity of products sold\n",
    "sb.countplot(data = samp_superstore, x = \"Quantity\", color = choice_color);\n",
    "\n",
    "plt.grid(False)"
   ]
  },
  {
   "cell_type": "markdown",
   "id": "3346e378",
   "metadata": {},
   "source": [
    "#### What is the highest discount given? "
   ]
  },
  {
   "cell_type": "code",
   "execution_count": 57,
   "id": "3d5260a7",
   "metadata": {
    "scrolled": true
   },
   "outputs": [
    {
     "data": {
      "text/plain": [
       "count    9921.000000\n",
       "mean        0.156289\n",
       "std         0.206497\n",
       "min         0.000000\n",
       "25%         0.000000\n",
       "50%         0.200000\n",
       "75%         0.200000\n",
       "max         0.800000\n",
       "Name: Discount, dtype: float64"
      ]
     },
     "execution_count": 57,
     "metadata": {},
     "output_type": "execute_result"
    }
   ],
   "source": [
    "#obtain descriptive statistics of Discount column \n",
    "samp_superstore.Discount.describe()\n"
   ]
  },
  {
   "cell_type": "code",
   "execution_count": 58,
   "id": "59ca5884",
   "metadata": {},
   "outputs": [],
   "source": [
    "#create bin edges \n",
    "bin_edges = np.arange(0, 0.8 + 0.2, 0.1)\n"
   ]
  },
  {
   "cell_type": "code",
   "execution_count": 59,
   "id": "01e29059",
   "metadata": {
    "scrolled": true
   },
   "outputs": [
    {
     "data": {
      "image/png": "[encoded data removed]",
      "text/plain": [
       "<Figure size 432x288 with 1 Axes>"
      ]
     },
     "metadata": {
      "needs_background": "light"
     },
     "output_type": "display_data"
    }
   ],
   "source": [
    "#visualize Discount \n",
    "plt.hist(data = samp_superstore, x = \"Discount\", bins = bin_edges); \n",
    "\n",
    "#create ticks \n",
    "ticks = [0, 0.1, 0.2, 0.3, 0.4, 0.5, 0.6, 0.7, 0.8, 0.9]\n",
    "labels = [\"{}\".format(tick) for tick in ticks]\n",
    "\n",
    "plt.xticks(ticks, labels)\n",
    "plt.xlabel(\"Discount ($)\");\n",
    "\n",
    "plt.grid(False)\n"
   ]
  },
  {
   "cell_type": "markdown",
   "id": "ba4aa9a7",
   "metadata": {},
   "source": [
    "#### What is the distribution of the profit made from sales? "
   ]
  },
  {
   "cell_type": "code",
   "execution_count": 60,
   "id": "ac8c9551",
   "metadata": {
    "scrolled": false
   },
   "outputs": [
    {
     "data": {
      "text/plain": [
       "count    9921.000000\n",
       "mean       58.964413\n",
       "std       222.765965\n",
       "min         0.000000\n",
       "25%         5.301000\n",
       "50%        13.882800\n",
       "75%        42.495000\n",
       "max      8399.976000\n",
       "Name: Profit, dtype: float64"
      ]
     },
     "execution_count": 60,
     "metadata": {},
     "output_type": "execute_result"
    }
   ],
   "source": [
    "#obtain descriptive statistics for the Profit column\n",
    "samp_superstore.Profit.describe()"
   ]
  },
  {
   "cell_type": "code",
   "execution_count": 61,
   "id": "599eb9e8",
   "metadata": {},
   "outputs": [],
   "source": [
    "#create bin edges\n",
    "bin_edges = np.arange(0, samp_superstore.Profit.max() + 500, 500) \n"
   ]
  },
  {
   "cell_type": "code",
   "execution_count": 62,
   "id": "c1966ceb",
   "metadata": {
    "scrolled": true
   },
   "outputs": [
    {
     "data": {
      "image/png": "[encoded data removed]",
      "text/plain": [
       "<Figure size 432x288 with 1 Axes>"
      ]
     },
     "metadata": {
      "needs_background": "light"
     },
     "output_type": "display_data"
    }
   ],
   "source": [
    "#visualize\n",
    "plt.hist(data = samp_superstore, x = \"Profit\", bins = bin_edges); \n",
    "\n",
    "plt.xlabel(\"Profit ($)\")\n",
    "plt.grid(False);\n"
   ]
  },
  {
   "cell_type": "markdown",
   "id": "92e22da0",
   "metadata": {},
   "source": [
    "From the plot above, the profit yielded from most products fall within the range of \\\\$0-2000. To get a better understanding of the profit distribution, visualizations will be created for profit yields above and below \\\\$1000. "
   ]
  },
  {
   "cell_type": "code",
   "execution_count": 63,
   "id": "7c350bb2",
   "metadata": {},
   "outputs": [
    {
     "data": {
      "text/html": [
       "<div>\n",
       "<style scoped>\n",
       "    .dataframe tbody tr th:only-of-type {\n",
       "        vertical-align: middle;\n",
       "    }\n",
       "\n",
       "    .dataframe tbody tr th {\n",
       "        vertical-align: top;\n",
       "    }\n",
       "\n",
       "    .dataframe thead th {\n",
       "        text-align: right;\n",
       "    }\n",
       "</style>\n",
       "<table border=\"1\" class=\"dataframe\">\n",
       "  <thead>\n",
       "    <tr style=\"text-align: right;\">\n",
       "      <th></th>\n",
       "      <th>Ship_Mode</th>\n",
       "      <th>Segment</th>\n",
       "      <th>City</th>\n",
       "      <th>State</th>\n",
       "      <th>Postal_Code</th>\n",
       "      <th>Region</th>\n",
       "      <th>Category</th>\n",
       "      <th>Sub_Category</th>\n",
       "      <th>Sales</th>\n",
       "      <th>Quantity</th>\n",
       "      <th>Discount</th>\n",
       "      <th>Profit</th>\n",
       "    </tr>\n",
       "  </thead>\n",
       "  <tbody>\n",
       "    <tr>\n",
       "      <th>27</th>\n",
       "      <td>Standard Class</td>\n",
       "      <td>Consumer</td>\n",
       "      <td>Philadelphia</td>\n",
       "      <td>Pennsylvania</td>\n",
       "      <td>19140</td>\n",
       "      <td>East</td>\n",
       "      <td>Furniture</td>\n",
       "      <td>Bookcases</td>\n",
       "      <td>3083.430</td>\n",
       "      <td>7</td>\n",
       "      <td>0.5</td>\n",
       "      <td>1665.0522</td>\n",
       "    </tr>\n",
       "    <tr>\n",
       "      <th>165</th>\n",
       "      <td>Standard Class</td>\n",
       "      <td>Consumer</td>\n",
       "      <td>San Antonio</td>\n",
       "      <td>Texas</td>\n",
       "      <td>78207</td>\n",
       "      <td>Central</td>\n",
       "      <td>Technology</td>\n",
       "      <td>Machines</td>\n",
       "      <td>8159.952</td>\n",
       "      <td>8</td>\n",
       "      <td>0.4</td>\n",
       "      <td>1359.9920</td>\n",
       "    </tr>\n",
       "    <tr>\n",
       "      <th>318</th>\n",
       "      <td>Standard Class</td>\n",
       "      <td>Home Office</td>\n",
       "      <td>New York City</td>\n",
       "      <td>New York</td>\n",
       "      <td>10024</td>\n",
       "      <td>East</td>\n",
       "      <td>Technology</td>\n",
       "      <td>Machines</td>\n",
       "      <td>3991.980</td>\n",
       "      <td>2</td>\n",
       "      <td>0.0</td>\n",
       "      <td>1995.9900</td>\n",
       "    </tr>\n",
       "    <tr>\n",
       "      <th>353</th>\n",
       "      <td>First Class</td>\n",
       "      <td>Home Office</td>\n",
       "      <td>New York City</td>\n",
       "      <td>New York</td>\n",
       "      <td>10009</td>\n",
       "      <td>East</td>\n",
       "      <td>Office Supplies</td>\n",
       "      <td>Binders</td>\n",
       "      <td>4355.168</td>\n",
       "      <td>4</td>\n",
       "      <td>0.2</td>\n",
       "      <td>1415.4296</td>\n",
       "    </tr>\n",
       "    <tr>\n",
       "      <th>509</th>\n",
       "      <td>Standard Class</td>\n",
       "      <td>Consumer</td>\n",
       "      <td>Atlanta</td>\n",
       "      <td>Georgia</td>\n",
       "      <td>30318</td>\n",
       "      <td>South</td>\n",
       "      <td>Office Supplies</td>\n",
       "      <td>Binders</td>\n",
       "      <td>6354.950</td>\n",
       "      <td>5</td>\n",
       "      <td>0.0</td>\n",
       "      <td>3177.4750</td>\n",
       "    </tr>\n",
       "    <tr>\n",
       "      <th>...</th>\n",
       "      <td>...</td>\n",
       "      <td>...</td>\n",
       "      <td>...</td>\n",
       "      <td>...</td>\n",
       "      <td>...</td>\n",
       "      <td>...</td>\n",
       "      <td>...</td>\n",
       "      <td>...</td>\n",
       "      <td>...</td>\n",
       "      <td>...</td>\n",
       "      <td>...</td>\n",
       "      <td>...</td>\n",
       "    </tr>\n",
       "    <tr>\n",
       "      <th>8858</th>\n",
       "      <td>Standard Class</td>\n",
       "      <td>Corporate</td>\n",
       "      <td>Sacramento</td>\n",
       "      <td>California</td>\n",
       "      <td>95823</td>\n",
       "      <td>West</td>\n",
       "      <td>Office Supplies</td>\n",
       "      <td>Binders</td>\n",
       "      <td>5083.960</td>\n",
       "      <td>5</td>\n",
       "      <td>0.2</td>\n",
       "      <td>1906.4850</td>\n",
       "    </tr>\n",
       "    <tr>\n",
       "      <th>8990</th>\n",
       "      <td>Standard Class</td>\n",
       "      <td>Corporate</td>\n",
       "      <td>Springfield</td>\n",
       "      <td>Missouri</td>\n",
       "      <td>65807</td>\n",
       "      <td>Central</td>\n",
       "      <td>Technology</td>\n",
       "      <td>Copiers</td>\n",
       "      <td>4899.930</td>\n",
       "      <td>7</td>\n",
       "      <td>0.0</td>\n",
       "      <td>2302.9671</td>\n",
       "    </tr>\n",
       "    <tr>\n",
       "      <th>9270</th>\n",
       "      <td>Standard Class</td>\n",
       "      <td>Consumer</td>\n",
       "      <td>New York City</td>\n",
       "      <td>New York</td>\n",
       "      <td>10035</td>\n",
       "      <td>East</td>\n",
       "      <td>Office Supplies</td>\n",
       "      <td>Binders</td>\n",
       "      <td>4305.552</td>\n",
       "      <td>6</td>\n",
       "      <td>0.2</td>\n",
       "      <td>1453.1238</td>\n",
       "    </tr>\n",
       "    <tr>\n",
       "      <th>9741</th>\n",
       "      <td>Standard Class</td>\n",
       "      <td>Corporate</td>\n",
       "      <td>Burlington</td>\n",
       "      <td>Vermont</td>\n",
       "      <td>05408</td>\n",
       "      <td>East</td>\n",
       "      <td>Furniture</td>\n",
       "      <td>Bookcases</td>\n",
       "      <td>4404.900</td>\n",
       "      <td>5</td>\n",
       "      <td>0.0</td>\n",
       "      <td>1013.1270</td>\n",
       "    </tr>\n",
       "    <tr>\n",
       "      <th>9774</th>\n",
       "      <td>Standard Class</td>\n",
       "      <td>Consumer</td>\n",
       "      <td>San Antonio</td>\n",
       "      <td>Texas</td>\n",
       "      <td>78207</td>\n",
       "      <td>Central</td>\n",
       "      <td>Office Supplies</td>\n",
       "      <td>Binders</td>\n",
       "      <td>2177.584</td>\n",
       "      <td>8</td>\n",
       "      <td>0.8</td>\n",
       "      <td>3701.8928</td>\n",
       "    </tr>\n",
       "  </tbody>\n",
       "</table>\n",
       "<p>62 rows × 12 columns</p>\n",
       "</div>"
      ],
      "text/plain": [
       "           Ship_Mode      Segment           City         State Postal_Code  \\\n",
       "27    Standard Class     Consumer   Philadelphia  Pennsylvania       19140   \n",
       "165   Standard Class     Consumer    San Antonio         Texas       78207   \n",
       "318   Standard Class  Home Office  New York City      New York       10024   \n",
       "353      First Class  Home Office  New York City      New York       10009   \n",
       "509   Standard Class     Consumer        Atlanta       Georgia       30318   \n",
       "...              ...          ...            ...           ...         ...   \n",
       "8858  Standard Class    Corporate     Sacramento    California       95823   \n",
       "8990  Standard Class    Corporate    Springfield      Missouri       65807   \n",
       "9270  Standard Class     Consumer  New York City      New York       10035   \n",
       "9741  Standard Class    Corporate     Burlington       Vermont       05408   \n",
       "9774  Standard Class     Consumer    San Antonio         Texas       78207   \n",
       "\n",
       "       Region         Category Sub_Category     Sales Quantity  Discount  \\\n",
       "27       East        Furniture    Bookcases  3083.430        7       0.5   \n",
       "165   Central       Technology     Machines  8159.952        8       0.4   \n",
       "318      East       Technology     Machines  3991.980        2       0.0   \n",
       "353      East  Office Supplies      Binders  4355.168        4       0.2   \n",
       "509     South  Office Supplies      Binders  6354.950        5       0.0   \n",
       "...       ...              ...          ...       ...      ...       ...   \n",
       "8858     West  Office Supplies      Binders  5083.960        5       0.2   \n",
       "8990  Central       Technology      Copiers  4899.930        7       0.0   \n",
       "9270     East  Office Supplies      Binders  4305.552        6       0.2   \n",
       "9741     East        Furniture    Bookcases  4404.900        5       0.0   \n",
       "9774  Central  Office Supplies      Binders  2177.584        8       0.8   \n",
       "\n",
       "         Profit  \n",
       "27    1665.0522  \n",
       "165   1359.9920  \n",
       "318   1995.9900  \n",
       "353   1415.4296  \n",
       "509   3177.4750  \n",
       "...         ...  \n",
       "8858  1906.4850  \n",
       "8990  2302.9671  \n",
       "9270  1453.1238  \n",
       "9741  1013.1270  \n",
       "9774  3701.8928  \n",
       "\n",
       "[62 rows x 12 columns]"
      ]
     },
     "execution_count": 63,
     "metadata": {},
     "output_type": "execute_result"
    }
   ],
   "source": [
    "#filter out rows with Profit greater than $1000\n",
    "greater_profit = samp_superstore.query('Profit > 1000')\n",
    "greater_profit\n",
    "                      "
   ]
  },
  {
   "cell_type": "code",
   "execution_count": 64,
   "id": "bef4b442",
   "metadata": {},
   "outputs": [
    {
     "data": {
      "text/plain": [
       "count      62.000000\n",
       "mean     2123.646611\n",
       "std      1498.602046\n",
       "min      1002.783600\n",
       "25%      1193.006475\n",
       "50%      1469.616750\n",
       "75%      2392.219725\n",
       "max      8399.976000\n",
       "Name: Profit, dtype: float64"
      ]
     },
     "execution_count": 64,
     "metadata": {},
     "output_type": "execute_result"
    }
   ],
   "source": [
    "#obtain descriptive statistics for the Profit column \n",
    "#in the filtered out subset \n",
    "greater_profit.Profit.describe()\n"
   ]
  },
  {
   "cell_type": "code",
   "execution_count": 65,
   "id": "984af648",
   "metadata": {},
   "outputs": [
    {
     "data": {
      "image/png": "[encoded data removed]",
      "text/plain": [
       "<Figure size 1080x360 with 2 Axes>"
      ]
     },
     "metadata": {
      "needs_background": "light"
     },
     "output_type": "display_data"
    }
   ],
   "source": [
    "#set figure size for the plots\n",
    "plt.figure(figsize = (15, 5))\n",
    "\n",
    "\n",
    "#subplot for profit values below $1000\n",
    "plt.subplot(1, 2, 1)\n",
    "\n",
    "#create bin edges\n",
    "bin_edges1 = np.arange(0, 1000 + 50, 50)\n",
    "\n",
    "#visualize\n",
    "plt.hist(data = samp_superstore, x = \"Profit\", bins = bin_edges1); \n",
    "plt.xlim(0, 450)\n",
    "plt.xlabel(\"Profit ($)\")\n",
    "plt.title(\"Profit Below $1000\")\n",
    "plt.grid(False);\n",
    "\n",
    "\n",
    "#subplot for Profit values above $1000 \n",
    "plt.subplot(1, 2, 2) \n",
    "\n",
    "#create bin edges \n",
    "bin_edges2 = np.arange(1000, samp_superstore.Profit.max() + 500, 500)\n",
    "\n",
    "#visualize \n",
    "plt.hist(data = greater_profit, x = \"Profit\", bins = bin_edges2); \n",
    "plt.xlabel(\"Profit ($)\")\n",
    "plt.title(\"Profit Above $1000\")\n",
    "plt.grid(False);\n"
   ]
  }
 ],
 "metadata": {
  "kernelspec": {
   "display_name": "Python 3 (ipykernel)",
   "language": "python",
   "name": "python3"
  },
  "language_info": {
   "codemirror_mode": {
    "name": "ipython",
    "version": 3
   },
   "file_extension": ".py",
   "mimetype": "text/x-python",
   "name": "python",
   "nbconvert_exporter": "python",
   "pygments_lexer": "ipython3",
   "version": "3.9.7"
  }
 },
 "nbformat": 4,
 "nbformat_minor": 5
}
