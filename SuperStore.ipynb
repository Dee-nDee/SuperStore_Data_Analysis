{
 "cells": [
  {
   "cell_type": "code",
   "execution_count": 1,
   "id": "141c6054",
   "metadata": {},
   "outputs": [],
   "source": [
    "#import libraries \n",
    "import numpy as np \n",
    "import pandas as pd \n",
    "import matplotlib.pyplot as plt \n",
    "import seaborn as sb \n",
    "sb.set_style(\"darkgrid\") \n",
    "\n",
    "%matplotlib inline "
   ]
  },
  {
   "cell_type": "code",
   "execution_count": 2,
   "id": "303420b4",
   "metadata": {},
   "outputs": [],
   "source": [
    "#load dataset \n",
    "samp_superstore = pd.read_csv(\"sample_superstore.csv\") \n"
   ]
  },
  {
   "cell_type": "markdown",
   "id": "80ad4e73",
   "metadata": {},
   "source": [
    "## Data Wrangling\n",
    "\n",
    "### Assessment"
   ]
  },
  {
   "cell_type": "code",
   "execution_count": 3,
   "id": "7635b7fe",
   "metadata": {},
   "outputs": [
    {
     "data": {
      "text/html": [
       "<div>\n",
       "<style scoped>\n",
       "    .dataframe tbody tr th:only-of-type {\n",
       "        vertical-align: middle;\n",
       "    }\n",
       "\n",
       "    .dataframe tbody tr th {\n",
       "        vertical-align: top;\n",
       "    }\n",
       "\n",
       "    .dataframe thead th {\n",
       "        text-align: right;\n",
       "    }\n",
       "</style>\n",
       "<table border=\"1\" class=\"dataframe\">\n",
       "  <thead>\n",
       "    <tr style=\"text-align: right;\">\n",
       "      <th></th>\n",
       "      <th>Ship Mode</th>\n",
       "      <th>Segment</th>\n",
       "      <th>Country</th>\n",
       "      <th>City</th>\n",
       "      <th>State</th>\n",
       "      <th>Postal Code</th>\n",
       "      <th>Region</th>\n",
       "      <th>Category</th>\n",
       "      <th>Sub-Category</th>\n",
       "      <th>Sales</th>\n",
       "      <th>Quantity</th>\n",
       "      <th>Discount</th>\n",
       "      <th>Profit</th>\n",
       "    </tr>\n",
       "  </thead>\n",
       "  <tbody>\n",
       "    <tr>\n",
       "      <th>7346</th>\n",
       "      <td>Standard Class</td>\n",
       "      <td>Corporate</td>\n",
       "      <td>United States</td>\n",
       "      <td>Jacksonville</td>\n",
       "      <td>Florida</td>\n",
       "      <td>32216</td>\n",
       "      <td>South</td>\n",
       "      <td>Office Supplies</td>\n",
       "      <td>Art</td>\n",
       "      <td>13.584</td>\n",
       "      <td>1</td>\n",
       "      <td>0.2</td>\n",
       "      <td>1.3584</td>\n",
       "    </tr>\n",
       "    <tr>\n",
       "      <th>5770</th>\n",
       "      <td>Standard Class</td>\n",
       "      <td>Corporate</td>\n",
       "      <td>United States</td>\n",
       "      <td>Los Angeles</td>\n",
       "      <td>California</td>\n",
       "      <td>90032</td>\n",
       "      <td>West</td>\n",
       "      <td>Furniture</td>\n",
       "      <td>Furnishings</td>\n",
       "      <td>14.910</td>\n",
       "      <td>3</td>\n",
       "      <td>0.0</td>\n",
       "      <td>4.6221</td>\n",
       "    </tr>\n",
       "    <tr>\n",
       "      <th>6121</th>\n",
       "      <td>Standard Class</td>\n",
       "      <td>Corporate</td>\n",
       "      <td>United States</td>\n",
       "      <td>Springfield</td>\n",
       "      <td>Oregon</td>\n",
       "      <td>97477</td>\n",
       "      <td>West</td>\n",
       "      <td>Furniture</td>\n",
       "      <td>Bookcases</td>\n",
       "      <td>72.588</td>\n",
       "      <td>2</td>\n",
       "      <td>0.7</td>\n",
       "      <td>-128.2388</td>\n",
       "    </tr>\n",
       "    <tr>\n",
       "      <th>2379</th>\n",
       "      <td>Standard Class</td>\n",
       "      <td>Home Office</td>\n",
       "      <td>United States</td>\n",
       "      <td>Lorain</td>\n",
       "      <td>Ohio</td>\n",
       "      <td>44052</td>\n",
       "      <td>East</td>\n",
       "      <td>Office Supplies</td>\n",
       "      <td>Fasteners</td>\n",
       "      <td>7.216</td>\n",
       "      <td>2</td>\n",
       "      <td>0.2</td>\n",
       "      <td>1.7138</td>\n",
       "    </tr>\n",
       "    <tr>\n",
       "      <th>6239</th>\n",
       "      <td>Standard Class</td>\n",
       "      <td>Consumer</td>\n",
       "      <td>United States</td>\n",
       "      <td>San Jose</td>\n",
       "      <td>California</td>\n",
       "      <td>95123</td>\n",
       "      <td>West</td>\n",
       "      <td>Office Supplies</td>\n",
       "      <td>Storage</td>\n",
       "      <td>360.380</td>\n",
       "      <td>2</td>\n",
       "      <td>0.0</td>\n",
       "      <td>93.6988</td>\n",
       "    </tr>\n",
       "    <tr>\n",
       "      <th>6146</th>\n",
       "      <td>Standard Class</td>\n",
       "      <td>Corporate</td>\n",
       "      <td>United States</td>\n",
       "      <td>San Francisco</td>\n",
       "      <td>California</td>\n",
       "      <td>94122</td>\n",
       "      <td>West</td>\n",
       "      <td>Office Supplies</td>\n",
       "      <td>Art</td>\n",
       "      <td>11.760</td>\n",
       "      <td>4</td>\n",
       "      <td>0.0</td>\n",
       "      <td>3.1752</td>\n",
       "    </tr>\n",
       "    <tr>\n",
       "      <th>9635</th>\n",
       "      <td>First Class</td>\n",
       "      <td>Consumer</td>\n",
       "      <td>United States</td>\n",
       "      <td>Everett</td>\n",
       "      <td>Massachusetts</td>\n",
       "      <td>2149</td>\n",
       "      <td>East</td>\n",
       "      <td>Furniture</td>\n",
       "      <td>Chairs</td>\n",
       "      <td>1628.820</td>\n",
       "      <td>9</td>\n",
       "      <td>0.0</td>\n",
       "      <td>260.6112</td>\n",
       "    </tr>\n",
       "    <tr>\n",
       "      <th>8444</th>\n",
       "      <td>Standard Class</td>\n",
       "      <td>Home Office</td>\n",
       "      <td>United States</td>\n",
       "      <td>Philadelphia</td>\n",
       "      <td>Pennsylvania</td>\n",
       "      <td>19120</td>\n",
       "      <td>East</td>\n",
       "      <td>Technology</td>\n",
       "      <td>Phones</td>\n",
       "      <td>68.238</td>\n",
       "      <td>3</td>\n",
       "      <td>0.4</td>\n",
       "      <td>-12.5103</td>\n",
       "    </tr>\n",
       "    <tr>\n",
       "      <th>3208</th>\n",
       "      <td>Standard Class</td>\n",
       "      <td>Corporate</td>\n",
       "      <td>United States</td>\n",
       "      <td>Fresno</td>\n",
       "      <td>California</td>\n",
       "      <td>93727</td>\n",
       "      <td>West</td>\n",
       "      <td>Technology</td>\n",
       "      <td>Accessories</td>\n",
       "      <td>349.950</td>\n",
       "      <td>5</td>\n",
       "      <td>0.0</td>\n",
       "      <td>118.9830</td>\n",
       "    </tr>\n",
       "    <tr>\n",
       "      <th>5541</th>\n",
       "      <td>Standard Class</td>\n",
       "      <td>Consumer</td>\n",
       "      <td>United States</td>\n",
       "      <td>Chicago</td>\n",
       "      <td>Illinois</td>\n",
       "      <td>60653</td>\n",
       "      <td>Central</td>\n",
       "      <td>Office Supplies</td>\n",
       "      <td>Supplies</td>\n",
       "      <td>22.344</td>\n",
       "      <td>3</td>\n",
       "      <td>0.2</td>\n",
       "      <td>2.5137</td>\n",
       "    </tr>\n",
       "  </tbody>\n",
       "</table>\n",
       "</div>"
      ],
      "text/plain": [
       "           Ship Mode      Segment        Country           City  \\\n",
       "7346  Standard Class    Corporate  United States   Jacksonville   \n",
       "5770  Standard Class    Corporate  United States    Los Angeles   \n",
       "6121  Standard Class    Corporate  United States    Springfield   \n",
       "2379  Standard Class  Home Office  United States         Lorain   \n",
       "6239  Standard Class     Consumer  United States       San Jose   \n",
       "6146  Standard Class    Corporate  United States  San Francisco   \n",
       "9635     First Class     Consumer  United States        Everett   \n",
       "8444  Standard Class  Home Office  United States   Philadelphia   \n",
       "3208  Standard Class    Corporate  United States         Fresno   \n",
       "5541  Standard Class     Consumer  United States        Chicago   \n",
       "\n",
       "              State  Postal Code   Region         Category Sub-Category  \\\n",
       "7346        Florida        32216    South  Office Supplies          Art   \n",
       "5770     California        90032     West        Furniture  Furnishings   \n",
       "6121         Oregon        97477     West        Furniture    Bookcases   \n",
       "2379           Ohio        44052     East  Office Supplies    Fasteners   \n",
       "6239     California        95123     West  Office Supplies      Storage   \n",
       "6146     California        94122     West  Office Supplies          Art   \n",
       "9635  Massachusetts         2149     East        Furniture       Chairs   \n",
       "8444   Pennsylvania        19120     East       Technology       Phones   \n",
       "3208     California        93727     West       Technology  Accessories   \n",
       "5541       Illinois        60653  Central  Office Supplies     Supplies   \n",
       "\n",
       "         Sales  Quantity  Discount    Profit  \n",
       "7346    13.584         1       0.2    1.3584  \n",
       "5770    14.910         3       0.0    4.6221  \n",
       "6121    72.588         2       0.7 -128.2388  \n",
       "2379     7.216         2       0.2    1.7138  \n",
       "6239   360.380         2       0.0   93.6988  \n",
       "6146    11.760         4       0.0    3.1752  \n",
       "9635  1628.820         9       0.0  260.6112  \n",
       "8444    68.238         3       0.4  -12.5103  \n",
       "3208   349.950         5       0.0  118.9830  \n",
       "5541    22.344         3       0.2    2.5137  "
      ]
     },
     "execution_count": 3,
     "metadata": {},
     "output_type": "execute_result"
    }
   ],
   "source": [
    "#view random samples of the dataset \n",
    "samp_superstore.sample(10)"
   ]
  },
  {
   "cell_type": "code",
   "execution_count": 4,
   "id": "9ceebb6b",
   "metadata": {},
   "outputs": [
    {
     "name": "stdout",
     "output_type": "stream",
     "text": [
      "<class 'pandas.core.frame.DataFrame'>\n",
      "RangeIndex: 9994 entries, 0 to 9993\n",
      "Data columns (total 13 columns):\n",
      " #   Column        Non-Null Count  Dtype  \n",
      "---  ------        --------------  -----  \n",
      " 0   Ship Mode     9994 non-null   object \n",
      " 1   Segment       9994 non-null   object \n",
      " 2   Country       9994 non-null   object \n",
      " 3   City          9994 non-null   object \n",
      " 4   State         9994 non-null   object \n",
      " 5   Postal Code   9994 non-null   int64  \n",
      " 6   Region        9994 non-null   object \n",
      " 7   Category      9994 non-null   object \n",
      " 8   Sub-Category  9994 non-null   object \n",
      " 9   Sales         9994 non-null   float64\n",
      " 10  Quantity      9994 non-null   int64  \n",
      " 11  Discount      9994 non-null   float64\n",
      " 12  Profit        9994 non-null   float64\n",
      "dtypes: float64(3), int64(2), object(8)\n",
      "memory usage: 1015.1+ KB\n"
     ]
    }
   ],
   "source": [
    "#obtain descriptive summary of the dataset \n",
    "samp_superstore.info()\n"
   ]
  },
  {
   "cell_type": "code",
   "execution_count": 5,
   "id": "a3bbe8dc",
   "metadata": {},
   "outputs": [
    {
     "data": {
      "text/plain": [
       "17"
      ]
     },
     "execution_count": 5,
     "metadata": {},
     "output_type": "execute_result"
    }
   ],
   "source": [
    "#check for number of duplicate rows \n",
    "samp_superstore.duplicated().sum()"
   ]
  },
  {
   "cell_type": "code",
   "execution_count": 6,
   "id": "65526ce2",
   "metadata": {
    "scrolled": true
   },
   "outputs": [
    {
     "data": {
      "text/plain": [
       "array(['Second Class', 'Standard Class', 'First Class', 'Same Day'],\n",
       "      dtype=object)"
      ]
     },
     "execution_count": 6,
     "metadata": {},
     "output_type": "execute_result"
    }
   ],
   "source": [
    "#obtain unique values of ship mode \n",
    "samp_superstore[\"Ship Mode\"].unique()"
   ]
  },
  {
   "cell_type": "code",
   "execution_count": 7,
   "id": "1721db09",
   "metadata": {},
   "outputs": [
    {
     "data": {
      "text/plain": [
       "array(['Consumer', 'Corporate', 'Home Office'], dtype=object)"
      ]
     },
     "execution_count": 7,
     "metadata": {},
     "output_type": "execute_result"
    }
   ],
   "source": [
    "#obtain unique Segment values \n",
    "samp_superstore[\"Segment\"].unique()"
   ]
  },
  {
   "cell_type": "code",
   "execution_count": 8,
   "id": "54dcf881",
   "metadata": {},
   "outputs": [
    {
     "data": {
      "text/plain": [
       "array(['United States'], dtype=object)"
      ]
     },
     "execution_count": 8,
     "metadata": {},
     "output_type": "execute_result"
    }
   ],
   "source": [
    "#obtain the unique values in Country\n",
    "samp_superstore.Country.unique()\n"
   ]
  },
  {
   "cell_type": "code",
   "execution_count": 9,
   "id": "6948675f",
   "metadata": {},
   "outputs": [
    {
     "data": {
      "text/plain": [
       "array(['South', 'West', 'Central', 'East'], dtype=object)"
      ]
     },
     "execution_count": 9,
     "metadata": {},
     "output_type": "execute_result"
    }
   ],
   "source": [
    "# obtain the unique Regions\n",
    "samp_superstore.Region.unique()\n"
   ]
  },
  {
   "cell_type": "code",
   "execution_count": 10,
   "id": "ccaef770",
   "metadata": {
    "scrolled": false
   },
   "outputs": [
    {
     "data": {
      "text/plain": [
       "Office Supplies    6026\n",
       "Furniture          2121\n",
       "Technology         1847\n",
       "Name: Category, dtype: int64"
      ]
     },
     "execution_count": 10,
     "metadata": {},
     "output_type": "execute_result"
    }
   ],
   "source": [
    "#obtain the number of unique values in Category\n",
    "samp_superstore.Category.value_counts()\n"
   ]
  },
  {
   "cell_type": "code",
   "execution_count": 11,
   "id": "314f0396",
   "metadata": {},
   "outputs": [
    {
     "data": {
      "text/plain": [
       "17"
      ]
     },
     "execution_count": 11,
     "metadata": {},
     "output_type": "execute_result"
    }
   ],
   "source": [
    "#obtain the number of unique values in  Sub-Category column \n",
    "samp_superstore[\"Sub-Category\"].nunique()\n"
   ]
  },
  {
   "cell_type": "code",
   "execution_count": 12,
   "id": "17505c36",
   "metadata": {},
   "outputs": [
    {
     "data": {
      "text/plain": [
       "Binders        1523\n",
       "Paper          1370\n",
       "Furnishings     957\n",
       "Phones          889\n",
       "Storage         846\n",
       "Art             796\n",
       "Accessories     775\n",
       "Chairs          617\n",
       "Appliances      466\n",
       "Labels          364\n",
       "Tables          319\n",
       "Envelopes       254\n",
       "Bookcases       228\n",
       "Fasteners       217\n",
       "Supplies        190\n",
       "Machines        115\n",
       "Copiers          68\n",
       "Name: Sub-Category, dtype: int64"
      ]
     },
     "execution_count": 12,
     "metadata": {},
     "output_type": "execute_result"
    }
   ],
   "source": [
    "#obtain the count of the unique values in Sub-Category\n",
    "samp_superstore[\"Sub-Category\"].value_counts()\n"
   ]
  },
  {
   "cell_type": "code",
   "execution_count": 13,
   "id": "eded9a18",
   "metadata": {},
   "outputs": [
    {
     "data": {
      "text/plain": [
       "49"
      ]
     },
     "execution_count": 13,
     "metadata": {},
     "output_type": "execute_result"
    }
   ],
   "source": [
    "#check for number of unique States \n",
    "samp_superstore.State.nunique()\n"
   ]
  },
  {
   "cell_type": "code",
   "execution_count": 14,
   "id": "cc461997",
   "metadata": {},
   "outputs": [
    {
     "data": {
      "text/plain": [
       "531"
      ]
     },
     "execution_count": 14,
     "metadata": {},
     "output_type": "execute_result"
    }
   ],
   "source": [
    "#check number of Cities \n",
    "samp_superstore.City.nunique()\n"
   ]
  },
  {
   "cell_type": "markdown",
   "id": "0c8167d8",
   "metadata": {},
   "source": [
    "### Issues \n",
    "\n",
    "- Put underscore in place of spaces in column names \n",
    "- All country column values are \"United States\"\n",
    "- Dtype of Postal Code as int\n",
    "- Zip codes with less than 5 numeric digits \n",
    "- \"-\" in column name (eg Sub-Category)\n",
    "- Duplicated rows"
   ]
  },
  {
   "cell_type": "markdown",
   "id": "4206ecdf",
   "metadata": {},
   "source": [
    "### Cleaning"
   ]
  },
  {
   "cell_type": "markdown",
   "id": "4c9d2b2c",
   "metadata": {},
   "source": [
    "One of the issues noted in the assessment phase is the presence of a space between the words of some column names.\n",
    "\n",
    "Below, the space in those column names will be replaced with an underscore (\"\\_\") as this allows more flexibility in the use of the column names."
   ]
  },
  {
   "cell_type": "code",
   "execution_count": 15,
   "id": "21b829f1",
   "metadata": {},
   "outputs": [],
   "source": [
    "#create a list containing column names \n",
    "col_names = list(samp_superstore.columns) \n"
   ]
  },
  {
   "cell_type": "code",
   "execution_count": 16,
   "id": "68bfd2b1",
   "metadata": {},
   "outputs": [],
   "source": [
    "def replace_space(df, list_col_names): \n",
    "    \"\"\"\n",
    "    This function replaces the space in the column names \n",
    "    with spaces between their words with '_'\n",
    "    \"\"\"\n",
    "    for col_name in list_col_names: \n",
    "        if \" \" in col_name: \n",
    "            new_name = col_name.replace(\" \", \"_\") \n",
    "            df.rename(columns = {col_name : new_name}, \n",
    "                      inplace = True) \n",
    "    return df \n"
   ]
  },
  {
   "cell_type": "code",
   "execution_count": 17,
   "id": "96ed3c0a",
   "metadata": {},
   "outputs": [
    {
     "data": {
      "text/html": [
       "<div>\n",
       "<style scoped>\n",
       "    .dataframe tbody tr th:only-of-type {\n",
       "        vertical-align: middle;\n",
       "    }\n",
       "\n",
       "    .dataframe tbody tr th {\n",
       "        vertical-align: top;\n",
       "    }\n",
       "\n",
       "    .dataframe thead th {\n",
       "        text-align: right;\n",
       "    }\n",
       "</style>\n",
       "<table border=\"1\" class=\"dataframe\">\n",
       "  <thead>\n",
       "    <tr style=\"text-align: right;\">\n",
       "      <th></th>\n",
       "      <th>Ship_Mode</th>\n",
       "      <th>Segment</th>\n",
       "      <th>Country</th>\n",
       "      <th>City</th>\n",
       "      <th>State</th>\n",
       "      <th>Postal_Code</th>\n",
       "      <th>Region</th>\n",
       "      <th>Category</th>\n",
       "      <th>Sub-Category</th>\n",
       "      <th>Sales</th>\n",
       "      <th>Quantity</th>\n",
       "      <th>Discount</th>\n",
       "      <th>Profit</th>\n",
       "    </tr>\n",
       "  </thead>\n",
       "  <tbody>\n",
       "    <tr>\n",
       "      <th>0</th>\n",
       "      <td>Second Class</td>\n",
       "      <td>Consumer</td>\n",
       "      <td>United States</td>\n",
       "      <td>Henderson</td>\n",
       "      <td>Kentucky</td>\n",
       "      <td>42420</td>\n",
       "      <td>South</td>\n",
       "      <td>Furniture</td>\n",
       "      <td>Bookcases</td>\n",
       "      <td>261.96</td>\n",
       "      <td>2</td>\n",
       "      <td>0.0</td>\n",
       "      <td>41.9136</td>\n",
       "    </tr>\n",
       "  </tbody>\n",
       "</table>\n",
       "</div>"
      ],
      "text/plain": [
       "      Ship_Mode   Segment        Country       City     State  Postal_Code  \\\n",
       "0  Second Class  Consumer  United States  Henderson  Kentucky        42420   \n",
       "\n",
       "  Region   Category Sub-Category   Sales  Quantity  Discount   Profit  \n",
       "0  South  Furniture    Bookcases  261.96         2       0.0  41.9136  "
      ]
     },
     "execution_count": 17,
     "metadata": {},
     "output_type": "execute_result"
    }
   ],
   "source": [
    "#apply the function \n",
    "samp_superstore = replace_space(samp_superstore, col_names) \n",
    "\n",
    "#confirm change \n",
    "samp_superstore.head(1)"
   ]
  },
  {
   "cell_type": "markdown",
   "id": "77e1d9b0",
   "metadata": {},
   "source": [
    "Since all the transactions made were to customers living in the United States, the `Country` column will be dropped as it is unnecessary, and only contains repetitive values."
   ]
  },
  {
   "cell_type": "code",
   "execution_count": 18,
   "id": "f34cf83d",
   "metadata": {},
   "outputs": [
    {
     "data": {
      "text/plain": [
       "Index(['Ship_Mode', 'Segment', 'City', 'State', 'Postal_Code', 'Region',\n",
       "       'Category', 'Sub-Category', 'Sales', 'Quantity', 'Discount', 'Profit'],\n",
       "      dtype='object')"
      ]
     },
     "execution_count": 18,
     "metadata": {},
     "output_type": "execute_result"
    }
   ],
   "source": [
    "#drop Country column \n",
    "samp_superstore.drop(\"Country\", axis = 1, inplace = True) \n",
    "\n",
    "#confirm \n",
    "samp_superstore.columns"
   ]
  },
  {
   "cell_type": "markdown",
   "id": "56e5d997",
   "metadata": {},
   "source": [
    "The postal code for customers in the dataset has datatype as integer. This will be converted to string datatype as calculations will not be performed on the postal codes."
   ]
  },
  {
   "cell_type": "code",
   "execution_count": 19,
   "id": "be39134e",
   "metadata": {},
   "outputs": [
    {
     "data": {
      "text/plain": [
       "Ship_Mode        object\n",
       "Segment          object\n",
       "City             object\n",
       "State            object\n",
       "Postal_Code      object\n",
       "Region           object\n",
       "Category         object\n",
       "Sub-Category     object\n",
       "Sales           float64\n",
       "Quantity          int64\n",
       "Discount        float64\n",
       "Profit          float64\n",
       "dtype: object"
      ]
     },
     "execution_count": 19,
     "metadata": {},
     "output_type": "execute_result"
    }
   ],
   "source": [
    "#change datatype of Postal_Code from int to string \n",
    "samp_superstore.Postal_Code = samp_superstore.Postal_Code.astype(str)\n",
    "\n",
    "#confirm \n",
    "samp_superstore.dtypes\n"
   ]
  },
  {
   "cell_type": "markdown",
   "id": "857ccfdb",
   "metadata": {},
   "source": [
    "According to this [article](https://www.usatoday.com/story/news/2022/10/03/what-is-a-postal-code-zip/7836090001/), in the United States, postal codes are usually 5-digit characters. During the data assessment though, some postal codes were noticed to have only 4 digits. This may have been a typographical error, so 0 will be added to the front of each incomplete postal code below."
   ]
  },
  {
   "cell_type": "code",
   "execution_count": 20,
   "id": "b019a0bc",
   "metadata": {},
   "outputs": [],
   "source": [
    "def incomplete_code_checker(col_name):\n",
    "    \"\"\"This function returns the number \n",
    "    of codes in a code column with less \n",
    "    than 5 digits\"\"\"\n",
    "    count = 0\n",
    "    for x in col_name:\n",
    "        if len(x) < 5: \n",
    "            count += 1 \n",
    "        else: \n",
    "            count += 0 \n",
    "    return count \n"
   ]
  },
  {
   "cell_type": "code",
   "execution_count": 21,
   "id": "e6ff531f",
   "metadata": {},
   "outputs": [
    {
     "data": {
      "text/plain": [
       "449"
      ]
     },
     "execution_count": 21,
     "metadata": {},
     "output_type": "execute_result"
    }
   ],
   "source": [
    "#apply to Postal_Code \n",
    "incomplete_code_checker(samp_superstore.Postal_Code)\n"
   ]
  },
  {
   "cell_type": "code",
   "execution_count": 22,
   "id": "00b49fc1",
   "metadata": {},
   "outputs": [
    {
     "data": {
      "text/plain": [
       "0"
      ]
     },
     "execution_count": 22,
     "metadata": {},
     "output_type": "execute_result"
    }
   ],
   "source": [
    "#add zero to at the beginning of incomplete postal codes \n",
    "samp_superstore.Postal_Code = samp_superstore.Postal_Code.str.pad(5, fillchar = \"0\")\n",
    "\n",
    "# confirm \n",
    "incomplete_code_checker(samp_superstore.Postal_Code) \n"
   ]
  },
  {
   "cell_type": "markdown",
   "id": "adc4ba75",
   "metadata": {},
   "source": [
    "The column `Sub-Category` will be renamed `Sub_Category` below. This again is to increase the flexibility of use."
   ]
  },
  {
   "cell_type": "code",
   "execution_count": 23,
   "id": "261b993e",
   "metadata": {},
   "outputs": [
    {
     "data": {
      "text/html": [
       "<div>\n",
       "<style scoped>\n",
       "    .dataframe tbody tr th:only-of-type {\n",
       "        vertical-align: middle;\n",
       "    }\n",
       "\n",
       "    .dataframe tbody tr th {\n",
       "        vertical-align: top;\n",
       "    }\n",
       "\n",
       "    .dataframe thead th {\n",
       "        text-align: right;\n",
       "    }\n",
       "</style>\n",
       "<table border=\"1\" class=\"dataframe\">\n",
       "  <thead>\n",
       "    <tr style=\"text-align: right;\">\n",
       "      <th></th>\n",
       "      <th>Ship_Mode</th>\n",
       "      <th>Segment</th>\n",
       "      <th>City</th>\n",
       "      <th>State</th>\n",
       "      <th>Postal_Code</th>\n",
       "      <th>Region</th>\n",
       "      <th>Category</th>\n",
       "      <th>Sub_Category</th>\n",
       "      <th>Sales</th>\n",
       "      <th>Quantity</th>\n",
       "      <th>Discount</th>\n",
       "      <th>Profit</th>\n",
       "    </tr>\n",
       "  </thead>\n",
       "  <tbody>\n",
       "    <tr>\n",
       "      <th>0</th>\n",
       "      <td>Second Class</td>\n",
       "      <td>Consumer</td>\n",
       "      <td>Henderson</td>\n",
       "      <td>Kentucky</td>\n",
       "      <td>42420</td>\n",
       "      <td>South</td>\n",
       "      <td>Furniture</td>\n",
       "      <td>Bookcases</td>\n",
       "      <td>261.96</td>\n",
       "      <td>2</td>\n",
       "      <td>0.0</td>\n",
       "      <td>41.9136</td>\n",
       "    </tr>\n",
       "  </tbody>\n",
       "</table>\n",
       "</div>"
      ],
      "text/plain": [
       "      Ship_Mode   Segment       City     State Postal_Code Region   Category  \\\n",
       "0  Second Class  Consumer  Henderson  Kentucky       42420  South  Furniture   \n",
       "\n",
       "  Sub_Category   Sales  Quantity  Discount   Profit  \n",
       "0    Bookcases  261.96         2       0.0  41.9136  "
      ]
     },
     "execution_count": 23,
     "metadata": {},
     "output_type": "execute_result"
    }
   ],
   "source": [
    "#rename Sub-Category column \n",
    "samp_superstore.rename(columns = {\"Sub-Category\" : \"Sub_Category\"}, inplace = True)\n",
    "\n",
    "#confirm \n",
    "samp_superstore.head(1)\n"
   ]
  },
  {
   "cell_type": "markdown",
   "id": "8e4d21dc",
   "metadata": {},
   "source": [
    "A total of 17 rows were found to be duplicated in the assessment phase and will be dropped below."
   ]
  },
  {
   "cell_type": "code",
   "execution_count": 24,
   "id": "19f776ae",
   "metadata": {},
   "outputs": [
    {
     "data": {
      "text/plain": [
       "0"
      ]
     },
     "execution_count": 24,
     "metadata": {},
     "output_type": "execute_result"
    }
   ],
   "source": [
    "#drop duplicate rows \n",
    "samp_superstore.drop_duplicates(inplace = True)\n",
    "\n",
    "#confirm \n",
    "samp_superstore.duplicated().sum()\n"
   ]
  },
  {
   "cell_type": "markdown",
   "id": "5e09ada8",
   "metadata": {},
   "source": [
    "## Exploratory Data Analysis (EDA)\n",
    "\n",
    "\n",
    "### Univariate Exploration \n",
    "\n",
    "The individual features will be explored to gain a better understanding of the data."
   ]
  },
  {
   "cell_type": "code",
   "execution_count": 25,
   "id": "b2bfb267",
   "metadata": {
    "scrolled": true
   },
   "outputs": [
    {
     "data": {
      "text/html": [
       "<div>\n",
       "<style scoped>\n",
       "    .dataframe tbody tr th:only-of-type {\n",
       "        vertical-align: middle;\n",
       "    }\n",
       "\n",
       "    .dataframe tbody tr th {\n",
       "        vertical-align: top;\n",
       "    }\n",
       "\n",
       "    .dataframe thead th {\n",
       "        text-align: right;\n",
       "    }\n",
       "</style>\n",
       "<table border=\"1\" class=\"dataframe\">\n",
       "  <thead>\n",
       "    <tr style=\"text-align: right;\">\n",
       "      <th></th>\n",
       "      <th>Ship_Mode</th>\n",
       "      <th>Segment</th>\n",
       "      <th>City</th>\n",
       "      <th>State</th>\n",
       "      <th>Postal_Code</th>\n",
       "      <th>Region</th>\n",
       "      <th>Category</th>\n",
       "      <th>Sub_Category</th>\n",
       "      <th>Sales</th>\n",
       "      <th>Quantity</th>\n",
       "      <th>Discount</th>\n",
       "      <th>Profit</th>\n",
       "    </tr>\n",
       "  </thead>\n",
       "  <tbody>\n",
       "    <tr>\n",
       "      <th>4638</th>\n",
       "      <td>First Class</td>\n",
       "      <td>Consumer</td>\n",
       "      <td>Los Angeles</td>\n",
       "      <td>California</td>\n",
       "      <td>90045</td>\n",
       "      <td>West</td>\n",
       "      <td>Office Supplies</td>\n",
       "      <td>Art</td>\n",
       "      <td>47.300</td>\n",
       "      <td>2</td>\n",
       "      <td>0.0</td>\n",
       "      <td>12.2980</td>\n",
       "    </tr>\n",
       "    <tr>\n",
       "      <th>9741</th>\n",
       "      <td>Standard Class</td>\n",
       "      <td>Corporate</td>\n",
       "      <td>Burlington</td>\n",
       "      <td>Vermont</td>\n",
       "      <td>05408</td>\n",
       "      <td>East</td>\n",
       "      <td>Furniture</td>\n",
       "      <td>Bookcases</td>\n",
       "      <td>4404.900</td>\n",
       "      <td>5</td>\n",
       "      <td>0.0</td>\n",
       "      <td>1013.1270</td>\n",
       "    </tr>\n",
       "    <tr>\n",
       "      <th>5389</th>\n",
       "      <td>Second Class</td>\n",
       "      <td>Corporate</td>\n",
       "      <td>Los Angeles</td>\n",
       "      <td>California</td>\n",
       "      <td>90045</td>\n",
       "      <td>West</td>\n",
       "      <td>Office Supplies</td>\n",
       "      <td>Labels</td>\n",
       "      <td>9.820</td>\n",
       "      <td>2</td>\n",
       "      <td>0.0</td>\n",
       "      <td>4.8118</td>\n",
       "    </tr>\n",
       "    <tr>\n",
       "      <th>4060</th>\n",
       "      <td>Standard Class</td>\n",
       "      <td>Consumer</td>\n",
       "      <td>Chicago</td>\n",
       "      <td>Illinois</td>\n",
       "      <td>60610</td>\n",
       "      <td>Central</td>\n",
       "      <td>Technology</td>\n",
       "      <td>Accessories</td>\n",
       "      <td>68.112</td>\n",
       "      <td>3</td>\n",
       "      <td>0.2</td>\n",
       "      <td>17.8794</td>\n",
       "    </tr>\n",
       "    <tr>\n",
       "      <th>3677</th>\n",
       "      <td>Standard Class</td>\n",
       "      <td>Consumer</td>\n",
       "      <td>Clinton</td>\n",
       "      <td>Maryland</td>\n",
       "      <td>20735</td>\n",
       "      <td>East</td>\n",
       "      <td>Office Supplies</td>\n",
       "      <td>Fasteners</td>\n",
       "      <td>15.800</td>\n",
       "      <td>4</td>\n",
       "      <td>0.0</td>\n",
       "      <td>5.0560</td>\n",
       "    </tr>\n",
       "    <tr>\n",
       "      <th>5932</th>\n",
       "      <td>First Class</td>\n",
       "      <td>Consumer</td>\n",
       "      <td>Philadelphia</td>\n",
       "      <td>Pennsylvania</td>\n",
       "      <td>19120</td>\n",
       "      <td>East</td>\n",
       "      <td>Office Supplies</td>\n",
       "      <td>Storage</td>\n",
       "      <td>13.392</td>\n",
       "      <td>3</td>\n",
       "      <td>0.2</td>\n",
       "      <td>1.0044</td>\n",
       "    </tr>\n",
       "    <tr>\n",
       "      <th>9583</th>\n",
       "      <td>Second Class</td>\n",
       "      <td>Consumer</td>\n",
       "      <td>New York City</td>\n",
       "      <td>New York</td>\n",
       "      <td>10024</td>\n",
       "      <td>East</td>\n",
       "      <td>Furniture</td>\n",
       "      <td>Bookcases</td>\n",
       "      <td>400.784</td>\n",
       "      <td>1</td>\n",
       "      <td>0.2</td>\n",
       "      <td>-5.0098</td>\n",
       "    </tr>\n",
       "    <tr>\n",
       "      <th>6004</th>\n",
       "      <td>Standard Class</td>\n",
       "      <td>Consumer</td>\n",
       "      <td>Los Angeles</td>\n",
       "      <td>California</td>\n",
       "      <td>90004</td>\n",
       "      <td>West</td>\n",
       "      <td>Furniture</td>\n",
       "      <td>Furnishings</td>\n",
       "      <td>19.760</td>\n",
       "      <td>4</td>\n",
       "      <td>0.0</td>\n",
       "      <td>8.2992</td>\n",
       "    </tr>\n",
       "    <tr>\n",
       "      <th>3778</th>\n",
       "      <td>Second Class</td>\n",
       "      <td>Home Office</td>\n",
       "      <td>Miami</td>\n",
       "      <td>Florida</td>\n",
       "      <td>33180</td>\n",
       "      <td>South</td>\n",
       "      <td>Technology</td>\n",
       "      <td>Phones</td>\n",
       "      <td>71.976</td>\n",
       "      <td>3</td>\n",
       "      <td>0.2</td>\n",
       "      <td>8.9970</td>\n",
       "    </tr>\n",
       "    <tr>\n",
       "      <th>3733</th>\n",
       "      <td>Standard Class</td>\n",
       "      <td>Corporate</td>\n",
       "      <td>Clinton</td>\n",
       "      <td>Maryland</td>\n",
       "      <td>20735</td>\n",
       "      <td>East</td>\n",
       "      <td>Office Supplies</td>\n",
       "      <td>Binders</td>\n",
       "      <td>65.080</td>\n",
       "      <td>4</td>\n",
       "      <td>0.0</td>\n",
       "      <td>31.8892</td>\n",
       "    </tr>\n",
       "  </tbody>\n",
       "</table>\n",
       "</div>"
      ],
      "text/plain": [
       "           Ship_Mode      Segment           City         State Postal_Code  \\\n",
       "4638     First Class     Consumer    Los Angeles    California       90045   \n",
       "9741  Standard Class    Corporate     Burlington       Vermont       05408   \n",
       "5389    Second Class    Corporate    Los Angeles    California       90045   \n",
       "4060  Standard Class     Consumer        Chicago      Illinois       60610   \n",
       "3677  Standard Class     Consumer        Clinton      Maryland       20735   \n",
       "5932     First Class     Consumer   Philadelphia  Pennsylvania       19120   \n",
       "9583    Second Class     Consumer  New York City      New York       10024   \n",
       "6004  Standard Class     Consumer    Los Angeles    California       90004   \n",
       "3778    Second Class  Home Office          Miami       Florida       33180   \n",
       "3733  Standard Class    Corporate        Clinton      Maryland       20735   \n",
       "\n",
       "       Region         Category Sub_Category     Sales  Quantity  Discount  \\\n",
       "4638     West  Office Supplies          Art    47.300         2       0.0   \n",
       "9741     East        Furniture    Bookcases  4404.900         5       0.0   \n",
       "5389     West  Office Supplies       Labels     9.820         2       0.0   \n",
       "4060  Central       Technology  Accessories    68.112         3       0.2   \n",
       "3677     East  Office Supplies    Fasteners    15.800         4       0.0   \n",
       "5932     East  Office Supplies      Storage    13.392         3       0.2   \n",
       "9583     East        Furniture    Bookcases   400.784         1       0.2   \n",
       "6004     West        Furniture  Furnishings    19.760         4       0.0   \n",
       "3778    South       Technology       Phones    71.976         3       0.2   \n",
       "3733     East  Office Supplies      Binders    65.080         4       0.0   \n",
       "\n",
       "         Profit  \n",
       "4638    12.2980  \n",
       "9741  1013.1270  \n",
       "5389     4.8118  \n",
       "4060    17.8794  \n",
       "3677     5.0560  \n",
       "5932     1.0044  \n",
       "9583    -5.0098  \n",
       "6004     8.2992  \n",
       "3778     8.9970  \n",
       "3733    31.8892  "
      ]
     },
     "execution_count": 25,
     "metadata": {},
     "output_type": "execute_result"
    }
   ],
   "source": [
    "#obtain random rows\n",
    "samp_superstore.sample(10)"
   ]
  },
  {
   "cell_type": "markdown",
   "id": "4afc484f",
   "metadata": {},
   "source": [
    "#### What is the proportional distribution of the various modes of shipping?"
   ]
  },
  {
   "cell_type": "code",
   "execution_count": 26,
   "id": "fb605005",
   "metadata": {},
   "outputs": [],
   "source": [
    "#choose color palette \n",
    "choice_color = sb.color_palette()[9]\n"
   ]
  },
  {
   "cell_type": "code",
   "execution_count": 27,
   "id": "fc09e5ff",
   "metadata": {},
   "outputs": [],
   "source": [
    "#obtain count for each unique value in Ship _Mode\n",
    "mode_count = samp_superstore.Ship_Mode.value_counts() \n",
    "\n",
    "#obtain total count of Ship_Mode in dataset \n",
    "mode_sum = mode_count.sum()\n",
    "\n",
    "#create bar order\n",
    "mode_order = mode_count.index\n"
   ]
  },
  {
   "cell_type": "code",
   "execution_count": 28,
   "id": "3f33bc83",
   "metadata": {
    "scrolled": true
   },
   "outputs": [
    {
     "data": {
      "image/png": "[encoded data removed]",
      "text/plain": [
       "<Figure size 432x288 with 1 Axes>"
      ]
     },
     "metadata": {
      "needs_background": "light"
     },
     "output_type": "display_data"
    }
   ],
   "source": [
    "#visualize proportional distribution of Ship_Mode \n",
    "sb.countplot(data = samp_superstore, y = \"Ship_Mode\", color = choice_color, \n",
    "            order = mode_order);\n",
    "\n",
    "#include proportion text on bars \n",
    "for i in range(mode_count.shape[0]): \n",
    "    count = mode_count[i]\n",
    "    prop_str = '{:0.2f}%'.format(100 * count / mode_sum) \n",
    "    plt.text(count + 1, i, prop_str, va = \"center\", color = \"black\") \n",
    "\n",
    "plt.grid(b = None)    \n"
   ]
  },
  {
   "cell_type": "markdown",
   "id": "e10def99",
   "metadata": {},
   "source": [
    "#### In what segment was the most sales made?"
   ]
  },
  {
   "cell_type": "code",
   "execution_count": 29,
   "id": "7c1eab6f",
   "metadata": {},
   "outputs": [],
   "source": [
    "#choose color \n",
    "color6 = sb.color_palette()[7]"
   ]
  },
  {
   "cell_type": "code",
   "execution_count": 30,
   "id": "89840de8",
   "metadata": {},
   "outputs": [],
   "source": [
    "#obtain count of each unique value in Segment\n",
    "seg_count = samp_superstore.Segment.value_counts() \n",
    "#obtain total count of Ship_Mode in dataset \n",
    "seg_sum = seg_count.sum()\n",
    "\n",
    "#create bar order\n",
    "seg_order = seg_count.index\n"
   ]
  },
  {
   "cell_type": "code",
   "execution_count": 31,
   "id": "56aac174",
   "metadata": {},
   "outputs": [
    {
     "data": {
      "image/png": "[encoded data removed]",
      "text/plain": [
       "<Figure size 360x576 with 1 Axes>"
      ]
     },
     "metadata": {
      "needs_background": "light"
     },
     "output_type": "display_data"
    }
   ],
   "source": [
    "plt.figure(figsize = (5,8))\n",
    "#visualize proportional distribution of Ship_Mode \n",
    "sb.countplot(data = samp_superstore, x = \"Segment\", color = color6, \n",
    "            order = seg_order);\n",
    "\n",
    "#include text on bars \n",
    "locs, labels = plt.xticks(rotation = 90)\n",
    "for loc, label in zip(locs, labels): \n",
    "    count = seg_count[label.get_text()]\n",
    "    count_str = '{}'.format(count)\n",
    "    plt.text(loc, count + 5, count_str, ha = \"center\", color = \"black\");\n",
    "             \n",
    "             "
   ]
  }
 ],
 "metadata": {
  "kernelspec": {
   "display_name": "Python 3 (ipykernel)",
   "language": "python",
   "name": "python3"
  },
  "language_info": {
   "codemirror_mode": {
    "name": "ipython",
    "version": 3
   },
   "file_extension": ".py",
   "mimetype": "text/x-python",
   "name": "python",
   "nbconvert_exporter": "python",
   "pygments_lexer": "ipython3",
   "version": "3.9.7"
  }
 },
 "nbformat": 4,
 "nbformat_minor": 5
}
